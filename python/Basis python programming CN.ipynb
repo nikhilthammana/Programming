{
 "cells": [
  {
   "cell_type": "code",
   "execution_count": 77,
   "id": "efc8b7e3",
   "metadata": {},
   "outputs": [
    {
     "name": "stdout",
     "output_type": "stream",
     "text": [
      "Hello world\n",
      "Hello world\n"
     ]
    }
   ],
   "source": [
    "print(\"Hello world\")\n",
    "print('Hello world')"
   ]
  },
  {
   "cell_type": "code",
   "execution_count": 78,
   "id": "82756a5b",
   "metadata": {},
   "outputs": [
    {
     "name": "stdout",
     "output_type": "stream",
     "text": [
      "15 4 15\n",
      "12\n"
     ]
    }
   ],
   "source": [
    "#variable declaration\n",
    "a=15;\n",
    "a_1=4;\n",
    "_a=5;\n",
    "#1a=6; #invalid syntax\n",
    "print(a,a_1,a)\n",
    "A=12\n",
    "print(A)"
   ]
  },
  {
   "cell_type": "code",
   "execution_count": 79,
   "id": "67dc49c1",
   "metadata": {},
   "outputs": [
    {
     "data": {
      "text/plain": [
       "0.5"
      ]
     },
     "execution_count": 79,
     "metadata": {},
     "output_type": "execute_result"
    }
   ],
   "source": [
    "#addition\n",
    "a=10\n",
    "b=20\n",
    "a+b\n",
    "a-b\n",
    "a*b\n",
    "a/b#it prints only last line we need to keep print"
   ]
  },
  {
   "cell_type": "code",
   "execution_count": 80,
   "id": "ffd958bb",
   "metadata": {},
   "outputs": [
    {
     "name": "stdout",
     "output_type": "stream",
     "text": [
      "30\n",
      "30\n",
      "-10\n",
      "200\n"
     ]
    }
   ],
   "source": [
    "#addition\n",
    "a=10\n",
    "b=20\n",
    "print(a+b) \n",
    "sum1=a+b\n",
    "print(sum1)\n",
    "print(a-b)\n",
    "print(a*b)"
   ]
  },
  {
   "cell_type": "code",
   "execution_count": null,
   "id": "c6fabfc3",
   "metadata": {},
   "outputs": [],
   "source": [
    "#comments\n",
    "#-single line\n",
    "\"\"\"\n",
    "Multiple line comments\n",
    "\"\"\"\n",
    "#another way\n",
    "'''\n",
    "Multi line comments\n",
    "'''\n"
   ]
  },
  {
   "cell_type": "code",
   "execution_count": 81,
   "id": "c140236b",
   "metadata": {},
   "outputs": [
    {
     "name": "stdout",
     "output_type": "stream",
     "text": [
      "<class 'int'>\n",
      "<class 'float'>\n",
      "hello\n",
      "<class 'str'>\n"
     ]
    }
   ],
   "source": [
    "a=5\n",
    "print(type(a))\n",
    "a=2.0\n",
    "print(type(a))\n",
    "a='hello'\n",
    "print(a)\n",
    "print(type(a))"
   ]
  },
  {
   "cell_type": "code",
   "execution_count": 82,
   "id": "e52b761c",
   "metadata": {},
   "outputs": [
    {
     "data": {
      "text/plain": [
       "str"
      ]
     },
     "execution_count": 82,
     "metadata": {},
     "output_type": "execute_result"
    }
   ],
   "source": [
    "type(a)"
   ]
  },
  {
   "cell_type": "code",
   "execution_count": null,
   "id": "8efcc29d",
   "metadata": {},
   "outputs": [],
   "source": [
    "a=2\n",
    "b=3.2\n",
    "c=4+5j\n",
    "print(a,b,c)\n",
    "print(type(c))"
   ]
  },
  {
   "cell_type": "code",
   "execution_count": 83,
   "id": "37465337",
   "metadata": {},
   "outputs": [
    {
     "name": "stdout",
     "output_type": "stream",
     "text": [
      "2960075811248\n",
      "2960075811280\n"
     ]
    }
   ],
   "source": [
    "#address -id()\n",
    "#different address\n",
    "a=5\n",
    "print(id(a))\n",
    "a=a+1\n",
    "print(id(a))\n"
   ]
  },
  {
   "cell_type": "code",
   "execution_count": 84,
   "id": "49716fe7",
   "metadata": {},
   "outputs": [
    {
     "name": "stdout",
     "output_type": "stream",
     "text": [
      "2960075811248\n",
      "2960075811248\n"
     ]
    }
   ],
   "source": [
    "a=5\n",
    "b=5\n",
    "print(id(a))\n",
    "print(id(b))\n",
    "#same address because of same value \n",
    "#optimization -5 to 256\n",
    "#if two varibale storing same value having same address\n"
   ]
  },
  {
   "cell_type": "code",
   "execution_count": 85,
   "id": "d0f0031a",
   "metadata": {},
   "outputs": [
    {
     "name": "stdout",
     "output_type": "stream",
     "text": [
      "100000000000000000000000000000000000000000000000\n",
      "<class 'int'>\n"
     ]
    }
   ],
   "source": [
    "#limit of integer\n",
    "#no limit\n",
    "a=100000000000000000000000000000000000000000000000\n",
    "print(a)\n",
    "print(type(a))"
   ]
  },
  {
   "cell_type": "code",
   "execution_count": 86,
   "id": "f78b4d91",
   "metadata": {},
   "outputs": [
    {
     "name": "stdout",
     "output_type": "stream",
     "text": [
      "8\n",
      "0.6\n",
      "3\n",
      "15\n",
      "243\n",
      "6\n",
      "0\n"
     ]
    }
   ],
   "source": [
    "#arthimetic operator\n",
    "print(3+5)\n",
    "print(3/5)#floating point divison\n",
    "print(3%5)\n",
    "print(3*5)\n",
    "print(3**5)#Exponenation\n",
    "print(3^5)\n",
    "print(3//5)#integer divison\n"
   ]
  },
  {
   "cell_type": "code",
   "execution_count": 87,
   "id": "e9d50ca9",
   "metadata": {},
   "outputs": [
    {
     "name": "stdout",
     "output_type": "stream",
     "text": [
      "2.5\n",
      "12\n"
     ]
    }
   ],
   "source": [
    "#operator precidence\n",
    "#bodmas or pedmas rule\n",
    "print(5*2/4)\n",
    "print(4+2*4)"
   ]
  },
  {
   "cell_type": "code",
   "execution_count": 88,
   "id": "ae06e8c8",
   "metadata": {},
   "outputs": [
    {
     "name": "stdout",
     "output_type": "stream",
     "text": [
      "24\n"
     ]
    }
   ],
   "source": [
    "#simpleinterest to lowest integer\n",
    "p=100\n",
    "r=12\n",
    "t=2\n",
    "si=(p*r*t)//100\n",
    "print(si)"
   ]
  },
  {
   "cell_type": "code",
   "execution_count": 89,
   "id": "b25a73cf",
   "metadata": {},
   "outputs": [
    {
     "name": "stdout",
     "output_type": "stream",
     "text": [
      "37\n"
     ]
    }
   ],
   "source": [
    "#fah to celsius scale\n",
    "f=100\n",
    "c=(f-32)*5//9\n",
    "print(c)"
   ]
  },
  {
   "cell_type": "code",
   "execution_count": 90,
   "id": "0e2350d8",
   "metadata": {},
   "outputs": [
    {
     "name": "stdout",
     "output_type": "stream",
     "text": [
      "5\n",
      "6\n",
      "11\n",
      "3\n",
      "3\n"
     ]
    }
   ],
   "source": [
    "#taking inputs from user\n",
    "a=int(input())\n",
    "b=int(input())\n",
    "print(a+b)\n",
    "c=input()\n",
    "print(c)"
   ]
  },
  {
   "cell_type": "code",
   "execution_count": 91,
   "id": "6daa82e7",
   "metadata": {},
   "outputs": [
    {
     "name": "stdout",
     "output_type": "stream",
     "text": [
      "1\n",
      "2\n",
      "12\n"
     ]
    }
   ],
   "source": [
    "a=input()\n",
    "b=input()\n",
    "print(a+b)\n",
    "#concation"
   ]
  },
  {
   "cell_type": "code",
   "execution_count": 93,
   "id": "a8162406",
   "metadata": {},
   "outputs": [
    {
     "name": "stdout",
     "output_type": "stream",
     "text": [
      "1\n",
      "2\n",
      "3\n",
      "2.0\n"
     ]
    }
   ],
   "source": [
    "a=int(input())\n",
    "b=int(input())\n",
    "c=int(input())\n",
    "print((a+b+c)/3)"
   ]
  },
  {
   "cell_type": "code",
   "execution_count": 94,
   "id": "37b44431",
   "metadata": {},
   "outputs": [
    {
     "name": "stdout",
     "output_type": "stream",
     "text": [
      "5\n",
      "2\n",
      "32\n"
     ]
    }
   ],
   "source": [
    "#Find X raised to power N\n",
    "a=int(input())\n",
    "b=int(input())\n",
    "print(b**a)\n"
   ]
  },
  {
   "cell_type": "code",
   "execution_count": 95,
   "id": "46f86eb5",
   "metadata": {},
   "outputs": [
    {
     "name": "stdout",
     "output_type": "stream",
     "text": [
      "1\n",
      "1\n",
      "3\n",
      "3\n",
      "4\n"
     ]
    }
   ],
   "source": [
    "\"\"\"\n",
    "Rectangular Area\n",
    "Send Feedback\n",
    "You are given a rectangle in a plane. The corner coordinates of this rectangle is provided to you. You have to print the amount of area of the plane covered by this rectangles.\n",
    "The end coordinates are provided as four integral values: x1, y1, x2, y2. It is given that x1 < x2 and y1 < y2.\n",
    "Input format:\n",
    "The first line of input contains an integer x1 (1 <= x1 <= 10)\n",
    "The second line of input contains an integer y1 (1 <= y1 <= 10) \n",
    "The third line of input contains an integer x2 (1 <= x2 <= 10)\n",
    "The fourth line of input contains an integer y2 (1 <= y2 <= 10) \n",
    "Constraints:\n",
    "Time Limit: 1 second\n",
    "Output format:\n",
    "The first and only line of output contains the result.  \n",
    "Sample Input:\n",
    "1\n",
    "1\n",
    "3\n",
    "3\n",
    "Sample Output:\n",
    "4\n",
    "\"\"\"\n",
    "x1=int(input())\n",
    "y1=int(input())\n",
    "x2=int(input())\n",
    "y2=int(input())\n",
    "print((x2-x1)*(y2-y1))"
   ]
  },
  {
   "cell_type": "code",
   "execution_count": 96,
   "id": "ad8eaab6",
   "metadata": {},
   "outputs": [
    {
     "name": "stdout",
     "output_type": "stream",
     "text": [
      "1\n",
      "3\n",
      "5\n",
      "2\n"
     ]
    }
   ],
   "source": [
    "\"\"\"\n",
    "Arithmetic Progression\n",
    "Send Feedback\n",
    "You are given first three entries of an arithmetic progression. You have to calculate the common difference and print it.\n",
    "Input format:\n",
    "The first line of input contains an integer a (1 <= a <= 100)\n",
    "The second line of input contains an integer b (1 <= b <= 100) \n",
    "The third line of input contains an integer c (1 <= c <= 100) \n",
    "Constraints:\n",
    "Time Limit: 1 second\n",
    "Output format:\n",
    "The first and only line of output contains the result.  \n",
    "Sample Input:\n",
    "1\n",
    "3\n",
    "5\n",
    "Sample Output:\n",
    "2\n",
    "\"\"\"\n",
    "a=int(input())\n",
    "b=int(input())\n",
    "c=int(input())\n",
    "print(c-b)"
   ]
  },
  {
   "cell_type": "code",
   "execution_count": 97,
   "id": "ebef939c",
   "metadata": {},
   "outputs": [
    {
     "name": "stdout",
     "output_type": "stream",
     "text": [
      "<class 'bool'>\n",
      "0\n",
      "False\n",
      "True\n",
      "False\n",
      "True\n",
      "False\n",
      "True\n"
     ]
    }
   ],
   "source": [
    "#Boolean-checking conditions like if(a>b)\n",
    "#relational opertors\n",
    "# >,<,>=,<=,==,!=\n",
    "\"\"\"\n",
    "True\n",
    "False\n",
    "\"\"\"\n",
    "a=True\n",
    "print(type(a))\n",
    "a=5\n",
    "b=6\n",
    "print(int(a>b))\n",
    "print(a>b)\n",
    "print(a<b)\n",
    "print(a>=b)\n",
    "print(a<=b)\n",
    "print(a==b)\n",
    "print(a!=b)\n",
    "\n"
   ]
  },
  {
   "cell_type": "markdown",
   "id": "86b64244",
   "metadata": {},
   "source": [
    "### logical operators"
   ]
  },
  {
   "cell_type": "code",
   "execution_count": 98,
   "id": "a08d2bb9",
   "metadata": {},
   "outputs": [
    {
     "name": "stdout",
     "output_type": "stream",
     "text": [
      "False\n",
      "True\n",
      "False\n",
      "True\n",
      "True\n"
     ]
    }
   ],
   "source": [
    "# AND OR NOT\n",
    "\n",
    "a=10\n",
    "b=20\n",
    "c1=a>10\n",
    "c2=b>10\n",
    "#both c1 and c2 are true\n",
    "print(c1)\n",
    "print(c2)\n",
    "print(c1 and c2)\n",
    "print(c1 or c2)\n",
    "print(not(c1))\n"
   ]
  },
  {
   "cell_type": "markdown",
   "id": "f6b0779e",
   "metadata": {},
   "source": [
    "### IF ELSE"
   ]
  },
  {
   "cell_type": "code",
   "execution_count": 99,
   "id": "80650577",
   "metadata": {},
   "outputs": [
    {
     "name": "stdout",
     "output_type": "stream",
     "text": [
      "Iam inside if\n",
      "Iam inside else\n"
     ]
    }
   ],
   "source": [
    "a=True\n",
    "if a:\n",
    "    print(\"Iam inside if\")\n",
    "else:\n",
    "    print(\"Iam inside else\")\n",
    "a=False\n",
    "if a:\n",
    "    print(\"Iam inside if\")\n",
    "else:\n",
    "    print(\"Iam inside else\")"
   ]
  },
  {
   "cell_type": "code",
   "execution_count": 100,
   "id": "a6fa8ac8",
   "metadata": {},
   "outputs": [
    {
     "name": "stdout",
     "output_type": "stream",
     "text": [
      "2\n",
      "Even\n"
     ]
    }
   ],
   "source": [
    "#check number is even or odd\n",
    "n=int(input())\n",
    "if(n%2==0):\n",
    "    print(\"Even\")\n",
    "else:\n",
    "    print(\"Odd\")"
   ]
  },
  {
   "cell_type": "code",
   "execution_count": 101,
   "id": "a87ef346",
   "metadata": {},
   "outputs": [
    {
     "name": "stdout",
     "output_type": "stream",
     "text": [
      "10\n",
      "20\n",
      "No\n",
      "No\n"
     ]
    }
   ],
   "source": [
    "a=int(input())\n",
    "b=int(input())\n",
    "if(a>10 and b>10):\n",
    "    print(\"Yes\")\n",
    "else:\n",
    "    print(\"No\")\n",
    "#method-2\n",
    "if(a>10):\n",
    "    if(b>10):\n",
    "        print(\"Yes\")\n",
    "    else:\n",
    "        print(\"No\")\n",
    "else:\n",
    "    print(\"No\")"
   ]
  },
  {
   "cell_type": "markdown",
   "id": "c36a535a",
   "metadata": {},
   "source": [
    "### ELSEIF"
   ]
  },
  {
   "cell_type": "code",
   "execution_count": 102,
   "id": "7d547476",
   "metadata": {},
   "outputs": [
    {
     "name": "stdout",
     "output_type": "stream",
     "text": [
      "10\n",
      "12\n",
      "11\n",
      "B is Large\n"
     ]
    }
   ],
   "source": [
    "a=int(input())\n",
    "b=int(input())\n",
    "c=int(input())\n",
    "if(a>=b and a>=c):\n",
    "    print(\"A is large\")\n",
    "elif(b>=a and b>=c):\n",
    "    print(\"B is Large\")\n",
    "elif(c>=a and c>=b):\n",
    "    print(\"C is large\")"
   ]
  },
  {
   "cell_type": "code",
   "execution_count": 103,
   "id": "7c2bcaac",
   "metadata": {},
   "outputs": [
    {
     "name": "stdout",
     "output_type": "stream",
     "text": [
      "15\n",
      "Red\n",
      "5\n",
      "Green\n"
     ]
    }
   ],
   "source": [
    "a=int(input())\n",
    "if(a>10):\n",
    "    print(\"Red\")\n",
    "elif(a>=5 and a<=10):\n",
    "    print(\"Green\")\n",
    "elif(a>0 and a<5):\n",
    "    print(\"Yellow\")\n",
    "else:\n",
    "    print(\"Dont do any thing\")\n",
    "#reducingcomplixity\n",
    "a=int(input())\n",
    "if(a>10):\n",
    "    print(\"Red\")\n",
    "elif(a>=5):\n",
    "    print(\"Green\")\n",
    "elif(a>0):\n",
    "    print(\"Yellow\")\n",
    "else:\n",
    "    print(\"Dont do any thing\")\n"
   ]
  },
  {
   "cell_type": "markdown",
   "id": "1f2fbe1b",
   "metadata": {},
   "source": [
    "### Nested if"
   ]
  },
  {
   "cell_type": "code",
   "execution_count": 104,
   "id": "fc876e94",
   "metadata": {},
   "outputs": [
    {
     "name": "stdout",
     "output_type": "stream",
     "text": [
      "2\n",
      "N is even\n"
     ]
    }
   ],
   "source": [
    "n=int(input())\n",
    "if n%2==0:\n",
    "    print(\"N is even\")\n",
    "    if n==0:\n",
    "        print(\"N is zero\")\n",
    "else:\n",
    "    print(\"N is odd\")\n"
   ]
  },
  {
   "cell_type": "code",
   "execution_count": 105,
   "id": "33d7e962",
   "metadata": {},
   "outputs": [
    {
     "name": "stdout",
     "output_type": "stream",
     "text": [
      "2\n",
      "4\n",
      "1\n"
     ]
    }
   ],
   "source": [
    "m=int(input())\n",
    "n=int(input())\n",
    "if n%2==0:\n",
    "    if(m%2==0):\n",
    "        print(\"1\")\n",
    "    else:\n",
    "        print(\"2\")\n",
    "else:\n",
    "    print(3)"
   ]
  },
  {
   "cell_type": "code",
   "execution_count": 106,
   "id": "3bef42f6",
   "metadata": {},
   "outputs": [
    {
     "name": "stdout",
     "output_type": "stream",
     "text": [
      "1 2 3 4 5 6 7 8 9 10 11 12 13 14 15 16 17 18 19 20 21 22 23 24 25 26 27 28 29 30 31 32 33 34 35 36 37 38 39 40 41 42 43 44 45 46 47 48 49 50 "
     ]
    }
   ],
   "source": [
    "i=1 \n",
    "while(i<=50):\n",
    "    print(i,end=\" \")\n",
    "    i=i+1"
   ]
  },
  {
   "cell_type": "code",
   "execution_count": 107,
   "id": "a53ff035",
   "metadata": {},
   "outputs": [
    {
     "name": "stdout",
     "output_type": "stream",
     "text": [
      "5\n",
      "prime\n"
     ]
    }
   ],
   "source": [
    "#prime number\n",
    "a=int(input())\n",
    "i=2\n",
    "flag=1;\n",
    "while(i<a):\n",
    "    if(a%i==0):\n",
    "        flag=0\n",
    "        break\n",
    "    i=i+1\n",
    "if(flag==1):\n",
    "    print(\"prime\")\n",
    "else:\n",
    "    print(\"Not prime\")\n",
    "\n",
    "        "
   ]
  },
  {
   "cell_type": "code",
   "execution_count": 108,
   "id": "bf2c9172",
   "metadata": {},
   "outputs": [
    {
     "name": "stdout",
     "output_type": "stream",
     "text": [
      "7\n",
      "Prime\n"
     ]
    }
   ],
   "source": [
    "#prime number second method\n",
    "n=int(input())\n",
    "i=1\n",
    "count=0\n",
    "while(i<=n):\n",
    "    if(n%i==0):\n",
    "        count=count+1\n",
    "    i=i+1\n",
    "if(count==2):\n",
    "    print(\"Prime\")\n",
    "else:\n",
    "    print(\"Not prime\")"
   ]
  },
  {
   "cell_type": "code",
   "execution_count": 109,
   "id": "94fa1994",
   "metadata": {},
   "outputs": [
    {
     "name": "stdout",
     "output_type": "stream",
     "text": [
      "5 \n",
      "40\n",
      "prime number is 5\n",
      "prime number is 7\n",
      "prime number is 11\n",
      "prime number is 13\n",
      "prime number is 17\n",
      "prime number is 19\n",
      "prime number is 23\n",
      "prime number is 29\n",
      "prime number is 31\n",
      "prime number is 37\n"
     ]
    }
   ],
   "source": [
    "#display prime numbers with in given range of numbers\n",
    "s=int(input())\n",
    "r=int(input())\n",
    "while(s<=r):\n",
    "    i=2\n",
    "    flag=0\n",
    "    while(i<s):\n",
    "        if(s%i==0):\n",
    "            flag=1\n",
    "            break\n",
    "        i=i+1\n",
    "    if(flag==0):\n",
    "        print(\"prime number is\",s)\n",
    "    \"\"\"\n",
    "    else:\n",
    "        print(\"Not prime is\",s)\n",
    "    \"\"\"\n",
    "    s=s+1"
   ]
  },
  {
   "cell_type": "code",
   "execution_count": null,
   "id": "d702c167",
   "metadata": {},
   "outputs": [],
   "source": [
    "\"\"\"\n",
    "Fahrenheit to Celsius\n",
    "Send Feedback\n",
    "Given three values - Start Fahrenheit Value (S), End Fahrenheit value (E) and Step Size (W), you need to convert all Fahrenheit values from Start to End at the gap of W, into their corresponding Celsius values and print the table.\n",
    "Input Format :\n",
    "3 integers - S, E and W respectively \n",
    "Output Format :\n",
    "Fahrenheit to Celsius conversion table. One line for every Fahrenheit and corresponding Celsius value. On Fahrenheit value and its corresponding Celsius value should be separate by tab (\"\\t\")\n",
    "Constraints :\n",
    "0 <= S <= 80\n",
    "S <= E <=  900\n",
    "0 <= W <= 40 \n",
    "Sample Input 1:\n",
    "0 \t\n",
    "100 \n",
    "20\n",
    "Sample Output 1:\n",
    "0   -17\n",
    "20  -6\n",
    "40  4\n",
    "60  15\n",
    "80  26\n",
    "100 37\n",
    "Sample Input 2:\n",
    "20\n",
    "119\n",
    "13\n",
    "Sample Output 2:\n",
    "20  -6\n",
    "33  0 \n",
    "46  7\n",
    "59  15\n",
    "72  22\n",
    "85  29\n",
    "98  36\n",
    "111 43\n",
    "\"\"\"\n",
    "s=int(input())\n",
    "e=int(input())\n",
    "w=int(input())\n",
    "while(s<=e):\n",
    "    f=s\n",
    "    c=int((f-32)*5/9)\n",
    "    print(f,c)\n",
    "    s=s+w"
   ]
  },
  {
   "cell_type": "code",
   "execution_count": 110,
   "id": "904ff720",
   "metadata": {},
   "outputs": [
    {
     "name": "stdout",
     "output_type": "stream",
     "text": [
      "6\n",
      "12\n"
     ]
    }
   ],
   "source": [
    "\"\"\"\n",
    "Sum of Even Numbers\n",
    "Send Feedback\n",
    "Given a number N, print sum of all even numbers from 1 to N.\n",
    "Input Format :\n",
    "Integer N\n",
    "Output Format :\n",
    "Required Sum \n",
    "Sample Input 1 :\n",
    " 6\n",
    "Sample Output 1 :\n",
    "12\n",
    "\n",
    "\"\"\"\n",
    "N=int(input())\n",
    "i=2\n",
    "sum1=0\n",
    "while(i<=N):\n",
    "    sum1=sum1+i\n",
    "    i=i+2\n",
    "print(sum1)"
   ]
  },
  {
   "cell_type": "code",
   "execution_count": null,
   "id": "8bb905b6",
   "metadata": {},
   "outputs": [],
   "source": [
    "\"\"\"\n",
    "Write a program that performs the tasks of a simple calculator. The program should first take an integer as input and then based on that integer perform the task as given below.\n",
    "1. If the input is 1, then 2 integers are taken from the user and their sum is printed.\n",
    "2. If the input is 2, then 2 integers are taken from the user and their difference(1st number - 2nd number) is printed.\n",
    "3. If the input is 3, then 2 integers are taken from the user and their product is printed.\n",
    "4. If the input is 4, then 2 integers are taken from the user and the quotient obtained (on dividing 1st number by 2nd number) is printed.\n",
    "5. If the input is 5, then 2 integers are taken from the user and their remainder(1st number mod 2nd number) is printed.\n",
    "6. If the input is 6, then the program exits.\n",
    "7. For any other input, then print \"Invalid Operation\".\n",
    "Note: Each answer in next line.\n",
    "Input format:\n",
    "Take integers as input, in accordance to the description of the question. \n",
    "Constraints:\n",
    "Time Limit: 1 second\n",
    "Output format:\n",
    "The output lines must be as prescribed in the description of the question.\n",
    "Sample Input:\n",
    "3\n",
    "1\n",
    "2\n",
    "4\n",
    "4\n",
    "2\n",
    "1\n",
    "3\n",
    "2\n",
    "7\n",
    "6\n",
    "Sample Output:\n",
    "2\n",
    "2\n",
    "5\n",
    "Invalid Operation\n",
    "\n",
    "\"\"\"\n",
    "\n",
    "flag=True\n",
    "while(flag):\n",
    "    N=int(input())\n",
    "    if(N==1):\n",
    "        a=int(input())\n",
    "        b=int(input())\n",
    "        print(a+b)\n",
    "    elif(N==2):\n",
    "        a=int(input())\n",
    "        b=int(input())\n",
    "        print(a-b)\n",
    "    elif(N==3):\n",
    "        a=int(input())\n",
    "        b=int(input())\n",
    "        print(a*b)\n",
    "    elif(N==4):\n",
    "        a=int(input())\n",
    "        b=int(input())\n",
    "        print(a//b)\n",
    "    elif(N==5):\n",
    "        a=int(input())\n",
    "        b=int(input())\n",
    "        print(a%b)\n",
    "    elif(N==6):\n",
    "        flag=False\n",
    "        exit\n",
    "    else:\n",
    "        print(\"Invalid option\")"
   ]
  },
  {
   "cell_type": "code",
   "execution_count": 111,
   "id": "ea66b34d",
   "metadata": {},
   "outputs": [
    {
     "name": "stdout",
     "output_type": "stream",
     "text": [
      "1234\n",
      "4321\n"
     ]
    }
   ],
   "source": [
    "\"\"\"\n",
    "Reverse of a number\n",
    "Send Feedback\n",
    "Write a program to generate the reverse of a given number N. Print the corresponding reverse number.\n",
    "Note : If a number has trailing zeros, then its reverse will not include them. For e.g., reverse of 10400 will be 401 instead of 00401.\n",
    "\n",
    "Input format :\n",
    "Integer N\n",
    "Output format :\n",
    "Corresponding reverse number\n",
    "Constraints:\n",
    "0 <= N < 10^8\n",
    "Sample Input 1 :\n",
    "1234\n",
    "Sample Output 1 :\n",
    "4321\n",
    "Sample Input 2 :\n",
    "1980\n",
    "Sample Output 2 :\n",
    "891\n",
    "\"\"\"\n",
    "N=int(input())\n",
    "rev=0\n",
    "while(N!=0):\n",
    "    R=N%10\n",
    "    rev=rev*10+R\n",
    "    N=N//10\n",
    "print(rev)\n",
    "    "
   ]
  },
  {
   "cell_type": "code",
   "execution_count": 114,
   "id": "8b9b59a4",
   "metadata": {},
   "outputs": [
    {
     "name": "stdout",
     "output_type": "stream",
     "text": [
      "1234321\n",
      "Palindrome\n"
     ]
    }
   ],
   "source": [
    "N=int(input())\n",
    "s=N\n",
    "rev=0\n",
    "while(N!=0):\n",
    "    R=N%10\n",
    "    rev=rev*10+R\n",
    "    N=N//10\n",
    "if(rev==s):\n",
    "    print(\"Palindrome\")\n",
    "else:\n",
    "    print(\"Not palindrome\")\n"
   ]
  },
  {
   "cell_type": "code",
   "execution_count": 115,
   "id": "aebba0eb",
   "metadata": {},
   "outputs": [
    {
     "name": "stdout",
     "output_type": "stream",
     "text": [
      "1234\n",
      "6 4\n"
     ]
    }
   ],
   "source": [
    "\"\"\"\n",
    "Write a program to input an integer N and print the sum of all its even digits and sum of all its odd digits separately.\n",
    "Digits mean numbers, not the places! That is, if the given integer is \"13245\", even digits are 2 & 4 and odd digits are 1, 3 & 5.\n",
    "Input format :\n",
    " Integer N\n",
    "Output format :\n",
    "Sum_of_Even_Digits Sum_of_Odd_Digits\n",
    "(Print first even sum and then odd sum separated by space)\n",
    "Constraints\n",
    "0 <= N <= 10^8\n",
    "Sample Input 1:\n",
    "1234\n",
    "Sample Output 1:\n",
    "6 4\n",
    "Sample Input 2:\n",
    "552245\n",
    "Sample Output 2:\n",
    "8 15\n",
    "Explanation for Input 2:\n",
    "For the given input, the even digits are 2, 2 and 4 and if we take the sum of these digits it will come out to be 8(2 + 2 + 4) and similarly, if we look at the odd digits, they are, 5, 5 and 5 which makes a sum of 15(5 + 5 + 5). Hence the answer would be, 8(evenSum) <single space> 15(oddSum)\n",
    "\"\"\"\n",
    "n=int(input())\n",
    "evens=0\n",
    "odds=0\n",
    "while(n!=0):\n",
    "    r=n%10\n",
    "    if(r%2==0):\n",
    "        evens=evens+r\n",
    "    else:\n",
    "        odds=odds+r\n",
    "    n=n//10\n",
    "print(evens,end=\" \")\n",
    "print(odds)\n",
    "        "
   ]
  },
  {
   "cell_type": "code",
   "execution_count": null,
   "id": "27a1c986",
   "metadata": {},
   "outputs": [],
   "source": [
    "\"\"\"\n",
    "Nth Fibonacci number\n",
    "Send Feedback\n",
    "Nth term of fibonacci series F(n) is calculated using following formula -\n",
    "    F(n) = F(n-1) + F(n-2), \n",
    "    Where, F(1) = F(2) = 1\n",
    "Provided N you have to find out the Nth Fibonacci Number.\n",
    "Input Format :\n",
    "Integer n\n",
    "Output Format :\n",
    "Nth Fibonacci term i.e. F(n)\n",
    "Constraints:\n",
    "1 <= n <= 25\n",
    "Sample Input 1:\n",
    "4\n",
    "Sample Output 2:\n",
    "3 \n",
    "Sample Input 1:\n",
    "6\n",
    "Sample Output 2:\n",
    "8\n",
    "\"\"\"\n",
    "#0 1 1 2 3 5 8\n",
    "n=int(input())\n",
    "if n==0:\n",
    "    print(0)\n",
    "else:\n",
    "    first=0\n",
    "    second=1\n",
    "    temp=1\n",
    "    i=2\n",
    "    while(i<=n):\n",
    "        new=first+second\n",
    "        first=second\n",
    "        second=new\n",
    "        temp=new\n",
    "        i=i+1\n",
    "    print(temp)\n",
    "\n",
    "    \n",
    "    \n"
   ]
  },
  {
   "cell_type": "code",
   "execution_count": 117,
   "id": "75027c8c",
   "metadata": {},
   "outputs": [
    {
     "name": "stdout",
     "output_type": "stream",
     "text": [
      "6\n",
      "8\n"
     ]
    }
   ],
   "source": [
    "n=int(input())\n",
    "a=0\n",
    "b=1\n",
    "for i in range(n):\n",
    "    c=a+b\n",
    "    b=a\n",
    "    a=c\n",
    "print(a)"
   ]
  },
  {
   "cell_type": "code",
   "execution_count": 118,
   "id": "7f2c96d0",
   "metadata": {},
   "outputs": [
    {
     "name": "stdout",
     "output_type": "stream",
     "text": [
      "False\n"
     ]
    }
   ],
   "source": [
    "a=0+0j\n",
    "print(bool(a))"
   ]
  },
  {
   "cell_type": "markdown",
   "id": "6ad063df",
   "metadata": {},
   "source": [
    "### patterns"
   ]
  },
  {
   "cell_type": "code",
   "execution_count": null,
   "id": "1fb81c25",
   "metadata": {},
   "outputs": [],
   "source": [
    "\"\"\"\n",
    "1)how many rows\n",
    "2)how many columns to print for ith row\n",
    "3)what to print(*)\n",
    "\"\"\""
   ]
  },
  {
   "cell_type": "code",
   "execution_count": 119,
   "id": "e34597c7",
   "metadata": {},
   "outputs": [
    {
     "name": "stdout",
     "output_type": "stream",
     "text": [
      "* * * * \n",
      "* * * * \n",
      "* * * * \n",
      "* * * * \n"
     ]
    }
   ],
   "source": [
    "n=4\n",
    "i=0\n",
    "while(i<n):\n",
    "    j=0\n",
    "    while(j<n):\n",
    "        print(\"*\",end=\" \")\n",
    "        j=j+1\n",
    "    print()\n",
    "    i=i+1"
   ]
  },
  {
   "cell_type": "code",
   "execution_count": 120,
   "id": "06c27834",
   "metadata": {},
   "outputs": [
    {
     "name": "stdout",
     "output_type": "stream",
     "text": [
      "\n",
      "* \n",
      "* * \n",
      "* * * \n",
      "* * * * \n"
     ]
    }
   ],
   "source": [
    "n=5\n",
    "i=0\n",
    "while(i<n):\n",
    "    j=0\n",
    "    while(j<i):\n",
    "        print(\"*\",end=\" \")\n",
    "        j=j+1\n",
    "    print()\n",
    "    i=i+1"
   ]
  },
  {
   "cell_type": "code",
   "execution_count": 121,
   "id": "e387c2fc",
   "metadata": {},
   "outputs": [
    {
     "name": "stdout",
     "output_type": "stream",
     "text": [
      "1 2 3 4 \n",
      "1 2 3 4 \n",
      "1 2 3 4 \n",
      "1 2 3 4 \n"
     ]
    }
   ],
   "source": [
    "n=4\n",
    "i=0\n",
    "while(i<n):\n",
    "    j=1\n",
    "    while(j<=n):\n",
    "        print(j,end=\" \")\n",
    "        j=j+1\n",
    "    print()\n",
    "    i=i+1"
   ]
  },
  {
   "cell_type": "code",
   "execution_count": 122,
   "id": "565bd00e",
   "metadata": {},
   "outputs": [
    {
     "name": "stdout",
     "output_type": "stream",
     "text": [
      "5\n",
      "1 1 1 1 1 \n",
      "2 2 2 2 2 \n",
      "3 3 3 3 3 \n",
      "4 4 4 4 4 \n",
      "5 5 5 5 5 \n"
     ]
    }
   ],
   "source": [
    "n=int(input())\n",
    "i=1\n",
    "while(i<=n):\n",
    "    j=1\n",
    "    while(j<=n):\n",
    "        print(i,end=\" \")\n",
    "        j=j+1\n",
    "    print()\n",
    "    i=i+1"
   ]
  },
  {
   "cell_type": "code",
   "execution_count": 123,
   "id": "65ee806f",
   "metadata": {},
   "outputs": [
    {
     "name": "stdout",
     "output_type": "stream",
     "text": [
      "5\n",
      "5 4 3 2 1 \n",
      "5 4 3 2 1 \n",
      "5 4 3 2 1 \n",
      "5 4 3 2 1 \n",
      "5 4 3 2 1 \n"
     ]
    }
   ],
   "source": [
    "n=int(input())\n",
    "i=0\n",
    "while(i<n):\n",
    "    j=n\n",
    "    while(j>0):\n",
    "        print(j,end=\" \")\n",
    "        j=j-1\n",
    "    print()\n",
    "    i=i+1"
   ]
  },
  {
   "cell_type": "code",
   "execution_count": 124,
   "id": "c297f334",
   "metadata": {},
   "outputs": [
    {
     "name": "stdout",
     "output_type": "stream",
     "text": [
      "5\n",
      "5 4 3 2 1 \n",
      "5 4 3 2 1 \n",
      "5 4 3 2 1 \n",
      "5 4 3 2 1 \n",
      "5 4 3 2 1 \n"
     ]
    }
   ],
   "source": [
    "n=int(input())\n",
    "i=0\n",
    "while(i<n):\n",
    "    j=1\n",
    "    while(j<=n):\n",
    "        print(n-j+1,end=\" \")\n",
    "        j=j+1\n",
    "    print()\n",
    "    i=i+1"
   ]
  },
  {
   "cell_type": "code",
   "execution_count": 125,
   "id": "de180acf",
   "metadata": {},
   "outputs": [
    {
     "name": "stdout",
     "output_type": "stream",
     "text": [
      "5\n",
      "1 \n",
      "1 2 \n",
      "1 2 3 \n",
      "1 2 3 4 \n",
      "1 2 3 4 5 \n"
     ]
    }
   ],
   "source": [
    "n=int(input())\n",
    "i=1\n",
    "while(i<=n):\n",
    "    j=1\n",
    "    while(j<=i):\n",
    "        print(j,end=\" \")\n",
    "        j=j+1\n",
    "    print()\n",
    "    i=i+1"
   ]
  },
  {
   "cell_type": "code",
   "execution_count": 126,
   "id": "f92866f6",
   "metadata": {},
   "outputs": [
    {
     "name": "stdout",
     "output_type": "stream",
     "text": [
      "5\n",
      "1 \n",
      "2 3 \n",
      "3 4 5 \n",
      "4 5 6 7 \n",
      "5 6 7 8 9 \n"
     ]
    }
   ],
   "source": [
    "n=int(input())\n",
    "i=1\n",
    "while(i<=n):\n",
    "    j=1\n",
    "    while(j<=i):\n",
    "        print(i+j-1,end=\" \")\n",
    "        j=j+1\n",
    "    print()\n",
    "    i=i+1"
   ]
  },
  {
   "cell_type": "code",
   "execution_count": 127,
   "id": "1fa05edd",
   "metadata": {},
   "outputs": [
    {
     "name": "stdout",
     "output_type": "stream",
     "text": [
      "1 \n",
      "2 3 \n",
      "3 4 5 \n",
      "4 5 6 7 \n"
     ]
    }
   ],
   "source": [
    "n=4\n",
    "i=1\n",
    "while(i<=n):\n",
    "    k=i\n",
    "    j=1\n",
    "    while(j<=i):\n",
    "        print(k,end=\" \")\n",
    "        k=k+1\n",
    "        j=j+1\n",
    "    print()\n",
    "    i=i+1"
   ]
  },
  {
   "cell_type": "code",
   "execution_count": 128,
   "id": "de101542",
   "metadata": {},
   "outputs": [
    {
     "name": "stdout",
     "output_type": "stream",
     "text": [
      "5\n",
      "1 \n",
      "2 3 \n",
      "4 5 6 \n",
      "7 8 9 10 \n",
      "11 12 13 14 15 \n"
     ]
    }
   ],
   "source": [
    "n=int(input())\n",
    "i=1\n",
    "k=1\n",
    "while(i<=n):\n",
    "    j=1\n",
    "    while(j<=i):\n",
    "        print(k,end=\" \")\n",
    "        k=k+1\n",
    "        j=j+1\n",
    "    print()\n",
    "    i=i+1"
   ]
  },
  {
   "cell_type": "code",
   "execution_count": 129,
   "id": "e5c41a9b",
   "metadata": {},
   "outputs": [
    {
     "name": "stdout",
     "output_type": "stream",
     "text": [
      "A B C D \n",
      "A B C D \n",
      "A B C D \n",
      "A B C D \n"
     ]
    }
   ],
   "source": [
    "n=4\n",
    "i=0\n",
    "while(i<n):\n",
    "    j=0\n",
    "    while(j<n):\n",
    "        print(chr(j+65),end=\" \")\n",
    "        j=j+1\n",
    "    print()\n",
    "    i=i+1"
   ]
  },
  {
   "cell_type": "code",
   "execution_count": 130,
   "id": "93790704",
   "metadata": {},
   "outputs": [
    {
     "name": "stdout",
     "output_type": "stream",
     "text": [
      "A B C D \n",
      "B C D E \n",
      "C D E F \n",
      "D E F G \n"
     ]
    }
   ],
   "source": [
    "n=4\n",
    "i=0\n",
    "while(i<n):\n",
    "    j=0\n",
    "    k=i\n",
    "    while(j<n):\n",
    "        print(chr(k+65),end=\" \")\n",
    "        j=j+1\n",
    "        k=k+1\n",
    "    print()\n",
    "    i=i+1"
   ]
  },
  {
   "cell_type": "code",
   "execution_count": 131,
   "id": "756c4b02",
   "metadata": {},
   "outputs": [
    {
     "name": "stdout",
     "output_type": "stream",
     "text": [
      "A\n",
      "65\n"
     ]
    }
   ],
   "source": [
    "#ord-gives me character value\n",
    "#chr-give me character by number\n",
    "n=65\n",
    "print(chr(65))\n",
    "print(ord('A'))"
   ]
  },
  {
   "cell_type": "code",
   "execution_count": 132,
   "id": "30e02e2f",
   "metadata": {},
   "outputs": [
    {
     "name": "stdout",
     "output_type": "stream",
     "text": [
      "5\n",
      "1 \n",
      "2 2 \n",
      "3 3 3 \n",
      "4 4 4 4 \n",
      "5 5 5 5 5 \n"
     ]
    }
   ],
   "source": [
    "\"\"\"\n",
    "Code : Triangle Number Pattern\n",
    "Send Feedback\n",
    "Print the following pattern for the given N number of rows.\n",
    "Pattern for N = 4\n",
    "1\n",
    "22\n",
    "333\n",
    "4444\n",
    "Input format :\n",
    "Integer N (Total no. of rows)\n",
    "Output format :\n",
    "Pattern in N lines\n",
    "Constraints\n",
    "0 <= N <= 50\n",
    "Sample Input 1:\n",
    "5\n",
    "Sample Output 1:\n",
    "1\n",
    "22\n",
    "333\n",
    "4444\n",
    "55555\n",
    "Sample Input 2:\n",
    "6\n",
    "\"\"\"\n",
    "n=int(input())\n",
    "i=1\n",
    "while(i<=n):\n",
    "    j=1\n",
    "    while(j<=i):\n",
    "        print(i,end=\" \")\n",
    "        j=j+1\n",
    "    print()\n",
    "    i=i+1"
   ]
  },
  {
   "cell_type": "code",
   "execution_count": 134,
   "id": "c22820de",
   "metadata": {},
   "outputs": [
    {
     "name": "stdout",
     "output_type": "stream",
     "text": [
      "6\n",
      "1 \n",
      "2 1 \n",
      "3 2 1 \n",
      "4 3 2 1 \n",
      "5 4 3 2 1 \n",
      "6 5 4 3 2 1 \n"
     ]
    }
   ],
   "source": [
    "\"\"\"\n",
    "Code : Reverse Number Pattern\n",
    "Send Feedback\n",
    "Print the following pattern for the given N number of rows.\n",
    "Pattern for N = 4\n",
    "1\n",
    "21\n",
    "321\n",
    "4321\n",
    "Input format :\n",
    "Integer N (Total no. of rows)\n",
    "Output format :\n",
    "Pattern in N lines\n",
    "Constraints\n",
    "0 <= N <= 50\n",
    "Sample Input 1:\n",
    "5\n",
    "Sample Output 1:\n",
    "1\n",
    "21\n",
    "321\n",
    "4321\n",
    "54321\n",
    "Sample Input 2:\n",
    "6\n",
    "Sample Output 2:\n",
    "1\n",
    "21\n",
    "321\n",
    "4321\n",
    "54321\n",
    "654321\n",
    "\n",
    "\"\"\"\n",
    "n=int(input())\n",
    "i=1\n",
    "while(i<=n):\n",
    "    j=i\n",
    "    while(j>=1):\n",
    "        print(j,end=\" \")\n",
    "        j=j-1\n",
    "    print()\n",
    "    i=i+1\n"
   ]
  },
  {
   "cell_type": "code",
   "execution_count": 135,
   "id": "9ebe902f",
   "metadata": {},
   "outputs": [
    {
     "name": "stdout",
     "output_type": "stream",
     "text": [
      "6\n",
      "A \n",
      "B C \n",
      "C D E \n",
      "D E F G \n",
      "E F G H I \n",
      "F G H I J K \n"
     ]
    }
   ],
   "source": [
    "\"\"\"\n",
    "Code : Character Pattern\n",
    "Send Feedback\n",
    "Print the following pattern for the given N number of rows.\n",
    "Pattern for N = 4\n",
    "A\n",
    "BC\n",
    "CDE\n",
    "DEFG\n",
    "Input format :\n",
    "Integer N (Total no. of rows)\n",
    "Output format :\n",
    "Pattern in N lines\n",
    "Constraints\n",
    "0 <= N <= 13\n",
    "Sample Input 1:\n",
    "5\n",
    "Sample Output 1:\n",
    "A\n",
    "BC\n",
    "CDE\n",
    "DEFG\n",
    "EFGHI\n",
    "Sample Input 2:\n",
    "6\n",
    "Sample Output 2:\n",
    "A\n",
    "BC\n",
    "CDE\n",
    "DEFG\n",
    "EFGHI\n",
    "FGHIJK\n",
    "\"\"\"\n",
    "n=int(input())\n",
    "i=1\n",
    "while(i<=n):\n",
    "    j=1\n",
    "    while(j<=i):\n",
    "        print(chr(65+i+j-2),end=\" \")\n",
    "        j=j+1\n",
    "    print()\n",
    "    i=i+1\n"
   ]
  },
  {
   "cell_type": "code",
   "execution_count": 136,
   "id": "4ccbf251",
   "metadata": {},
   "outputs": [
    {
     "name": "stdout",
     "output_type": "stream",
     "text": [
      "5\n",
      "E \n",
      "D E \n",
      "C D E \n",
      "B C D E \n",
      "A B C D E \n"
     ]
    }
   ],
   "source": [
    "\"\"\"\n",
    "Code : Interesting Alphabets\n",
    "Send Feedback\n",
    "Print the following pattern for the given number of rows.\n",
    "Pattern for N = 5\n",
    "E\n",
    "DE\n",
    "CDE\n",
    "BCDE\n",
    "ABCDE\n",
    "Input format :\n",
    "N (Total no. of rows)\n",
    "Output format :\n",
    "Pattern in N lines\n",
    "Constraints\n",
    "0 <= N <= 26\n",
    "\"\"\"\n",
    "n=int(input())\n",
    "i=n\n",
    "while(i>0):\n",
    "    k=i\n",
    "    while(k<=n):\n",
    "        print(chr(65+k-1),end=\" \")\n",
    "        k=k+1\n",
    "    print()\n",
    "    i=i-1\n",
    "    \n",
    "    \n"
   ]
  },
  {
   "cell_type": "code",
   "execution_count": 137,
   "id": "7a80d6a9",
   "metadata": {},
   "outputs": [
    {
     "name": "stdout",
     "output_type": "stream",
     "text": [
      "5\n",
      "A \n",
      "A B \n",
      "A B C \n",
      "A B C D \n",
      "A B C D E \n"
     ]
    }
   ],
   "source": [
    "\"\"\"\n",
    "Here are a few similar patterns problems for your practice. All the patterns have been\n",
    "drawn for N=4.\n",
    "A\n",
    "AB\n",
    "ABC\n",
    "ABCD\n",
    "12344321\n",
    "123**321\n",
    "12****21\n",
    "1******1\n",
    "ABCD\n",
    "ABC\n",
    "AB\n",
    "A\n",
    "4555\n",
    "3455\n",
    "2345\n",
    "1234\n",
    "1\n",
    "11\n",
    "202\n",
    "3003\n",
    "\"\"\"\n",
    "\"\"\"\n",
    "A\n",
    "AB\n",
    "ABC\n",
    "ABCD\n",
    "\"\"\"\n",
    "n=int(input())\n",
    "i=0\n",
    "while(i<n):\n",
    "    j=0\n",
    "    while(j<=i):\n",
    "        print(chr(65+j),end=\" \")\n",
    "        j=j+1\n",
    "    print()\n",
    "    i=i+1"
   ]
  },
  {
   "cell_type": "code",
   "execution_count": 138,
   "id": "e2dea059",
   "metadata": {},
   "outputs": [
    {
     "name": "stdout",
     "output_type": "stream",
     "text": [
      "12344321\n",
      "123**321\n",
      "12****21\n",
      "1******1\n"
     ]
    }
   ],
   "source": [
    "\"\"\"\n",
    "12344321\n",
    "123**321\n",
    "12****21\n",
    "1******1\n",
    "\"\"\"\n",
    "n=4\n",
    "i=1\n",
    "while(i<=n):\n",
    "    count=1\n",
    "    j=1\n",
    "    while(j<=n-i+1):\n",
    "        print(j,end=\"\")\n",
    "        j=j+1\n",
    "        count=count+1 \n",
    "    \n",
    "    print(\"*\"*(8-(n-i+1)*2),end=\"\")\n",
    "    \n",
    "    k=n-i+1\n",
    "    j=1\n",
    "    while(j<=n-i+1):\n",
    "        print(k,end=\"\")\n",
    "        k=k-1\n",
    "        j=j+1\n",
    "    \n",
    "    print()\n",
    "    i=i+1"
   ]
  },
  {
   "cell_type": "code",
   "execution_count": null,
   "id": "06c35d34",
   "metadata": {},
   "outputs": [],
   "source": [
    "\"\"\"\n",
    "ABCD\n",
    "ABC\n",
    "AB\n",
    "A\n",
    "\"\"\"\n",
    "n=4\n",
    "i=n\n",
    "while(i>0):\n",
    "    j=1\n",
    "    while(j<=i):\n",
    "        print(chr(65+j-1),end=\" \")\n",
    "        j=j+1\n",
    "    print()\n",
    "    i=i-1\n"
   ]
  },
  {
   "cell_type": "code",
   "execution_count": null,
   "id": "da11e575",
   "metadata": {},
   "outputs": [],
   "source": [
    "\"\"\"\n",
    "4555\n",
    "3455\n",
    "2345\n",
    "1234\n",
    "\"\"\"\n",
    "n=4\n",
    "i=1\n",
    "while(i<=n):\n",
    "    j=1\n",
    "    k=n-i+1\n",
    "    while(j<=i):\n",
    "        print(k,end=\"\")\n",
    "        k=k+1\n",
    "        j=j+1\n",
    "    print(\"5\"*(n-i),end=\"\")\n",
    "    print()\n",
    "    i=i+1"
   ]
  },
  {
   "cell_type": "code",
   "execution_count": 139,
   "id": "5ffdb7b0",
   "metadata": {},
   "outputs": [
    {
     "name": "stdout",
     "output_type": "stream",
     "text": [
      "5\n",
      "1 \n",
      "1 1 \n",
      "1 2 1 \n",
      "1 2 2 1 \n",
      "1 2 2 2 1 \n"
     ]
    }
   ],
   "source": [
    "\n",
    "n=int(input())\n",
    "i=1\n",
    "while(i<=n):\n",
    "    j=1\n",
    "    while(j<=i):\n",
    "        if(j==1 or j==i):\n",
    "            print(\"1\",end=\" \")\n",
    "        else:\n",
    "            print(\"2\",end=\" \")\n",
    "        j=j+1\n",
    "    print()\n",
    "    i=i+1\n"
   ]
  },
  {
   "cell_type": "code",
   "execution_count": null,
   "id": "b13bdb97",
   "metadata": {},
   "outputs": [],
   "source": [
    "\"\"\"\n",
    "1\n",
    "11\n",
    "202\n",
    "3003\n",
    "\"\"\"\n",
    "n=int(input())\n",
    "i=1\n",
    "while(i<=n):\n",
    "    j=1\n",
    "    while(j<=i):\n",
    "        if(i==1 and i+j==2):\n",
    "            print(\"1\",end=\" \")\n",
    "        elif(j==1):\n",
    "            print(i-j,end=\" \")\n",
    "        elif(i==j):\n",
    "            print(j-1,end=\" \")\n",
    "        else:\n",
    "            print(\"0\",end=\" \")\n",
    "        j=j+1\n",
    "    print()\n",
    "    i=i+1"
   ]
  },
  {
   "cell_type": "code",
   "execution_count": 140,
   "id": "725c88ab",
   "metadata": {},
   "outputs": [
    {
     "name": "stdout",
     "output_type": "stream",
     "text": [
      "5\n",
      "1\n",
      "1 1 \n",
      "2 0 2 \n",
      "3 0 0 3 \n",
      "4 0 0 0 4 \n"
     ]
    }
   ],
   "source": [
    "n=int(input())\n",
    "print(1)\n",
    "i=2\n",
    "while(i<=n):\n",
    "    j=1\n",
    "    while(j<=i):\n",
    "        if(j==1 or j==i):\n",
    "            print(i-1,end=\" \")\n",
    "        else:\n",
    "            print(\"0\",end=\" \")\n",
    "        j=j+1\n",
    "    print()\n",
    "    i=i+1"
   ]
  },
  {
   "cell_type": "code",
   "execution_count": 141,
   "id": "94becbfe",
   "metadata": {},
   "outputs": [
    {
     "name": "stdout",
     "output_type": "stream",
     "text": [
      "* * * * \n",
      "* * * \n",
      "* * \n",
      "* \n"
     ]
    }
   ],
   "source": [
    "i=4\n",
    "while(i>0):\n",
    "    j=1\n",
    "    while(j<=i):\n",
    "        print(\"*\",end=\" \")\n",
    "        j=j+1\n",
    "    print()\n",
    "    i=i-1\n",
    "    \n"
   ]
  },
  {
   "cell_type": "code",
   "execution_count": 142,
   "id": "ba5b5a9e",
   "metadata": {},
   "outputs": [
    {
     "name": "stdout",
     "output_type": "stream",
     "text": [
      "* * * * * \n",
      "* * * * \n",
      "* * * \n",
      "* * \n"
     ]
    }
   ],
   "source": [
    "i=1\n",
    "while(i<=4):\n",
    "    j=1\n",
    "    while(j<=n-i+1):\n",
    "        print(\"*\",end=\" \")\n",
    "        j=j+1\n",
    "    print()\n",
    "    i=i+1"
   ]
  },
  {
   "cell_type": "code",
   "execution_count": null,
   "id": "4157f51f",
   "metadata": {},
   "outputs": [],
   "source": [
    "\"\"\"\n",
    "N=5\n",
    "    *\n",
    "   **\n",
    "  ***\n",
    " ****\n",
    "*****\n",
    "\"\"\"\n",
    "N=int(input())\n",
    "i=1\n",
    "while(i<=N):\n",
    "    s=1\n",
    "    while(s<=N-i):\n",
    "        print(\" \",end=\"\")\n",
    "        s=s+1\n",
    "    j=1\n",
    "    while(j<=i):\n",
    "        print(\"*\",end=\"\")\n",
    "        j=j+1\n",
    "    print()\n",
    "    i=i+1"
   ]
  },
  {
   "cell_type": "code",
   "execution_count": 143,
   "id": "2e4ac449",
   "metadata": {},
   "outputs": [
    {
     "name": "stdout",
     "output_type": "stream",
     "text": [
      "5\n",
      "    1\n",
      "   12\n",
      "  123\n",
      " 1234\n",
      "12345\n"
     ]
    }
   ],
   "source": [
    "N=int(input())\n",
    "i=1\n",
    "while(i<=N):\n",
    "    s=1\n",
    "    while(s<=N-i):\n",
    "        print(\" \",end=\"\")\n",
    "        s=s+1\n",
    "    j=1\n",
    "    while(j<=i):\n",
    "        print(j,end=\"\")\n",
    "        j=j+1\n",
    "    print()\n",
    "    i=i+1"
   ]
  },
  {
   "cell_type": "code",
   "execution_count": null,
   "id": "be5e0374",
   "metadata": {},
   "outputs": [],
   "source": [
    "\"\"\"\n",
    "1\n",
    "121\n",
    "12321\n",
    "1234321\n",
    "\"\"\"\n",
    "\n",
    "n=int(input())\n",
    "i=1\n",
    "print(1)\n",
    "while(i<=n):\n",
    "    j=1\n",
    "    while(j<=i):\n",
    "        print(j,end=\"\")\n",
    "        j=j+1 \n",
    "    while(j>0):\n",
    "        print(j,end=\"\")\n",
    "        j=j-1\n",
    "        \n",
    "    print()\n",
    "    i=i+1"
   ]
  },
  {
   "cell_type": "code",
   "execution_count": 144,
   "id": "474f0254",
   "metadata": {},
   "outputs": [
    {
     "name": "stdout",
     "output_type": "stream",
     "text": [
      "6\n",
      "     1\n",
      "    121\n",
      "   12321\n",
      "  1234321\n",
      " 123454321\n",
      "12345654321\n"
     ]
    }
   ],
   "source": [
    "n=int(input())\n",
    "i=1\n",
    "while(i<=n):\n",
    "    s=1\n",
    "    while(s<=n-i):\n",
    "        print(\" \",end=\"\")\n",
    "        s=s+1\n",
    "    j=1\n",
    "    while(j<=i):\n",
    "        print(j,end=\"\")\n",
    "        j=j+1 \n",
    "    p=i-1\n",
    "    while(p>0):\n",
    "        print(p,end=\"\")\n",
    "        p=p-1\n",
    "        \n",
    "    print()\n",
    "    i=i+1"
   ]
  },
  {
   "cell_type": "code",
   "execution_count": 1,
   "id": "7739f2fb",
   "metadata": {},
   "outputs": [
    {
     "name": "stdout",
     "output_type": "stream",
     "text": [
      "5\n",
      "    1\n",
      "   232\n",
      "  34543\n",
      " 4567654\n",
      "567898765\n"
     ]
    }
   ],
   "source": [
    "n=int(input())\n",
    "i=1\n",
    "while(i<=n):\n",
    "    s=1\n",
    "    while(s<=n-i):\n",
    "        print(\" \",end=\"\")\n",
    "        s=s+1\n",
    "    j=1\n",
    "    k=i\n",
    "    while(j<=i):\n",
    "        print(k,end=\"\")\n",
    "        k=k+1\n",
    "        j=j+1 \n",
    "    k=k-1\n",
    "    while(k>i):\n",
    "        print(k-1,end=\"\")\n",
    "        k=k-1\n",
    "        \n",
    "    print()\n",
    "    i=i+1"
   ]
  },
  {
   "cell_type": "code",
   "execution_count": 145,
   "id": "aa68fbed",
   "metadata": {},
   "outputs": [
    {
     "name": "stdout",
     "output_type": "stream",
     "text": [
      "5\n",
      "    *\n",
      "   ***\n",
      "  *****\n",
      " *******\n",
      "*********\n",
      " *******\n",
      "  *****\n",
      "   ***\n",
      "    *\n",
      "     \n"
     ]
    }
   ],
   "source": [
    "n=int(input())\n",
    "i=1\n",
    "while(i<=n):\n",
    "    s=1\n",
    "    while(s<=n-i):\n",
    "        print(\" \",end=\"\")\n",
    "        s=s+1\n",
    "    j=1\n",
    "    while(j<=2*i-1):\n",
    "        print(\"*\",end=\"\")\n",
    "        j=j+1 \n",
    "        \n",
    "    print()\n",
    "    i=i+1\n",
    "i=1\n",
    "while(i<=n):\n",
    "    s=1\n",
    "    while(s<=i):\n",
    "        print(\" \",end=\"\")\n",
    "        s=s+1\n",
    "    j=1\n",
    "    while(j<2*(n-i-1+1)):\n",
    "        print(\"*\",end=\"\")\n",
    "        j=j+1 \n",
    "        \n",
    "    print()\n",
    "    i=i+1"
   ]
  },
  {
   "cell_type": "markdown",
   "id": "e326e53d",
   "metadata": {},
   "source": [
    "### For loop\n",
    "###### range(start,stop,increment/decrement)"
   ]
  },
  {
   "cell_type": "code",
   "execution_count": 146,
   "id": "842e5114",
   "metadata": {},
   "outputs": [
    {
     "name": "stdout",
     "output_type": "stream",
     "text": [
      "N i k h i l "
     ]
    }
   ],
   "source": [
    "#string is a group of characters\n",
    "\n",
    "d=\"Nikhil\"\n",
    "for i in d:\n",
    "    print(i,end=\" \")"
   ]
  },
  {
   "cell_type": "code",
   "execution_count": 147,
   "id": "c5931e2c",
   "metadata": {},
   "outputs": [
    {
     "name": "stdout",
     "output_type": "stream",
     "text": [
      "5\n",
      "1 2 3 4 5 "
     ]
    }
   ],
   "source": [
    "n=int(input())\n",
    "for i in range(1,n+1,1):\n",
    "    print(i,end=\" \")"
   ]
  },
  {
   "cell_type": "code",
   "execution_count": 148,
   "id": "4034de78",
   "metadata": {},
   "outputs": [
    {
     "name": "stdout",
     "output_type": "stream",
     "text": [
      "6\n",
      "0\n",
      "1\n",
      "2\n",
      "3\n",
      "4\n",
      "5\n",
      "6\n"
     ]
    }
   ],
   "source": [
    "n=int(input())\n",
    "for i in range(n+1):\n",
    "    print(i)"
   ]
  },
  {
   "cell_type": "code",
   "execution_count": 149,
   "id": "9318df10",
   "metadata": {},
   "outputs": [
    {
     "name": "stdout",
     "output_type": "stream",
     "text": [
      "5\n",
      "5\n",
      "4\n",
      "3\n",
      "2\n",
      "1\n"
     ]
    }
   ],
   "source": [
    "n=int(input())\n",
    "for i in range(n,0,-1):\n",
    "    print(i)"
   ]
  },
  {
   "cell_type": "code",
   "execution_count": 150,
   "id": "a5f07c8f",
   "metadata": {},
   "outputs": [
    {
     "name": "stdout",
     "output_type": "stream",
     "text": [
      "12\n",
      "20\n",
      "12 15 18 "
     ]
    }
   ],
   "source": [
    "a=int(input())\n",
    "b=int(input())\n",
    "for i in range(a,b+1):\n",
    "    if(i%3==0):\n",
    "        print(i,end=\" \")\n"
   ]
  },
  {
   "cell_type": "code",
   "execution_count": 151,
   "id": "a9d1f155",
   "metadata": {},
   "outputs": [
    {
     "name": "stdout",
     "output_type": "stream",
     "text": [
      "1\n",
      "15\n",
      "3 6 9 12 15 "
     ]
    }
   ],
   "source": [
    "a=int(input())\n",
    "b=int(input())\n",
    "if a%3==0:\n",
    "    a=a\n",
    "elif a%3==1:\n",
    "    a=a+2\n",
    "else:\n",
    "    a=a+1\n",
    "for i in range(a,b+1,3):\n",
    "    print(i,end=\" \")   \n",
    "    \n",
    "    \n",
    "    "
   ]
  },
  {
   "cell_type": "code",
   "execution_count": 152,
   "id": "580d3e0d",
   "metadata": {},
   "outputs": [
    {
     "name": "stdout",
     "output_type": "stream",
     "text": [
      "5\n",
      "    1\n",
      "   232\n",
      "  34543\n",
      " 4567654\n",
      "567898765\n"
     ]
    }
   ],
   "source": [
    "n=int(input())\n",
    "for i in range(1,n+1):\n",
    "    k=i\n",
    "    print(\" \"*(n-i),end=\"\")\n",
    "    for j in range(i):\n",
    "        print(k,end=\"\")\n",
    "        k=k+1\n",
    "    k=k-1\n",
    "    for l in range(k-1,i-1,-1):\n",
    "        print(l,end=\"\")\n",
    "        k=k-1\n",
    "    print()"
   ]
  },
  {
   "cell_type": "code",
   "execution_count": 153,
   "id": "bcef5c50",
   "metadata": {},
   "outputs": [
    {
     "name": "stdout",
     "output_type": "stream",
     "text": [
      "5\n",
      "    1\n",
      "   232\n",
      "  34543\n",
      " 4567654\n",
      "567898765\n"
     ]
    }
   ],
   "source": [
    "n=int(input())\n",
    "for i in range(1,n+1):\n",
    "    print(\" \"*(n-i),end=\"\")\n",
    "    for j in range(i,2*i):\n",
    "        print(j,end=\"\")\n",
    "    for k in range(2*i-2,i-1,-1):\n",
    "        print(k,end=\"\")\n",
    "    print()"
   ]
  },
  {
   "cell_type": "code",
   "execution_count": 154,
   "id": "1d9940a2",
   "metadata": {},
   "outputs": [
    {
     "name": "stdout",
     "output_type": "stream",
     "text": [
      "12\n",
      "Not prime\n"
     ]
    }
   ],
   "source": [
    "a=int(input())\n",
    "c=0\n",
    "for i in range(2,a):\n",
    "    if a%i==0:\n",
    "        c=1\n",
    "        break\n",
    "if c==0:\n",
    "    print(\"prime\")\n",
    "else:\n",
    "    print(\"Not prime\")\n",
    "        "
   ]
  },
  {
   "cell_type": "markdown",
   "id": "30c7bd3a",
   "metadata": {},
   "source": [
    "### Break"
   ]
  },
  {
   "cell_type": "code",
   "execution_count": null,
   "id": "996c003b",
   "metadata": {},
   "outputs": [],
   "source": [
    "#if the code is like this then it only breaks inner while loop not external\n",
    "\"\"\"\n",
    "while:\n",
    "    while:\n",
    "       break\n",
    "\"\"\""
   ]
  },
  {
   "cell_type": "code",
   "execution_count": 155,
   "id": "8964e5b7",
   "metadata": {},
   "outputs": [
    {
     "name": "stdout",
     "output_type": "stream",
     "text": [
      "1\n",
      "2\n",
      "3\n",
      "4\n"
     ]
    }
   ],
   "source": [
    "i=1\n",
    "while(i<10):\n",
    "    if i==5:\n",
    "        break\n",
    "    print(i)\n",
    "    i=i+1"
   ]
  },
  {
   "cell_type": "code",
   "execution_count": 156,
   "id": "14ea3d5e",
   "metadata": {},
   "outputs": [
    {
     "name": "stdout",
     "output_type": "stream",
     "text": [
      "1 2 3 4 6 7 8 9 "
     ]
    }
   ],
   "source": [
    "i=1\n",
    "while(i<10):\n",
    "    if i!=5:\n",
    "        print(i,end=\" \")\n",
    "    i=i+1"
   ]
  },
  {
   "cell_type": "code",
   "execution_count": 157,
   "id": "071fe9f3",
   "metadata": {},
   "outputs": [
    {
     "name": "stdout",
     "output_type": "stream",
     "text": [
      "1\n",
      "2\n",
      "3\n",
      "4\n",
      "5\n",
      "6\n",
      "7\n",
      "8\n",
      "9\n",
      "This will print once at the end\n"
     ]
    }
   ],
   "source": [
    "i=1\n",
    "while(i<10):\n",
    "    print(i)\n",
    "    i=i+1\n",
    "else:\n",
    "    print(\"This will print once at the end\")"
   ]
  },
  {
   "cell_type": "code",
   "execution_count": 158,
   "id": "2b2b9a76",
   "metadata": {},
   "outputs": [
    {
     "name": "stdout",
     "output_type": "stream",
     "text": [
      "5\n",
      "1 2 3 4 5 \n",
      "This will print once at the end\n"
     ]
    }
   ],
   "source": [
    "n=int(input())\n",
    "for i in range(1,n+1,1):\n",
    "    print(i,end=\" \")\n",
    "else:\n",
    "    print()\n",
    "    print(\"This will print once at the end\")"
   ]
  },
  {
   "cell_type": "code",
   "execution_count": 159,
   "id": "252d01df",
   "metadata": {},
   "outputs": [
    {
     "name": "stdout",
     "output_type": "stream",
     "text": [
      "5\n",
      "prime\n",
      "prime\n",
      "Not prime\n",
      "prime\n"
     ]
    }
   ],
   "source": [
    "#prime\n",
    "n=int(input())\n",
    "for i in range(2,n+1):\n",
    "    for j in range(2,i):\n",
    "        if i%j==0:\n",
    "            print(\"Not prime\")\n",
    "            break\n",
    "    else:\n",
    "        print(\"prime\")"
   ]
  },
  {
   "cell_type": "markdown",
   "id": "5830d92b",
   "metadata": {},
   "source": [
    "### continue:\n",
    "####  skip an iteration"
   ]
  },
  {
   "cell_type": "code",
   "execution_count": 160,
   "id": "aef2c975",
   "metadata": {},
   "outputs": [
    {
     "name": "stdout",
     "output_type": "stream",
     "text": [
      "1 2 3 4 6 7 8 9 10 "
     ]
    }
   ],
   "source": [
    "for i in range(1,11):\n",
    "    if i==5:\n",
    "        continue\n",
    "    print(i,end=\" \")"
   ]
  },
  {
   "cell_type": "code",
   "execution_count": 161,
   "id": "a664fc4a",
   "metadata": {},
   "outputs": [
    {
     "name": "stdout",
     "output_type": "stream",
     "text": [
      "1 2 3 4 6 7 8 9 10 "
     ]
    }
   ],
   "source": [
    "for i in range(1,11):\n",
    "    if i!=5:\n",
    "        print(i,end=\" \")"
   ]
  },
  {
   "cell_type": "code",
   "execution_count": 162,
   "id": "1a8a198e",
   "metadata": {},
   "outputs": [
    {
     "name": "stdout",
     "output_type": "stream",
     "text": [
      "1 3 5 7 9 "
     ]
    }
   ],
   "source": [
    "for i in range(1,11):\n",
    "    if i%2==0:\n",
    "        continue\n",
    "    print(i,end=\" \")"
   ]
  },
  {
   "cell_type": "code",
   "execution_count": 163,
   "id": "f9e8a0ec",
   "metadata": {},
   "outputs": [
    {
     "name": "stdout",
     "output_type": "stream",
     "text": [
      "10\n",
      "2\n",
      "4\n",
      "6\n",
      "8\n",
      "10\n"
     ]
    }
   ],
   "source": [
    "n=int(input())\n",
    "i=2\n",
    "while(i<=n):\n",
    "    if i%7==0:\n",
    "        continue\n",
    "    print(i)\n",
    "    i=i+2\n",
    "#infinate"
   ]
  },
  {
   "cell_type": "code",
   "execution_count": 164,
   "id": "bd6074be",
   "metadata": {},
   "outputs": [
    {
     "name": "stdout",
     "output_type": "stream",
     "text": [
      "10\n",
      "2\n",
      "3\n",
      "4\n",
      "5\n",
      "6\n",
      "8\n",
      "9\n",
      "10\n"
     ]
    }
   ],
   "source": [
    "n=int(input())\n",
    "i=2\n",
    "while(i<=n):\n",
    "    if i%7==0:\n",
    "        i=i+1\n",
    "        continue\n",
    "    print(i)\n",
    "    i=i+1"
   ]
  },
  {
   "cell_type": "code",
   "execution_count": null,
   "id": "89a8c219",
   "metadata": {},
   "outputs": [],
   "source": [
    "\"\"\"\n",
    "Binary Pattern\n",
    "Send Feedback\n",
    "Print the following pattern for the given number of rows.\n",
    "Pattern for N = 4\n",
    "1111\n",
    "000\n",
    "11\n",
    "0\n",
    "Input format : N (Total no. of rows)\n",
    "Output format : Pattern in N lines\n",
    "Sample Input :\n",
    "5\n",
    "Sample Output :\n",
    "11111\n",
    "0000\n",
    "111\n",
    "00\n",
    "1\n",
    "\"\"\"\n",
    "n=int(input())\n",
    "i=n\n",
    "while(i>0):\n",
    "    j=1\n",
    "    while(j<=i):\n",
    "        if(i%2==0):\n",
    "            print(\"0\",end=\"\")\n",
    "        else:\n",
    "            print(\"1\",end=\"\")\n",
    "        j=j+1\n",
    "    print()\n",
    "    i=i-1"
   ]
  },
  {
   "cell_type": "code",
   "execution_count": null,
   "id": "3337b155",
   "metadata": {},
   "outputs": [],
   "source": [
    "\"\"\"\n",
    "Print Number Pyramid\n",
    "Send Feedback\n",
    "Print the following pattern for a given n.\n",
    "For eg. N = 5\n",
    " \n",
    "Sample Input 1 :\n",
    "12345\n",
    " 2345\n",
    "  345\n",
    "   45\n",
    "    5\n",
    "   45\n",
    "  345\n",
    " 2345\n",
    "12345\n",
    "\"\"\"\n",
    "n=int(input())\n",
    "first=n*2//2\n",
    "second=n*2//2\n",
    "i=1\n",
    "while(i<=first):\n",
    "    s=1\n",
    "    while(s<i):\n",
    "        print(\" \",end=\"\")\n",
    "        s=s+1\n",
    "    \n",
    "    j=i\n",
    "    while(j<=first):\n",
    "        print(j,end=\"\")\n",
    "        j=j+1\n",
    "    print()\n",
    "    i=i+1\n",
    "i=second-1\n",
    "while(i>=1):\n",
    "    s=1\n",
    "    while(s<i):\n",
    "        print(\" \",end=\"\")\n",
    "        s=s+1\n",
    "    \n",
    "    j=i\n",
    "    while(j<=second):\n",
    "        print(j,end=\"\")\n",
    "        j=j+1\n",
    "    print()\n",
    "    i=i-1\n",
    "\n"
   ]
  },
  {
   "cell_type": "code",
   "execution_count": null,
   "id": "43009772",
   "metadata": {},
   "outputs": [],
   "source": [
    "\"\"\"\n",
    "Rectangular numbers\n",
    "Send Feedback\n",
    "Print the following pattern for the given number of rows.\n",
    "Pattern for N = 4\n",
    "4444444\n",
    "4333334\n",
    "4322234\n",
    "4321234\n",
    "4322234\n",
    "4333334  \n",
    "4444444\n",
    "\n",
    "\"\"\"\n",
    "\n",
    "\"\"\"\n",
    "4444444  -4\n",
    "4333334  -3\n",
    "4322234  -2\n",
    "4321234  -1\n",
    "\"\"\"\n",
    "\n",
    "n=int(input())\n",
    "for i in range(1,n+1):\n",
    "    for up in range(1,i,1):\n",
    "        print(n-up+1,end=\" \")\n",
    "    for j in range(i,2*n-i+1,1):\n",
    "        print(n-i+1,end=\" \")\n",
    "    \n",
    "    for lp in range(2*n-i,2*n-1,1):\n",
    "        print(lp-n+2,end=\" \")\n",
    "    print()\n",
    "for i in range(n-1,0,-1):\n",
    "    for up in range(1,i,1):\n",
    "        print(n-up+1,end=\" \")\n",
    "    for j in range(i,2*n-i+1,1):\n",
    "        print(n-i+1,end=\" \")\n",
    "    for lp in range(2*n-i,2*n-1,1):\n",
    "        print(lp-n+2,end=\" \")\n",
    "    print()\n",
    "   "
   ]
  },
  {
   "cell_type": "code",
   "execution_count": null,
   "id": "62abaeff",
   "metadata": {},
   "outputs": [],
   "source": [
    "n=4\n",
    "for i in range(1,n+1):\n",
    "    for up in range(1,i,1):\n",
    "        print(n-up+1,end=\" \")\n",
    "    for j in range(1,n*2-2*i+1):\n",
    "        print(n-i+1,end=\" \")\n",
    "    l=n-i+1\n",
    "    for lp in range(1,i+1):\n",
    "        print(l,end=\" \")\n",
    "        l=l+1\n",
    "    print()\n",
    "    \"\"\"\n",
    "    5   i=1 n=4  8-2*1 =6\n",
    "    3   i=2 n=4  8-2*2 =4\n",
    "    1   i=3 n=4  8-2*3 =2\n",
    "    \"\"\"\n",
    "for i in range(n-1,0,-1):\n",
    "    for up in range(1,i,1):\n",
    "        print(n-up+1,end=\" \")\n",
    "    for j in range(1,n*2-2*i+1):\n",
    "        print(n-i+1,end=\" \")\n",
    "    l=n-i+1\n",
    "    for lp in range(1,i+1):\n",
    "        print(l,end=\" \")\n",
    "        l=l+1\n",
    "    print()"
   ]
  },
  {
   "cell_type": "code",
   "execution_count": 165,
   "id": "9f22b031",
   "metadata": {},
   "outputs": [
    {
     "name": "stdout",
     "output_type": "stream",
     "text": [
      "1 2 3 4 5 \n",
      "11 12 13 14 15 \n",
      "21 22 23 24 25 \n",
      "16 17 18 19 20 \n",
      "6 7 8 9 10 \n"
     ]
    }
   ],
   "source": [
    "n=5\n",
    "if(n%2==0):\n",
    "    k=n//2\n",
    "else:\n",
    "    k=n//2+1\n",
    "for i in range(1,k+1):\n",
    "    for j in range(1,n+1):\n",
    "        print(2*n*(i-1)+j,end=\" \")\n",
    "    print()\n",
    "r=n-k\n",
    "for i in range(r,0,-1):\n",
    "    for j in range(1,n+1):\n",
    "        print((2*i-1)*n+j,end=\" \")\n",
    "    print()\n",
    "\n",
    "        \n",
    "            "
   ]
  },
  {
   "cell_type": "markdown",
   "id": "efdb8f2e",
   "metadata": {},
   "source": [
    "# functions"
   ]
  },
  {
   "cell_type": "code",
   "execution_count": null,
   "id": "cbc97608",
   "metadata": {},
   "outputs": [],
   "source": [
    "n         n!\n",
    " c ===  -------\n",
    "  r      r!(n-r)! "
   ]
  },
  {
   "cell_type": "code",
   "execution_count": null,
   "id": "055c6c6c",
   "metadata": {},
   "outputs": [
    {
     "name": "stdout",
     "output_type": "stream",
     "text": [
      "2\n",
      "6\n"
     ]
    }
   ],
   "source": [
    "def fact(n):\n",
    "    if n==0:\n",
    "        return 1\n",
    "    else:\n",
    "        return n*fact(n-1)\n",
    "n=int(input())\n",
    "r=int(input())\n",
    "factn=fact(n)\n",
    "factr=fact(r)\n",
    "b=n-r\n",
    "factnr=fact(b)\n",
    "print(factn//(factnr*factr))"
   ]
  },
  {
   "cell_type": "code",
   "execution_count": 1,
   "id": "78b53fd6",
   "metadata": {},
   "outputs": [
    {
     "name": "stdout",
     "output_type": "stream",
     "text": [
      "2\n",
      "6\n",
      "0\n"
     ]
    }
   ],
   "source": [
    "def fact(n):\n",
    "    fact=1\n",
    "    for i in range(1,n+1):\n",
    "        fact=fact*i\n",
    "    return fact\n",
    "        \n",
    "n=int(input())\n",
    "r=int(input())\n",
    "factn=fact(n)\n",
    "factr=fact(r)\n",
    "b=n-r\n",
    "factnr=fact(b)\n",
    "print(factn//(factnr*factr))"
   ]
  },
  {
   "cell_type": "code",
   "execution_count": 2,
   "id": "140c0971",
   "metadata": {},
   "outputs": [
    {
     "name": "stdout",
     "output_type": "stream",
     "text": [
      "5\n",
      "True\n"
     ]
    }
   ],
   "source": [
    "def prime(n):\n",
    "    for i in range(2,n):\n",
    "        if(n%i==0):\n",
    "            print(\"false\")\n",
    "            break\n",
    "    else:\n",
    "        print(\"True\")\n",
    "\n",
    "\n",
    "n=int(input())\n",
    "prime(n)"
   ]
  },
  {
   "cell_type": "code",
   "execution_count": 4,
   "id": "5f4d77cb",
   "metadata": {},
   "outputs": [],
   "source": [
    "def prime(n):\n",
    "    for i in range(2,n):\n",
    "        if(n%i==0):\n",
    "            break\n",
    "    else:\n",
    "        return True\n",
    "    return False"
   ]
  },
  {
   "cell_type": "code",
   "execution_count": 5,
   "id": "a29a5555",
   "metadata": {},
   "outputs": [
    {
     "name": "stdout",
     "output_type": "stream",
     "text": [
      "5\n",
      "2\n",
      "3\n",
      "5\n"
     ]
    }
   ],
   "source": [
    "def primefrom2ton(n):\n",
    "    for i in range(2,n+1):\n",
    "        l=prime(i)\n",
    "        if(l):\n",
    "            print(i)\n",
    "n=int(input())\n",
    "primefrom2ton(n)"
   ]
  },
  {
   "cell_type": "code",
   "execution_count": 7,
   "id": "35b1ceea",
   "metadata": {},
   "outputs": [
    {
     "name": "stdout",
     "output_type": "stream",
     "text": [
      "9\n",
      "True\n",
      "True\n",
      "False\n",
      "True\n",
      "False\n",
      "True\n",
      "False\n"
     ]
    }
   ],
   "source": [
    "def prime(n):\n",
    "    for i in range(2,n):\n",
    "        if(n%i==0):\n",
    "            break\n",
    "    else:\n",
    "        return True\n",
    "    return False\n",
    "\n",
    "\n",
    "n=int(input())\n",
    "for i in range(2,n):\n",
    "    print(prime(i))"
   ]
  },
  {
   "cell_type": "code",
   "execution_count": 8,
   "id": "348e5bab",
   "metadata": {},
   "outputs": [],
   "source": [
    "def fact1(l):\n",
    "    fact1=1\n",
    "    for i in range(1,l+1):\n",
    "        fact1=fact1*i\n",
    "    return fact1"
   ]
  },
  {
   "cell_type": "code",
   "execution_count": 11,
   "id": "f78e631c",
   "metadata": {},
   "outputs": [],
   "source": [
    "def ncr(n, r):\n",
    "    factn=fact1(n)\n",
    "    factr=fact1(r)\n",
    "    factnr=fact1(n-r)\n",
    "    c=factn//(factnr*factr)\n",
    "    return c"
   ]
  },
  {
   "cell_type": "code",
   "execution_count": 12,
   "id": "050e82a3",
   "metadata": {},
   "outputs": [
    {
     "data": {
      "text/plain": [
       "10"
      ]
     },
     "execution_count": 12,
     "metadata": {},
     "output_type": "execute_result"
    }
   ],
   "source": [
    "ncr(5,2)"
   ]
  },
  {
   "cell_type": "markdown",
   "id": "25a65931",
   "metadata": {},
   "source": [
    "### function call"
   ]
  },
  {
   "cell_type": "code",
   "execution_count": 2,
   "id": "9ab98238",
   "metadata": {},
   "outputs": [
    {
     "name": "stdout",
     "output_type": "stream",
     "text": [
      "As\n",
      "Bs\n",
      "Cs\n",
      "Ce\n",
      "Be\n",
      "Ae\n"
     ]
    },
    {
     "data": {
      "text/plain": [
       "'\\nC\\nB\\nA\\nFirst in last out\\ncall stack\\n'"
      ]
     },
     "execution_count": 2,
     "metadata": {},
     "output_type": "execute_result"
    }
   ],
   "source": [
    "def C():\n",
    "    print(\"Cs\")\n",
    "    print(\"Ce\")\n",
    "    \n",
    "def B():\n",
    "    print(\"Bs\")\n",
    "    C()\n",
    "    print(\"Be\")\n",
    "    \n",
    "\n",
    "def A():\n",
    "    print(\"As\")\n",
    "    B()\n",
    "    print(\"Ae\")\n",
    "A()\n",
    "\"\"\"\n",
    "C\n",
    "B\n",
    "A\n",
    "First in last out\n",
    "call stack\n",
    "\"\"\""
   ]
  },
  {
   "cell_type": "code",
   "execution_count": 13,
   "id": "f78b5489",
   "metadata": {},
   "outputs": [
    {
     "name": "stdout",
     "output_type": "stream",
     "text": [
      "10\n"
     ]
    },
    {
     "ename": "NameError",
     "evalue": "name 'b1' is not defined",
     "output_type": "error",
     "traceback": [
      "\u001b[1;31m---------------------------------------------------------------------------\u001b[0m",
      "\u001b[1;31mNameError\u001b[0m                                 Traceback (most recent call last)",
      "Input \u001b[1;32mIn [13]\u001b[0m, in \u001b[0;36m<cell line: 9>\u001b[1;34m()\u001b[0m\n\u001b[0;32m      7\u001b[0m     b1\u001b[38;5;241m=\u001b[39m\u001b[38;5;241m12\u001b[39m\u001b[38;5;66;03m#loacl\u001b[39;00m\n\u001b[0;32m      8\u001b[0m \u001b[38;5;28mprint\u001b[39m(a)\n\u001b[1;32m----> 9\u001b[0m \u001b[38;5;28mprint\u001b[39m(\u001b[43mb1\u001b[49m)\n",
      "\u001b[1;31mNameError\u001b[0m: name 'b1' is not defined"
     ]
    }
   ],
   "source": [
    "#scope of a variable\n",
    "#local--with in a function\n",
    "#global--defined out side a function\n",
    "\n",
    "a=10#global\n",
    "def f1():\n",
    "    b1=12#loacl\n",
    "print(a)\n",
    "print(b1)#error\n"
   ]
  },
  {
   "cell_type": "code",
   "execution_count": 14,
   "id": "bf411227",
   "metadata": {},
   "outputs": [
    {
     "name": "stdout",
     "output_type": "stream",
     "text": [
      "10\n",
      "12\n",
      "10\n",
      "11\n"
     ]
    },
    {
     "ename": "NameError",
     "evalue": "name 'c3' is not defined",
     "output_type": "error",
     "traceback": [
      "\u001b[1;31m---------------------------------------------------------------------------\u001b[0m",
      "\u001b[1;31mNameError\u001b[0m                                 Traceback (most recent call last)",
      "Input \u001b[1;32mIn [14]\u001b[0m, in \u001b[0;36m<cell line: 10>\u001b[1;34m()\u001b[0m\n\u001b[0;32m      8\u001b[0m a3\u001b[38;5;241m=\u001b[39m\u001b[38;5;241m11\u001b[39m\n\u001b[0;32m      9\u001b[0m \u001b[38;5;28mprint\u001b[39m(a)\n\u001b[1;32m---> 10\u001b[0m \u001b[43mf1\u001b[49m\u001b[43m(\u001b[49m\u001b[43m)\u001b[49m\u001b[38;5;66;03m#global varibale only before the function\u001b[39;00m\n\u001b[0;32m     11\u001b[0m c3\u001b[38;5;241m=\u001b[39m\u001b[38;5;241m20\u001b[39m\n",
      "Input \u001b[1;32mIn [14]\u001b[0m, in \u001b[0;36mf1\u001b[1;34m()\u001b[0m\n\u001b[0;32m      5\u001b[0m \u001b[38;5;28mprint\u001b[39m(a)\n\u001b[0;32m      6\u001b[0m \u001b[38;5;28mprint\u001b[39m(a3)\n\u001b[1;32m----> 7\u001b[0m \u001b[38;5;28mprint\u001b[39m(\u001b[43mc3\u001b[49m)\n",
      "\u001b[1;31mNameError\u001b[0m: name 'c3' is not defined"
     ]
    }
   ],
   "source": [
    "a=10#global\n",
    "def f1():\n",
    "    b1=12#loacl\n",
    "    print(b1)\n",
    "    print(a)\n",
    "    print(a3)\n",
    "    print(c3)#we cannot access\n",
    "a3=11\n",
    "print(a)\n",
    "f1()#global varibale only before the function\n",
    "c3=20#error"
   ]
  },
  {
   "cell_type": "code",
   "execution_count": 15,
   "id": "2498a1f2",
   "metadata": {},
   "outputs": [
    {
     "name": "stdout",
     "output_type": "stream",
     "text": [
      "13\n",
      "12\n",
      "1673283988112\n",
      "1673283988144\n",
      "13\n"
     ]
    }
   ],
   "source": [
    "a4=13\n",
    "def fun4():\n",
    "    a4=12#python assumes local variable\n",
    "    print(a4)\n",
    "    print(id(a4))\n",
    "print(a4)\n",
    "fun4()\n",
    "print(id(a4))\n",
    "print(a4)#13 "
   ]
  },
  {
   "cell_type": "code",
   "execution_count": 16,
   "id": "3fdf236d",
   "metadata": {},
   "outputs": [
    {
     "name": "stdout",
     "output_type": "stream",
     "text": [
      "13\n",
      "12\n",
      "1673283988112\n",
      "1673283988112\n",
      "12\n"
     ]
    }
   ],
   "source": [
    "a4=13\n",
    "def fun4():\n",
    "    global a4\n",
    "    a4=12#python assumes global variable\n",
    "    print(a4)\n",
    "    print(id(a4))\n",
    "print(a4)\n",
    "fun4()\n",
    "print(id(a4))\n",
    "print(a4)#13 "
   ]
  },
  {
   "cell_type": "code",
   "execution_count": 17,
   "id": "a750ee45",
   "metadata": {},
   "outputs": [
    {
     "name": "stdout",
     "output_type": "stream",
     "text": [
      "10\n"
     ]
    }
   ],
   "source": [
    "#to access local\n",
    "def f():\n",
    "    b=10\n",
    "    return b\n",
    "x=f()\n",
    "print(x)"
   ]
  },
  {
   "cell_type": "code",
   "execution_count": 18,
   "id": "aa3b7a20",
   "metadata": {},
   "outputs": [],
   "source": [
    "def sum2(a,b):\n",
    "    return a+b\n",
    "def sum1(a,b,c):\n",
    "    return a+b+c\n"
   ]
  },
  {
   "cell_type": "code",
   "execution_count": 19,
   "id": "8c1ccafd",
   "metadata": {},
   "outputs": [
    {
     "name": "stdout",
     "output_type": "stream",
     "text": [
      "3\n"
     ]
    }
   ],
   "source": [
    "def sum2(a,b,c=0):#c=0\n",
    "    return a+b\n",
    "print(sum2(1,2,5))\n"
   ]
  },
  {
   "cell_type": "code",
   "execution_count": 20,
   "id": "9b26b069",
   "metadata": {},
   "outputs": [
    {
     "ename": "SyntaxError",
     "evalue": "non-default argument follows default argument (1646694447.py, line 1)",
     "output_type": "error",
     "traceback": [
      "\u001b[1;36m  Input \u001b[1;32mIn [20]\u001b[1;36m\u001b[0m\n\u001b[1;33m    def f(a=0,b,c):\u001b[0m\n\u001b[1;37m                ^\u001b[0m\n\u001b[1;31mSyntaxError\u001b[0m\u001b[1;31m:\u001b[0m non-default argument follows default argument\n"
     ]
    }
   ],
   "source": [
    "def f(a=0,b,c):\n",
    "    return a+b+c\n",
    "f(1,2)\n",
    "#note:first non-default argument next default argument(c==0)"
   ]
  },
  {
   "cell_type": "code",
   "execution_count": 21,
   "id": "4bba002f",
   "metadata": {},
   "outputs": [
    {
     "name": "stdout",
     "output_type": "stream",
     "text": [
      "5\n",
      "14\n",
      "12\n",
      "14\n"
     ]
    },
    {
     "ename": "TypeError",
     "evalue": "f1() missing 1 required positional argument: 'b'",
     "output_type": "error",
     "traceback": [
      "\u001b[1;31m---------------------------------------------------------------------------\u001b[0m",
      "\u001b[1;31mTypeError\u001b[0m                                 Traceback (most recent call last)",
      "Input \u001b[1;32mIn [21]\u001b[0m, in \u001b[0;36m<cell line: 7>\u001b[1;34m()\u001b[0m\n\u001b[0;32m      5\u001b[0m \u001b[38;5;28mprint\u001b[39m(f1(\u001b[38;5;241m2\u001b[39m,\u001b[38;5;241m3\u001b[39m,\u001b[38;5;241m5\u001b[39m))\n\u001b[0;32m      6\u001b[0m \u001b[38;5;28mprint\u001b[39m(f1(\u001b[38;5;241m1\u001b[39m,\u001b[38;5;241m2\u001b[39m,\u001b[38;5;241m5\u001b[39m,d\u001b[38;5;241m=\u001b[39m\u001b[38;5;241m6\u001b[39m))\n\u001b[1;32m----> 7\u001b[0m \u001b[38;5;28mprint\u001b[39m(\u001b[43mf1\u001b[49m\u001b[43m(\u001b[49m\u001b[38;5;241;43m5\u001b[39;49m\u001b[43m,\u001b[49m\u001b[43md\u001b[49m\u001b[38;5;241;43m=\u001b[39;49m\u001b[38;5;241;43m6\u001b[39;49m\u001b[43m)\u001b[49m)\n",
      "\u001b[1;31mTypeError\u001b[0m: f1() missing 1 required positional argument: 'b'"
     ]
    }
   ],
   "source": [
    "def f1(c,b,a=0,d=2):\n",
    "    return a+b+c+d\n",
    "print(f1(1,2))\n",
    "print(f1(2,3,4,5))\n",
    "print(f1(2,3,5))\n",
    "print(f1(1,2,5,d=6))\n",
    "print(f1(5,d=6))\n"
   ]
  },
  {
   "cell_type": "code",
   "execution_count": null,
   "id": "76c3f454",
   "metadata": {},
   "outputs": [],
   "source": [
    "\"\"\"\n",
    "Fahrenheit to Celsius Function\n",
    "Send Feedback\n",
    "Given three values - Start Fahrenheit Value (S), End Fahrenheit value (E) and Step Size (W), you need to convert all Fahrenheit values from Start to End at the gap of W, into their corresponding Celsius values and print the table.\n",
    "Input Format :\n",
    "3 integers - S, E and W respectively\n",
    "Output Format :\n",
    "Fahrenheit to Celsius conversion table. One line for every Fahrenheit and Celsius Fahrenheit value. Fahrenheit value and its corresponding Celsius value should be separate by tab (\"\\t\")\n",
    "Constraints :\n",
    "0 <= S <= 1000\n",
    "0 <= E <= 1000\n",
    "0 <= W <= 1000\n",
    "Sample Input 1:\n",
    "0 \n",
    "100 \n",
    "20\n",
    "Sample Output 1:\n",
    "0   -17\n",
    "20  -6\n",
    "40  4\n",
    "60  15\n",
    "80  26\n",
    "100 37\n",
    "\n",
    "\"\"\"\n",
    "\n",
    "def ftoc(n):\n",
    "    c=int((5/9)*(n-32))\n",
    "    return c\n",
    "\n",
    "\n",
    "\n",
    "s=int(input())\n",
    "e=int(input())\n",
    "w=int(input())\n",
    "for i in range(s,e+1,w):\n",
    "    b=ftoc(i)\n",
    "    print(i,b)"
   ]
  },
  {
   "cell_type": "code",
   "execution_count": null,
   "id": "8c579a2b",
   "metadata": {},
   "outputs": [],
   "source": [
    "\"\"\"\n",
    "Fibonacci Member\n",
    "Send Feedback\n",
    "Given a number N, figure out if it is a member of fibonacci series or not. Return true if the number is member of fibonacci series else false.\n",
    "Fibonacci Series is defined by the recurrence\n",
    "    F(n) = F(n-1) + F(n-2)\n",
    "where F(0) = 0 and F(1) = 1\n",
    "\n",
    "Input Format :\n",
    "Integer N\n",
    "Output Format :\n",
    "true or false\n",
    "Constraints :\n",
    "0 <= n <= 10^4\n",
    "Sample Input 1 :\n",
    "5\n",
    "Sample Output 1 :\n",
    "true\n",
    "Sample Input 2 :\n",
    "14\n",
    "Sample Output 2 :\n",
    "false\n",
    "\n",
    "\"\"\"\n",
    "def func(a):\n",
    "    if a==0 or a==1 or a==2:\n",
    "        print(\"True\")\n",
    "    else:\n",
    "        c=0\n",
    "        d=1\n",
    "        while(d<a):\n",
    "            e=c+d\n",
    "            c=d\n",
    "            d=e\n",
    "        if(d==a):\n",
    "            print(\"true\")\n",
    "        else:\n",
    "            print(\"False\")\n",
    "    \n",
    "    \n",
    "a=int(input())\n",
    "func(a)"
   ]
  },
  {
   "cell_type": "code",
   "execution_count": null,
   "id": "6c2f0ff5",
   "metadata": {},
   "outputs": [],
   "source": [
    "\"\"\"\n",
    "Write a program to determine if given number is palindrome or not. Print true if it is palindrome, false otherwise.\n",
    "Palindrome are the numbers for which reverse is exactly same as the original one. For eg. 121\n",
    "Sample Input 1 :\n",
    "121\n",
    "Sample Output 1 :\n",
    "true\n",
    "Sample Input 2 :\n",
    "1032\n",
    "Sample Output 2 :\n",
    "false\n",
    "\"\"\"\n",
    "def palin(a):\n",
    "    b=str(a)[::-1]\n",
    "    if(str(a)==b):\n",
    "        print(\"true\")\n",
    "    else:\n",
    "        print(\"false\")\n",
    "a=int(input())\n",
    "palin(a)\n",
    " \n"
   ]
  },
  {
   "cell_type": "code",
   "execution_count": null,
   "id": "75a68dc5",
   "metadata": {},
   "outputs": [],
   "source": [
    " \"\"\"\n",
    " Check Armstrong\n",
    "Send Feedback\n",
    "Write a Program to determine if the given number is Armstrong number or not. Print true if number is armstrong, otherwise print false.\n",
    "An Armstrong number is a number (with digits n) such that the sum of its digits raised to nth power is equal to the number itself.\n",
    "For example,\n",
    "371, as 3^3 + 7^3 + 1^3 = 371\n",
    "1634, as 1^4 + 6^4 + 3^4 + 4^4 = 1634\n",
    "Input Format :\n",
    "Integer n\n",
    "Output Format :\n",
    "true or false\n",
    "Sample Input 1 :\n",
    "1\n",
    "Sample Output 1 :\n",
    "true\n",
    "Sample Input 2 :\n",
    "103\n",
    "Sample Output 2 :\n",
    "false\n",
    " \n",
    "\"\"\"\n",
    "    \n",
    "def arm(a):\n",
    "    c=a\n",
    "    rev=0\n",
    "    length=0\n",
    "    r=a\n",
    "    while(r!=0):\n",
    "        r=r//10\n",
    "        length=length+1\n",
    "    print(length)\n",
    "    while(a!=0):\n",
    "        v=a%10\n",
    "        rev=rev+v**(length)\n",
    "        a=a//10\n",
    "    print(rev)\n",
    "    if(c==rev):\n",
    "        print(\"true\")\n",
    "    else:\n",
    "        print(\"False\")\n",
    "a=int(input())\n",
    "arm(a)\n"
   ]
  },
  {
   "cell_type": "code",
   "execution_count": null,
   "id": "7c2f4096",
   "metadata": {},
   "outputs": [],
   "source": [
    "144"
   ]
  },
  {
   "cell_type": "markdown",
   "id": "a6ed1cb5",
   "metadata": {},
   "source": [
    "### Lists"
   ]
  },
  {
   "cell_type": "code",
   "execution_count": 22,
   "id": "8a7ca8fe",
   "metadata": {},
   "outputs": [
    {
     "name": "stdout",
     "output_type": "stream",
     "text": [
      "[1, 2, 'Nikhil', 'nikhil', 5.6]\n"
     ]
    }
   ],
   "source": [
    "a=[1,2,\"Nikhil\",'nikhil',5.6]\n",
    "print(a)"
   ]
  },
  {
   "cell_type": "code",
   "execution_count": 23,
   "id": "0a80f3fd",
   "metadata": {},
   "outputs": [
    {
     "name": "stdout",
     "output_type": "stream",
     "text": [
      "65\n"
     ]
    },
    {
     "data": {
      "text/plain": [
       "'A'"
      ]
     },
     "execution_count": 23,
     "metadata": {},
     "output_type": "execute_result"
    }
   ],
   "source": [
    "a=65\n",
    "print(ord('A'))\n",
    "chr(a)"
   ]
  },
  {
   "cell_type": "markdown",
   "id": "72a8abf7",
   "metadata": {},
   "source": [
    "##### operations on lists"
   ]
  },
  {
   "cell_type": "code",
   "execution_count": 24,
   "id": "f94dda8b",
   "metadata": {},
   "outputs": [
    {
     "data": {
      "text/plain": [
       "list"
      ]
     },
     "execution_count": 24,
     "metadata": {},
     "output_type": "execute_result"
    }
   ],
   "source": [
    "#create a list\n",
    "a=[]\n",
    "b=[1,2,3]\n",
    "type(a)"
   ]
  },
  {
   "cell_type": "code",
   "execution_count": 25,
   "id": "dd24b280",
   "metadata": {},
   "outputs": [
    {
     "name": "stdout",
     "output_type": "stream",
     "text": [
      "1\n",
      "5.6\n",
      "[1, 2, 'Nikhil', 'rav', 5.6]\n"
     ]
    }
   ],
   "source": [
    "#access and change elements in lists\n",
    "a=[1,2,\"Nikhil\",'nikhil',5.6]\n",
    "print(a[0])\n",
    "print(a[-1])\n",
    "a[3]='rav'\n",
    "print(a)"
   ]
  },
  {
   "cell_type": "code",
   "execution_count": 26,
   "id": "80e0909f",
   "metadata": {},
   "outputs": [
    {
     "name": "stdout",
     "output_type": "stream",
     "text": [
      "[1, 2, 'Nikhil']\n",
      "[1, 2, 'Nikhil', 'rav', 5.6]\n",
      "[1, 2, 'Nikhil', 'rav', 5.6]\n"
     ]
    }
   ],
   "source": [
    "#slicing\n",
    "print(a[0:3])\n",
    "print(a[0:])\n",
    "print(a[0:10])\n"
   ]
  },
  {
   "cell_type": "code",
   "execution_count": 27,
   "id": "19a12abe",
   "metadata": {},
   "outputs": [
    {
     "name": "stdout",
     "output_type": "stream",
     "text": [
      "[1, 2, 'Nikhil', 'nikhil', 5.6, 'kir']\n",
      "[1, 2, 'Nikhil', 'nikhil', 5.6, 'kir', 'high']\n",
      "[1, 2, 'Nikhil', 'nikhil', 5.6, 'kir', 'high', 'high']\n",
      "[1, 2, 'Nikhil', 'nikhil', 5.6, 'kir', 'high', 'high', [9, 10, 11]]\n",
      "[1, 2, 'Nikhil', 'nikhil', 5.6, 'kir', 'high', 'high', [9, 10, 11], 9, 10, 11]\n",
      "[1, 2, 3, 4, 2, 4, 5]\n"
     ]
    }
   ],
   "source": [
    "#insert and appending in list\n",
    "a=[1,2,\"Nikhil\",'nikhil',5.6]\n",
    "a.append(\"kir\")\n",
    "print(a)\n",
    "a.insert(6,\"high\")\n",
    "print(a)\n",
    "a.insert(16,\"high\")#it stores at last \n",
    "print(a)\n",
    "a.append([9,10,11])\n",
    "print(a)\n",
    "a.extend([9,10,11])\n",
    "print(a)\n",
    "e=[1,2,3,4]\n",
    "f=[2,4,5]\n",
    "e.extend(f)\n",
    "print(e)\n"
   ]
  },
  {
   "cell_type": "code",
   "execution_count": 28,
   "id": "cc6effd6",
   "metadata": {},
   "outputs": [
    {
     "name": "stdout",
     "output_type": "stream",
     "text": [
      "[1, 3, 4, 2]\n",
      "[1, 4]\n"
     ]
    }
   ],
   "source": [
    "#removing element from list\n",
    "a=[1,2,3,4,2]\n",
    "a.remove(2)\n",
    "print(a)#it removes first 2 in list\n",
    "#delete at paticular index\n",
    "a.pop()#it removes last element and return\n",
    "#at index\n",
    "a.pop(1)\n",
    "print(a)\n"
   ]
  },
  {
   "cell_type": "code",
   "execution_count": 29,
   "id": "668a86d4",
   "metadata": {},
   "outputs": [
    {
     "name": "stdout",
     "output_type": "stream",
     "text": [
      "1673283987792\n",
      "1673371721200\n",
      "1673400394800\n"
     ]
    }
   ],
   "source": [
    "a=[1,2,\"parith\",3.4]\n",
    "print(id(a[1]))\n",
    "print(id(a[2]))\n",
    "print(id(a[3]))\n"
   ]
  },
  {
   "cell_type": "code",
   "execution_count": 30,
   "id": "43a36f55",
   "metadata": {},
   "outputs": [
    {
     "name": "stdout",
     "output_type": "stream",
     "text": [
      "1 2 nikhil 9 10 11 Nikhil \n",
      "1 2 nikhil 9 10 11 Nikhil \n",
      "nikhil 9 10 11 Nikhil "
     ]
    }
   ],
   "source": [
    "li=[1,2,\"nikhil\",9,10,11,'Nikhil']\n",
    "for i in range(len(li)):\n",
    "    print(li[i],end=\" \")\n",
    "print()\n",
    "for i in li:\n",
    "    print(i,end=\" \")\n",
    "print()\n",
    "for i in li[2:]:\n",
    "    print(i,end=\" \")\n",
    "\n",
    "\n",
    "\n"
   ]
  },
  {
   "cell_type": "code",
   "execution_count": 3,
   "id": "bd426d31",
   "metadata": {},
   "outputs": [
    {
     "name": "stdout",
     "output_type": "stream",
     "text": [
      "[2, 3, 45, 50]\n",
      "[50, 45, 3, 2, 1]\n",
      "[2, 45]\n",
      "[50, 45, 3]\n",
      "[2, 3, 45]\n",
      "[1, 2, 3, 45, 50]\n",
      "[1, 2]\n",
      "[1, 2, 3, 45]\n"
     ]
    }
   ],
   "source": [
    "a=[1,2,3,45,50]\n",
    "#-5 -4 -3 -2,-1\n",
    "#0  1  2  3  4\n",
    "print(a[-4::1])\n",
    "print(a[-1::-1])\n",
    "print(a[1:4:2])\n",
    "print(a[-1:-4:-1])\n",
    "print(a[-4:-1])\n",
    "print(a[:])\n",
    "print(a[:-3])\n",
    "print(a[:4])"
   ]
  },
  {
   "cell_type": "code",
   "execution_count": 32,
   "id": "3ff1d42c",
   "metadata": {},
   "outputs": [
    {
     "name": "stdout",
     "output_type": "stream",
     "text": [
      "1\n",
      "2\n",
      "3\n",
      "4\n",
      "[1, 2, 3, 4]\n"
     ]
    }
   ],
   "source": [
    "li=[]\n",
    "for i in range(4):\n",
    "    li.append(int(input()))\n",
    "print(li)\n"
   ]
  },
  {
   "cell_type": "code",
   "execution_count": 33,
   "id": "9e46e561",
   "metadata": {},
   "outputs": [
    {
     "name": "stdout",
     "output_type": "stream",
     "text": [
      "5\n"
     ]
    }
   ],
   "source": [
    "n=int(input())\n"
   ]
  },
  {
   "cell_type": "code",
   "execution_count": 37,
   "id": "9750732b",
   "metadata": {},
   "outputs": [
    {
     "name": "stdout",
     "output_type": "stream",
     "text": [
      "Nikhil Thammana\n"
     ]
    }
   ],
   "source": [
    "string=input()"
   ]
  },
  {
   "cell_type": "code",
   "execution_count": 38,
   "id": "2ddf8769",
   "metadata": {},
   "outputs": [
    {
     "data": {
      "text/plain": [
       "'Nikhil Thammana'"
      ]
     },
     "execution_count": 38,
     "metadata": {},
     "output_type": "execute_result"
    }
   ],
   "source": [
    "string"
   ]
  },
  {
   "cell_type": "code",
   "execution_count": 39,
   "id": "a9450a9d",
   "metadata": {},
   "outputs": [
    {
     "data": {
      "text/plain": [
       "['Nikhil', 'Thammana']"
      ]
     },
     "execution_count": 39,
     "metadata": {},
     "output_type": "execute_result"
    }
   ],
   "source": [
    "string.split(' ')"
   ]
  },
  {
   "cell_type": "code",
   "execution_count": 40,
   "id": "124e5f9f",
   "metadata": {},
   "outputs": [
    {
     "name": "stdout",
     "output_type": "stream",
     "text": [
      "nikhil thammana\n"
     ]
    }
   ],
   "source": [
    "str1=input()"
   ]
  },
  {
   "cell_type": "code",
   "execution_count": 44,
   "id": "a942c9e2",
   "metadata": {},
   "outputs": [
    {
     "name": "stdout",
     "output_type": "stream",
     "text": [
      "1 2 3 4 5\n"
     ]
    }
   ],
   "source": [
    "str1=input()\n",
    "str1=str1.split()"
   ]
  },
  {
   "cell_type": "code",
   "execution_count": 45,
   "id": "5e7ffdc4",
   "metadata": {},
   "outputs": [
    {
     "name": "stdout",
     "output_type": "stream",
     "text": [
      "[1, 2, 3, 4, 5]\n"
     ]
    }
   ],
   "source": [
    "li=[]\n",
    "for ele in str1:\n",
    "    li.append(int(ele))\n",
    "print(li)"
   ]
  },
  {
   "cell_type": "code",
   "execution_count": 46,
   "id": "d63fb74c",
   "metadata": {},
   "outputs": [
    {
     "name": "stdout",
     "output_type": "stream",
     "text": [
      "1 2 3 4 5\n"
     ]
    }
   ],
   "source": [
    "li=[int(x) for x in input().split()]"
   ]
  },
  {
   "cell_type": "code",
   "execution_count": 47,
   "id": "49d1bf97",
   "metadata": {},
   "outputs": [
    {
     "data": {
      "text/plain": [
       "[1, 2, 3, 4, 5]"
      ]
     },
     "execution_count": 47,
     "metadata": {},
     "output_type": "execute_result"
    }
   ],
   "source": [
    "li"
   ]
  },
  {
   "cell_type": "markdown",
   "id": "5e41b79a",
   "metadata": {},
   "source": [
    "### linear search\n"
   ]
  },
  {
   "cell_type": "code",
   "execution_count": 48,
   "id": "f2f57833",
   "metadata": {},
   "outputs": [
    {
     "name": "stdout",
     "output_type": "stream",
     "text": [
      "5\n",
      "1 2 3 6 5 2 4\n",
      "5\n",
      "4\n"
     ]
    }
   ],
   "source": [
    "n=int(input())\n",
    "l=[int(i) for i in input().split()]\n",
    "e=int(input())\n",
    "flag=0\n",
    "for i in range(len(l)):\n",
    "    if l[i]==e:\n",
    "        print(i)\n",
    "        flag=1\n",
    "        break\n",
    "if flag==0:\n",
    "    print(-1)"
   ]
  },
  {
   "cell_type": "code",
   "execution_count": null,
   "id": "662755f9",
   "metadata": {},
   "outputs": [],
   "source": [
    "#function\n",
    "def linear_search(li,element):\n",
    "    for i in range(len(li)):\n",
    "        if li[i]==element:\n",
    "            return i\n",
    "            break\n",
    "    else:\n",
    "        return \"Not found\"\n",
    "a=int(input())\n",
    "li=[int(i) for i in input().split()]\n",
    "element=int(input())\n",
    "index=linear_search(li,element)\n",
    "print(index)"
   ]
  },
  {
   "cell_type": "code",
   "execution_count": null,
   "id": "1720cfdd",
   "metadata": {},
   "outputs": [],
   "source": [
    "#mutable and immutable\n",
    "#varibles are immutable\n",
    "#lists are mutable\n",
    "#strings are immutable\n"
   ]
  },
  {
   "cell_type": "markdown",
   "id": "3d3d8455",
   "metadata": {},
   "source": [
    "#### passing variables through functions"
   ]
  },
  {
   "cell_type": "code",
   "execution_count": null,
   "id": "d2f3dd34",
   "metadata": {},
   "outputs": [],
   "source": [
    "def increment(a):\n",
    "    #global a  if we using global then we need to change parameter in fun\n",
    "    a=a+2\n",
    "    return a\n",
    "a=2\n",
    "a=increment(a)\n",
    "print(a)"
   ]
  },
  {
   "cell_type": "code",
   "execution_count": null,
   "id": "04d2b6b0",
   "metadata": {},
   "outputs": [],
   "source": [
    "def increment(li):\n",
    "    li[0]=2\n",
    "    return li\n",
    "\n",
    "\n",
    "li=[3,2,4,6]\n",
    "increment(li)\n",
    "print(li)"
   ]
  },
  {
   "cell_type": "code",
   "execution_count": null,
   "id": "68708fa9",
   "metadata": {},
   "outputs": [],
   "source": [
    "li=[2,3,4,5]\n",
    "for li[-1] in li:\n",
    "    print(li,end=\"*\")\n",
    "    print(li[-1])\n",
    "    # 2,3,4,2\n",
    "    # 2,3,4,3\n",
    "    # 2,3,4,4\n",
    "    # 2,3,4,4\n",
    "print()"
   ]
  },
  {
   "cell_type": "code",
   "execution_count": null,
   "id": "4fcfc586",
   "metadata": {},
   "outputs": [],
   "source": [
    "li=[2,3,4,5]\n",
    "for li[-2] in li:\n",
    "    print(li,end=\"*\")\n",
    "    print(li[-1])"
   ]
  },
  {
   "cell_type": "code",
   "execution_count": null,
   "id": "8d6ebf89",
   "metadata": {},
   "outputs": [],
   "source": [
    "def increment(li):\n",
    "    li=[1,3,4]\n",
    "    return li\n",
    "\n",
    "\n",
    "li=[3,2,4,6]\n",
    "increment(li)\n",
    "print(li)"
   ]
  },
  {
   "cell_type": "code",
   "execution_count": null,
   "id": "651c694e",
   "metadata": {},
   "outputs": [],
   "source": [
    "#reversing a list\n",
    "def reverse(li):\n",
    "    i=0\n",
    "    j=len(li)-1\n",
    "    while(i!=j):\n",
    "        temp=li[i]\n",
    "        li[i]=li[j]\n",
    "        li[j]=temp\n",
    "        i=i+1\n",
    "        j=j-1\n",
    "\n",
    "li=[2,3,4,5,6]\n",
    "reverse(li)\n",
    "print(li)\n"
   ]
  },
  {
   "cell_type": "code",
   "execution_count": null,
   "id": "5b590c01",
   "metadata": {},
   "outputs": [],
   "source": [
    "def reverse(li):\n",
    "    length=len(li)\n",
    "    for i in range(length//2):\n",
    "        li[i],li[length-i-1]=li[length-i-1],li[i]\n",
    "\n",
    "li=[2,3,4,5,6]\n",
    "reverse(li)\n",
    "print(li)"
   ]
  },
  {
   "cell_type": "code",
   "execution_count": null,
   "id": "3ff1440a",
   "metadata": {},
   "outputs": [],
   "source": [
    "\"\"\"\n",
    "Swap Alternate\n",
    "Send Feedback\n",
    "You have been given an array/list(ARR) of size N. You need to swap every pair of alternate elements in the array/list.\n",
    "You don't need to print or return anything, just change in the input array itself.\n",
    "Input Format :\n",
    "The first line contains an Integer 't' which denotes the number of test cases or queries to be run. Then the test cases follow.\n",
    "\n",
    "First line of each test case or query contains an integer 'N' representing the size of the array/list.\n",
    "\n",
    "Second line contains 'N' single space separated integers representing the elements in the array/list.\n",
    "Output Format :\n",
    "For each test case, print the elements of the resulting array in a single row separated by a single space.\n",
    "\n",
    "Output for every test case will be printed in a separate line.\n",
    "Constraints :\n",
    "1 <= t <= 10^2\n",
    "0 <= N <= 10^5\n",
    "Time Limit: 1sec\n",
    "Sample Input 1:\n",
    "1\n",
    "6\n",
    "9 3 6 12 4 32\n",
    "\n",
    "\n",
    "Sample Output 1 :\n",
    "3 9 12 6 32 4\n",
    "\"\"\"\n",
    "def sp(d,lis):\n",
    "    lis2=lis\n",
    "    for i in range(d+1):\n",
    "        for j in range(1,len(lis2)):\n",
    "            #lis[j-1],lis[j]=lis[j-1],lis[j]\n",
    "            temp=lis2[j-1]\n",
    "            lis2[j-1]=lis2[j]\n",
    "            lis2[j]=temp\n",
    "    return lis2\n",
    "def note(a):\n",
    "    for i in range(a):\n",
    "        d=int(input())\n",
    "        lis=[int(i) for i in input().split()]\n",
    "        b=sp(d,lis)\n",
    "        print(b)\n",
    "        \n",
    "a=int(input())\n",
    "note(a)\n",
    "\n"
   ]
  },
  {
   "cell_type": "code",
   "execution_count": null,
   "id": "b42662f2",
   "metadata": {},
   "outputs": [],
   "source": [
    "\"\"\"\n",
    "Find Unique\n",
    "Send Feedback\n",
    "You have been given an integer array/list(ARR) of size N. Where N is equal to [2M + 1].\n",
    "Now, in the given array/list, 'M' numbers are present twice and one number is present only once.\n",
    "You need to find and return that number which is unique in the array/list.\n",
    " Note:\n",
    "Unique element is always present in the array/list according to the given condition.\n",
    "Input format :\n",
    "The first line contains an Integer 't' which denotes the number of test cases or queries to be run. Then the test cases follow.\n",
    "\n",
    "First line of each test case or query contains an integer 'N' representing the size of the array/list.\n",
    "\n",
    "Second line contains 'N' single space separated integers representing the elements in the array/list.\n",
    "Output Format :\n",
    "For each test case, print the unique element present in the array.\n",
    "\n",
    "Output for every test case will be printed in a separate line.\n",
    "Constraints :\n",
    "1 <= t <= 10^2\n",
    "0 <= N <= 10^3\n",
    "Time Limit: 1 sec\n",
    "Sample Input 1:\n",
    "1\n",
    "7\n",
    "2 3 1 6 3 6 2\n",
    "Sample Output 1:\n",
    "1\n",
    "Sample Input 2:\n",
    "2\n",
    "5\n",
    "2 4 7 2 7\n",
    "9\n",
    "1 3 1 3 6 6 7 10 7\n",
    "Sample Output 2:\n",
    "4\n",
    "10\n",
    "\n",
    "\"\"\"\n",
    "def func(d,li):\n",
    "    list1=li\n",
    "    li2=[]\n",
    "    for i in range(len(list1)):\n",
    "        if list1.count(list1[i])==1:\n",
    "            li2.append(li[i])\n",
    "    print(*li2)\n",
    "        \n",
    "\n",
    "a=int(input())\n",
    "for i in range(a):\n",
    "    d=int(input())\n",
    "    li=[int(j) for j in input().split()]\n",
    "    func(d,li)"
   ]
  },
  {
   "cell_type": "code",
   "execution_count": null,
   "id": "d6b4a75b",
   "metadata": {},
   "outputs": [],
   "source": [
    "\"\"\"\n",
    "Find Duplicate\n",
    "Send Feedback\n",
    "You have been given an integer array/list(ARR) of size N which contains numbers from 0 to (N - 2). Each number is present at least once. That is, if N = 5, the array/list constitutes values ranging from 0 to 3 and among these, there is a single integer value that is present twice. You need to find and return that duplicate number present in the array.\n",
    "Note :\n",
    "Duplicate number is always present in the given array/list.\n",
    "Input format :\n",
    "The first line contains an Integer 't' which denotes the number of test cases or queries to be run. Then the test cases follow.\n",
    "\n",
    "First line of each test case or query contains an integer 'N' representing the size of the array/list.\n",
    "\n",
    "Second line contains 'N' single space separated integers representing the elements in the array/list.\n",
    "Output Format :\n",
    "For each test case, print the duplicate element in the array/list.\n",
    "\n",
    "Output for every test case will be printed in a separate line.\n",
    "Constraints :\n",
    "1 <= t <= 10^2\n",
    "0 <= N <= 10^3\n",
    "Time Limit: 1 sec\n",
    "Sample Input 1:\n",
    "1\n",
    "9\n",
    "0 7 2 5 4 7 1 3 6\n",
    "Sample Output 1:\n",
    "7\n",
    "Sample Input 2:\n",
    "2\n",
    "5\n",
    "0 2 1 3 1\n",
    "7\n",
    "0 3 1 5 4 3 2\n",
    "Sample Output 2:\n",
    "1\n",
    "3\n",
    "\"\"\"\n",
    "def func(d,li):\n",
    "    list1=li\n",
    "    li2=[]\n",
    "    for i in range(len(list1)):\n",
    "        if (list1[i] not in li2) and list1.count(list1[i])>1:\n",
    "            li2.append(li[i])\n",
    "    print(*li2)\n",
    "        \n",
    "\n",
    "a=int(input())\n",
    "for i in range(a):\n",
    "    d=int(input())\n",
    "    li=[int(j) for j in input().split()]\n",
    "    func(d,li)\n",
    "\n"
   ]
  },
  {
   "cell_type": "code",
   "execution_count": null,
   "id": "da823ba3",
   "metadata": {},
   "outputs": [],
   "source": [
    "\"\"\"\n",
    "Pair Sum\n",
    "Send Feedback\n",
    "You have been given an integer array/list(ARR) and a number X. Find and return the total number of pairs in the array/list which sum to X.\n",
    "Note:\n",
    "Given array/list can contain duplicate elements. \n",
    "Input format :\n",
    "The first line contains an Integer 't' which denotes the number of test cases or queries to be run. Then the test cases follow.\n",
    "\n",
    "First line of each test case or query contains an integer 'N' representing the size of the first array/list.\n",
    "\n",
    "Second line contains 'N' single space separated integers representing the elements in the array/list.\n",
    "\n",
    "Third line contains an integer 'X'.\n",
    "Output format :\n",
    "For each test case, print the total number of pairs present in the array/list.\n",
    "\n",
    "Output for every test case will be printed in a separate line.\n",
    "Constraints :\n",
    "1 <= t <= 10^2\n",
    "0 <= N <= 10^3\n",
    "0 <= X <= 10^9\n",
    "Time Limit: 1 sec\n",
    "Sample Input 1:\n",
    "1\n",
    "9\n",
    "1 3 6 2 5 4 3 2 4\n",
    "7\n",
    "Sample Output 1:\n",
    "7\n",
    "Sample Input 2:\n",
    "2\n",
    "9\n",
    "1 3 6 2 5 4 3 2 4\n",
    "12\n",
    "6\n",
    "2 8 10 5 -2 5\n",
    "10\n",
    "Sample Output 2:\n",
    "0\n",
    "2\n",
    "\n",
    " Explanation for Input 2:\n",
    "Since there doesn't exist any pair with sum equal to 12 for the first query, we print 0.\n",
    "\n",
    "For the second query, we have 2 pairs in total that sum up to 10. They are, (2, 8) and (5, 5).\n",
    "\n",
    "\"\"\"\n",
    "def func(d,b):\n",
    "    c=b\n",
    "    count=0\n",
    "    for i in range(len(c)):\n",
    "        for j in range(i+1,len(c)):\n",
    "            if(c[i]+c[j]==d):\n",
    "                count=count+1\n",
    "    return count\n",
    "    \n",
    "\n",
    "m=int(input())\n",
    "for i in range(m):\n",
    "    d=int(input())\n",
    "    b=[int(x) for x in input().split()]\n",
    "    print(func(d,b))\n",
    "    \n",
    "\n",
    "\n",
    "    "
   ]
  },
  {
   "cell_type": "code",
   "execution_count": null,
   "id": "bae3a7ae",
   "metadata": {},
   "outputs": [],
   "source": [
    "\"\"\"\n",
    "Triplet Sum\n",
    "Send Feedback\n",
    "You have been given a random integer array/list(ARR) and a number X. Find and return the number of triplets in the array/list which sum to X.\n",
    "Note :\n",
    "Given array/list can contain duplicate elements.\n",
    "Input format :\n",
    "The first line contains an Integer 't' which denotes the number of test cases or queries to be run. Then the test cases follow.\n",
    "\n",
    "First line of each test case or query contains an integer 'N' representing the size of the first array/list.\n",
    "\n",
    "Second line contains 'N' single space separated integers representing the elements in the array/list.\n",
    "\n",
    "Third line contains an integer 'X'.\n",
    "Output format :\n",
    "For each test case, print the total number of triplets present in the array/list.\n",
    "\n",
    "Output for every test case will be printed in a separate line.\n",
    "Constraints :\n",
    "1 <= t <= 50\n",
    "0 <= N <= 10^2\n",
    "0 <= X <= 10^9\n",
    "Time Limit: 1 sec\n",
    "Sample Input 1:\n",
    "1\n",
    "7\n",
    "1 2 3 4 5 6 7 \n",
    "12\n",
    "Sample Output 1:\n",
    "5\n",
    "Sample Input 2:\n",
    "2\n",
    "7\n",
    "1 2 3 4 5 6 7 \n",
    "19\n",
    "9\n",
    "2 -5 8 -6 0 5 10 11 -3\n",
    "10\n",
    "Sample Output 2:\n",
    "0\n",
    "5\n",
    "Explanation for Input 2:\n",
    "Since there doesn't exist any triplet with sum equal to 19 for the first query, we print 0.\n",
    "\n",
    "For the second query, we have 5 triplets in total that sum up to 10. They are, (2, 8, 0), (2, 11, -3), (-5, 5, 10), (8, 5, -3) and (-6, 5, 11)\n",
    "\n",
    "\"\"\"\n",
    "def func(e,b):\n",
    "    c=b\n",
    "    count=0\n",
    "    for i in range(len(c)):\n",
    "        for j in range(i+1,len(c)):\n",
    "            for k in range(j+1,len(c)):\n",
    "                if(c[i]+c[j]+c[k]==e):\n",
    "                    count=count+1\n",
    "            \n",
    "    return count\n",
    "    \n",
    "\n",
    "m=int(input())\n",
    "for i in range(m):\n",
    "    d=int(input())\n",
    "    b=[int(x) for x in input().split()]\n",
    "    e=int(input())\n",
    "    print(func(e,b))\n"
   ]
  },
  {
   "cell_type": "code",
   "execution_count": null,
   "id": "6378b6fa",
   "metadata": {},
   "outputs": [],
   "source": [
    "\"\"\"\n",
    "Sort 0 1\n",
    "Send Feedback\n",
    "You have been given an integer array/list(ARR) of size N that contains only integers, 0 and 1. Write a function to sort this array/list. Think of a solution which scans the array/list only once and don't require use of an extra array/list.\n",
    "Note:\n",
    "You need to change in the given array/list itself. Hence, no need to return or print anything. \n",
    "Input format :\n",
    "The first line contains an Integer 't' which denotes the number of test cases or queries to be run. Then the test cases follow.\n",
    "\n",
    "First line of each test case or query contains an integer 'N' representing the size of the array/list.\n",
    "\n",
    "Second line contains 'N' single space separated integers(all 0s and 1s) representing the elements in the array/list.\n",
    "Output format :\n",
    "For each test case, print the sorted array/list elements in a row separated by a single space.\n",
    "\n",
    "Output for every test case will be printed in a separate line.\n",
    "Constraints :\n",
    "1 <= t <= 10^2\n",
    "0 <= N <= 10^5\n",
    "Time Limit: 1 sec\n",
    "Sample Input 1:\n",
    "1\n",
    "7\n",
    "0 1 1 0 1 0 1\n",
    "Sample Output 1:\n",
    "0 0 0 1 1 1 1\n",
    "Sample Input 2:\n",
    "2\n",
    "8\n",
    "1 0 1 1 0 1 0 1\n",
    "5\n",
    "0 1 0 1 0\n",
    "Sample Output 2:\n",
    "0 0 0 1 1 1 1 1\n",
    "0 0 0 1 1 \n",
    "\n",
    "\"\"\"\n",
    "\n",
    "\n",
    "l=[1,0,1,1,0,1,0,1]\n",
    "a=0\n",
    "for i in range(len(l)):\n",
    "    if l[i]==0:\n",
    "        temp=l[a]\n",
    "        l[a]=l[i]\n",
    "        l[i]=temp\n",
    "        a+=1\n",
    "print(l)"
   ]
  },
  {
   "cell_type": "code",
   "execution_count": null,
   "id": "5062d3e0",
   "metadata": {},
   "outputs": [],
   "source": [
    "l=[1,0,1,1,0,1,0,1]\n",
    "start=0\n",
    "i=0\n",
    "while(i<len(l)):\n",
    "    if(l[i]==0):\n",
    "        temp=l[start]\n",
    "        l[start]=l[i]\n",
    "        l[i]=temp\n",
    "        start=start+1\n",
    "    i=i+1\n",
    "print(l)"
   ]
  },
  {
   "cell_type": "code",
   "execution_count": null,
   "id": "3837ea7a",
   "metadata": {},
   "outputs": [],
   "source": [
    "l1=[1,2,3,4,7]\n",
    "l2=[2,3,4]\n",
    "for i in l2:\n",
    "    if i in l1:\n",
    "        print(i,end=\" \")"
   ]
  },
  {
   "cell_type": "code",
   "execution_count": null,
   "id": "a8515849",
   "metadata": {},
   "outputs": [],
   "source": [
    "\"\"\"\n",
    "Array Intersection\n",
    "Send Feedback\n",
    "You have been given two integer arrays/list(ARR1 and ARR2) of size M and N, respectively. You need to print their intersection; An intersection for this problem can be defined when both the arrays/lists contain a particular value or to put it in other words, when there is a common value that exists in both the arrays/lists.\n",
    "Note :\n",
    "Input arrays/lists can contain duplicate elements.\n",
    "\n",
    "The intersection elements printed would be in the order they appear in the first array/list(ARR1)\n",
    "\n",
    "Input format :\n",
    "The first line contains an Integer 't' which denotes the number of test cases or queries to be run. Then the test cases follow.\n",
    "\n",
    "First line of each test case or query contains an integer 'N' representing the size of the first array/list.\n",
    "\n",
    "Second line contains 'N' single space separated integers representing the elements of the first the array/list.\n",
    "\n",
    "Third line contains an integer 'M' representing the size of the second array/list.\n",
    "\n",
    "Fourth line contains 'M' single space separated integers representing the elements of the second array/list.\n",
    "Output format :\n",
    "For each test case, print the intersection elements in a row, separated by a single space.\n",
    "\n",
    "Output for every test case will be printed in a separate line.\n",
    "Constraints :\n",
    "1 <= t <= 10^2\n",
    "0 <= N <= 10^5\n",
    "0 <= M <= 10^5\n",
    "Time Limit: 1 sec \n",
    "Sample Input 1 :\n",
    "2\n",
    "6\n",
    "2 6 8 5 4 3\n",
    "4\n",
    "2 3 4 7 \n",
    "2\n",
    "10 10\n",
    "1\n",
    "10\n",
    "Sample Output 1 :\n",
    "2 4 3\n",
    "10\n",
    "Sample Input 2 :\n",
    "1\n",
    "4\n",
    "2 6 1 2\n",
    "5\n",
    "1 2 3 4 2\n",
    "Sample Output 2 :\n",
    "2 1 2\n",
    "\"\"\"\n",
    "l=[2,4,5,6]\n",
    "l2=[3,4,4,6]\n",
    "l.sort()\n",
    "l2.sort()\n",
    "l3=[]\n",
    "i=0\n",
    "j=0\n",
    "while(i<len(l) and j<len(l2)):\n",
    "    if(l[i]==l2[j]):\n",
    "        #if(i==0 or l[i-1]!=l2[j]):\n",
    "            l3.append(l[i])\n",
    "            i=i+1\n",
    "            j=j+1\n",
    "        \n",
    "    elif(l[i]<l2[j]):\n",
    "            i=i+1\n",
    "    else:\n",
    "        j=j+1 \n",
    "print(l3)                \n",
    "               \n",
    "            \n",
    "    \n",
    "        \n",
    "            "
   ]
  },
  {
   "cell_type": "markdown",
   "id": "be3c698d",
   "metadata": {},
   "source": [
    "### Binary search\n",
    "        "
   ]
  },
  {
   "cell_type": "code",
   "execution_count": null,
   "id": "ed825708",
   "metadata": {},
   "outputs": [],
   "source": [
    "a=[int(i) for i in input().split()[:3]]\n",
    "print(a)\n"
   ]
  },
  {
   "cell_type": "code",
   "execution_count": null,
   "id": "d2345024",
   "metadata": {},
   "outputs": [],
   "source": [
    "a=[1,22,33,66,88,99,100]\n",
    "element=33\n",
    "i=0\n",
    "j=len(a)-1\n",
    "flag=1\n",
    "while(i<=j):\n",
    "    mid=(i+j)//2\n",
    "    if(a[mid]==ele):\n",
    "        print(\"yes\")\n",
    "        flag=0\n",
    "        break\n",
    "    elif(a[mid]<element):\n",
    "        i=mid+1\n",
    "    elif(a[j]>element):\n",
    "        j=mid-1\n",
    "if(flag==1):\n",
    "    print(\"No\")\n",
    "        "
   ]
  },
  {
   "cell_type": "markdown",
   "id": "aad97076",
   "metadata": {},
   "source": [
    "### selection sort\n"
   ]
  },
  {
   "cell_type": "code",
   "execution_count": null,
   "id": "13fef710",
   "metadata": {},
   "outputs": [],
   "source": [
    "a=[1,3,4,2,5,6,7,8]\n",
    "for i in range(0,len(a)-1):\n",
    "    maxi=i\n",
    "    for j in range(i,len(a)):\n",
    "        if(a[j]>=a[maxi]):\n",
    "            maxi=j\n",
    "    temp=a[i]\n",
    "    a[i]=a[maxi]\n",
    "    a[maxi]=temp\n",
    "print(a)\n",
    "        "
   ]
  },
  {
   "cell_type": "code",
   "execution_count": null,
   "id": "5e44cda2",
   "metadata": {},
   "outputs": [],
   "source": [
    "a=[1,3,4,2,5,5,6,7,8]\n",
    "for i in range(0,len(a)-1):\n",
    "    n_index=a.index(max(a[i:]),i)\n",
    "    temp=a[i]\n",
    "    a[i]=a[n_index]\n",
    "    a[n_index]=temp\n",
    "print(a)"
   ]
  },
  {
   "cell_type": "code",
   "execution_count": null,
   "id": "9fa5c4d7",
   "metadata": {},
   "outputs": [],
   "source": [
    "\"\"\"\n",
    "Code Binary Search\n",
    "Send Feedback\n",
    "You have been given a sorted(in ascending order) integer array/list(ARR) of size N and an element X. Write a function to search this element in the given input array/list using 'Binary Search'. Return the index of the element in the input array/list. In case the element is not present in the array/list, then return -1.\n",
    "Input format :\n",
    "The first line contains an Integer 'N' which denotes the size of the array/list.\n",
    "\n",
    "Second line contains 'N' single space separated integers representing the elements in the array/list.\n",
    "\n",
    "Third line contains an Integer 't' which denotes the number of test cases or queries to be run. Then the test cases follow..\n",
    "\n",
    "All the 't' lines henceforth, will take the value of X to be searched for in the array/list.\n",
    "Output Format :\n",
    "For each test case, print the index at which X is present, -1 otherwise.\n",
    "\n",
    "Output for every test case will be printed in a separate line.\n",
    "Constraints :\n",
    "1 <= t <= 10^4\n",
    "0 <= N <= 10^6\n",
    "0 <= X <= 10^9\n",
    "Time Limit: 1 sec\n",
    "Sample Input 1:\n",
    "7\n",
    "1 3 7 9 11 12 45\n",
    "1\n",
    "3\n",
    "Sample Output 1:\n",
    "1\n",
    "Sample Input 2:\n",
    "7\n",
    "1 2 3 4 5 6 7\n",
    "2\n",
    "9\n",
    "7\n",
    "Sample Output 2:\n",
    "-1\n",
    "6\n",
    "\n",
    "\"\"\"\n",
    "a=int(input())\n",
    "li=[int(x) for x in input().split()[:a]]\n",
    "b=int(input())\n",
    "for i in range(b):\n",
    "    c=int(input())\n",
    "    start=0\n",
    "    end=len(li)-1\n",
    "    flag=1\n",
    "    while(start<=end):\n",
    "        mid=(start+end)//2\n",
    "        if(li[mid]==c):\n",
    "            print(\"index found at\",mid)\n",
    "            flag=0\n",
    "            break\n",
    "        elif(c>li[mid]):\n",
    "            start=mid+1\n",
    "        elif(c<li[mid]):\n",
    "            end=mid-1\n",
    "    if(flag==1):\n",
    "        print(\"No\")\n",
    "        "
   ]
  },
  {
   "cell_type": "markdown",
   "id": "32608de8",
   "metadata": {},
   "source": [
    "### Bubble sort"
   ]
  },
  {
   "cell_type": "code",
   "execution_count": null,
   "id": "c9b484e2",
   "metadata": {},
   "outputs": [],
   "source": [
    "a=[int(x) for x in input().split()]\n",
    "for i in range(0,len(a)-1):\n",
    "    for j in range(0,len(a)-i-1):\n",
    "        if(a[j]>a[j+1]):\n",
    "            a[j],a[j+1]=a[j+1],a[j]\n",
    "print(a)"
   ]
  },
  {
   "cell_type": "code",
   "execution_count": null,
   "id": "b314192a",
   "metadata": {},
   "outputs": [],
   "source": [
    "\"\"\"\n",
    "Code Bubble Sort\n",
    "Send Feedback\n",
    "Provided with a random integer array/list(ARR) of size N, you have been required to sort this array using 'Bubble Sort'.\n",
    "Note:\n",
    "Change in the input array/list itself. You don't need to return or print the elements.\n",
    "Input format :\n",
    "The first line contains an Integer 't' which denotes the number of test cases or queries to be run. Then the test cases follow.\n",
    "\n",
    "First line of each test case or query contains an integer 'N' representing the size of the array/list.\n",
    "\n",
    "Second line contains 'N' single space separated integers representing the elements in the array/list.\n",
    "Output format :\n",
    "For each test case, print the elements of the array/list in sorted order separated by a single space.\n",
    "\n",
    "Output for every test case will be printed in a separate line.\n",
    "Constraints :\n",
    "1 <= t <= 10^2\n",
    "0 <= N <= 10^3\n",
    "Time Limit: 1 sec\n",
    "Sample Input 1:\n",
    "1\n",
    "7\n",
    "2 13 4 1 3 6 28\n",
    "Sample Output 1:\n",
    "1 2 3 4 6 13 28\n",
    "Sample Input 2:\n",
    "2\n",
    "5\n",
    "9 3 6 2 0\n",
    "4\n",
    "4 3 2 1\n",
    "Sample Output 2:\n",
    "0 2 3 6 9\n",
    "1 2 3 4\n",
    "\"\"\"\n",
    "def bs(li):\n",
    "    ai=li\n",
    "    for i in range(0,len(ai)-1):\n",
    "        for j in range(0,len(ai)-i-1):\n",
    "            if(ai[j]>ai[j+1]):\n",
    "                ai[j],ai[j+1]=ai[j+1],ai[j]\n",
    "    prin(ai)\n",
    "\n",
    "def prin(ai):\n",
    "    for i in ai:\n",
    "        print(i,end=\" \")\n",
    "\n",
    "def noofit(a):\n",
    "    for i in range(a):\n",
    "        c=int(input())\n",
    "        li=[int(x) for x in input().split()]\n",
    "        bs(li)\n",
    "        \n",
    "        \n",
    "        \n",
    "a=int(input())\n",
    "noofit(a)\n"
   ]
  },
  {
   "cell_type": "markdown",
   "id": "f0192e89",
   "metadata": {},
   "source": [
    "### Insertion sort"
   ]
  },
  {
   "cell_type": "code",
   "execution_count": null,
   "id": "b8593dde",
   "metadata": {},
   "outputs": [],
   "source": [
    "\n",
    "a=[1,5,-1,3,3,1,1,2,4,5,6,7]\n",
    "i=0\n",
    "while(i<len(a)):\n",
    "    j=i\n",
    "    while(j>0):\n",
    "        if(a[j]<=a[j-1]):\n",
    "            temp=a[j]\n",
    "            a[j]=a[j-1]\n",
    "            a[j-1]=temp\n",
    "        j=j-1\n",
    "    i=i+1\n",
    "print(a)\n",
    "        "
   ]
  },
  {
   "cell_type": "markdown",
   "id": "1b09ad5c",
   "metadata": {},
   "source": [
    "### Merge two sorted array lists"
   ]
  },
  {
   "cell_type": "code",
   "execution_count": null,
   "id": "237e4412",
   "metadata": {},
   "outputs": [],
   "source": [
    "a=[1,2,3,5,7]\n",
    "b=[2,4,6]\n",
    "i=0\n",
    "j=0\n",
    "c=[]\n",
    "while(i<len(a) and j<len(b)):\n",
    "    if(a[i]<b[j]):\n",
    "        c.append(a[i])\n",
    "        i=i+1\n",
    "    else:\n",
    "        c.append(b[j])\n",
    "        j=j+1\n",
    "while(i<len(a)):\n",
    "    c.append(a[i])\n",
    "    i=i+1\n",
    "while(j<len(b)):\n",
    "    c.append(b[j])\n",
    "    j=j+1\n",
    "print(c)\n",
    "        "
   ]
  },
  {
   "cell_type": "code",
   "execution_count": null,
   "id": "35447075",
   "metadata": {},
   "outputs": [],
   "source": [
    "\"\"\"\n",
    "Push Zeros to end\n",
    "Send Feedback\n",
    "You have been given a random integer array/list(ARR) of size N. You have been required to push all the zeros that are present in the array/list to the end of it. Also, make sure to maintain the relative order of the non-zero elements.\n",
    "Note:\n",
    "Change in the input array/list itself. You don't need to return or print the elements.\n",
    "\n",
    "You need to do this in one scan of array only. Don't use extra space.\n",
    "\n",
    "Input format :\n",
    "The first line contains an Integer 't' which denotes the number of test cases or queries to be run. Then the test cases follow.\n",
    "\n",
    "First line of each test case or query contains an integer 'N' representing the size of the array/list.\n",
    "\n",
    "Second line contains 'N' single space separated integers representing the elements in the array/list.\n",
    "Output Format :\n",
    "For each test case, print the elements of the array/list in the desired order separated by a single space.\n",
    "\n",
    "Output for every test case will be printed in a separate line.\n",
    "Constraints :\n",
    "1 <= t <= 10^2\n",
    "0 <= N <= 10^5\n",
    "Time Limit: 1 sec\n",
    "Sample Input 1:\n",
    "1\n",
    "7\n",
    "2 0 0 1 3 0 0\n",
    "Sample Output 1:\n",
    "2 1 3 0 0 0 0\n",
    " Explanation for the Sample Input 1 :\n",
    "All the zeros have been pushed towards the end of the array/list. Another important fact is that the order of the non-zero elements have been maintained as they appear in the input array/list.\n",
    "Sample Input 2:\n",
    "2\n",
    "5\n",
    "0 3 0 2 0\n",
    "4\n",
    "9 0 0 8 2\n",
    "Sample Output 2:\n",
    "3 2 0 0 0\n",
    "9 8 2 0 0 \n",
    "\n",
    "\"\"\"\n",
    "l=[0,0,1,0,1,0,1,0,1,1]\n",
    "   \n",
    "a=0\n",
    "i=0\n",
    "while(i<len(l)):\n",
    "    if(l[i]!=0):\n",
    "        temp=l[a]\n",
    "        l[a]=l[i]\n",
    "        l[i]=temp\n",
    "        a=a+1\n",
    "    i=i+1\n",
    "print(l)\n",
    "        \n",
    "        \n",
    "        "
   ]
  },
  {
   "cell_type": "code",
   "execution_count": null,
   "id": "03f87fa3",
   "metadata": {},
   "outputs": [],
   "source": [
    "\"\"\"\n",
    "Rotate array\n",
    "Send Feedback\n",
    "You have been given a random integer array/list(ARR) of size N. Write a function that rotates the given array/list by D elements(towards the left).\n",
    " Note:\n",
    "Change in the input array/list itself. You don't need to return or print the elements.\n",
    "Input format :\n",
    "The first line contains an Integer 't' which denotes the number of test cases or queries to be run. Then the test cases follow.\n",
    "\n",
    "First line of each test case or query contains an integer 'N' representing the size of the array/list.\n",
    "\n",
    "Second line contains 'N' single space separated integers representing the elements in the array/list.\n",
    "\n",
    "Third line contains the value of 'D' by which the array/list needs to be rotated.\n",
    "Output Format :\n",
    "For each test case, print the rotated array/list in a row separated by a single space.\n",
    "\n",
    "Output for every test case will be printed in a separate line.\n",
    "Constraints :\n",
    "1 <= t <= 10^4\n",
    "0 <= N <= 10^6\n",
    "0 <= D <= N\n",
    "Time Limit: 1 sec\n",
    "Sample Input 1:\n",
    "1\n",
    "7\n",
    "1 2 3 4 5 6 7\n",
    "2\n",
    "Sample Output 1:\n",
    "3 4 5 6 7 1 2\n",
    "Sample Input 2:\n",
    "2\n",
    "7\n",
    "1 2 3 4 5 6 7\n",
    "0\n",
    "4\n",
    "1 2 3 4\n",
    "2\n",
    "Sample Output 2:\n",
    "1 2 3 4 5 6 7\n",
    "3 4 1 2\n",
    "\n",
    "\n",
    "\"\"\"\n",
    "import time\n",
    "start = time.time()\n",
    "b=int(input())\n",
    "a=[int(x) for x in input().split()[:b]]\n",
    "n=int(input())\n",
    "for i in range(n):\n",
    "    j=1\n",
    "    while(j<len(a)):\n",
    "        temp=a[j-1]\n",
    "        a[j-1]=a[j]\n",
    "        a[j]=temp\n",
    "        j=j+1\n",
    "print(a)\n",
    "\n",
    "end=time.time()\n",
    "\n",
    "print(\"The time of execution of above program is :\",(end-start) * 10**3, \"ms\")\n",
    "        "
   ]
  },
  {
   "cell_type": "code",
   "execution_count": null,
   "id": "2c5f4d29",
   "metadata": {},
   "outputs": [],
   "source": [
    "import time\n",
    "start = time.time()\n",
    "b=int(input())\n",
    "a=[int(x) for x in input().split()[:b]]\n",
    "n=int(input())\n",
    "for i in range(n):\n",
    "    b=a.pop(0)\n",
    "    a.append(b)\n",
    "print(a)\n",
    "\n",
    "end=time.time()\n",
    "\n",
    "print(\"The time of execution of above program is :\",(end-start) * 10**3, \"ms\")"
   ]
  },
  {
   "cell_type": "code",
   "execution_count": null,
   "id": "c86f4a32",
   "metadata": {},
   "outputs": [],
   "source": [
    "\"\"\"\n",
    "Sum of Two Arrays\n",
    "Send Feedback\n",
    "Two random integer arrays/lists have been given as ARR1 and ARR2 of size N and M respectively. Both the arrays/lists contain numbers from 0 to 9(i.e. single digit integer is present at every index). The idea here is to represent each array/list as an integer in itself of digits N and M.\n",
    "You need to find the sum of both the input arrays/list treating them as two integers and put the result in another array/list i.e. output array/list will also contain only single digit at every index.\n",
    "Note:\n",
    "The sizes N and M can be different. \n",
    "\n",
    "Output array/list(of all 0s) has been provided as a function argument. Its size will always be one more than the size of the bigger array/list. Place 0 at the 0th index if there is no carry. \n",
    "\n",
    "No need to print the elements of the output array/list.\n",
    "Input format :\n",
    "The first line contains an Integer 't' which denotes the number of test cases or queries to be run. Then the test cases follow.\n",
    "\n",
    "First line of each test case or query contains an integer 'N' representing the size of the first array/list.\n",
    "\n",
    "Second line contains 'N' single space separated integers representing the elements of the first array/list.\n",
    "\n",
    "Third line contains an integer 'M' representing the size of the second array/list.\n",
    "\n",
    "Fourth line contains 'M' single space separated integers representing the elements of the second array/list.\n",
    "Output Format :\n",
    "For each test case, print the required sum of the arrays/list in a row, separated by a single space.\n",
    "\n",
    "Output for every test case will be printed in a separate line.\n",
    "Constraints :\n",
    "1 <= t <= 10^2\n",
    "0 <= N <= 10^5\n",
    "0 <= M <= 10^5\n",
    "Time Limit: 1 sec \n",
    "Sample Input 1:\n",
    "1\n",
    "3\n",
    "6 2 4\n",
    "3\n",
    "7 5 6\n",
    "Sample Output 1:\n",
    "1 3 8 0\n",
    "Sample Input 2:\n",
    "2\n",
    "3\n",
    "8 5 2\n",
    "2\n",
    "1 3\n",
    "4\n",
    "9 7 6 1\n",
    "3\n",
    "4 5 9\n",
    "Sample Output 2:\n",
    "0 8 6 5\n",
    "1 0 2 2 0 \n",
    "\"\"\"\n",
    "from timeit import default_timer as timer\n",
    "start=timer()\n",
    "l= [8,5,9]\n",
    "l2=[9,7,6,1]\n",
    "#l3=[]\n",
    "k=max(len(l),len(l2))\n",
    "\"\"\"\n",
    "for i in range(k):\n",
    "    l3.append(0)\n",
    "\"\"\"\n",
    "i=len(l)-1\n",
    "j=len(l2)-1\n",
    "carry=0\n",
    "s=\"\"\n",
    "while(k>0):\n",
    "    sum1=carry\n",
    "    if(i>=0):\n",
    "        sum1=sum1+l[i]\n",
    "    if(j>=0):\n",
    "        sum1=sum1+l2[j]\n",
    "    carry=sum1//10\n",
    "    sum1=sum1%10\n",
    "    #l3[k-1]=sum1\n",
    "    s=str(sum1)+s\n",
    "    \n",
    "    k=k-1\n",
    "    j=j-1\n",
    "    i=i-1\n",
    "if carry>0:\n",
    "    s=str(carry)+s\n",
    "print([int(i) for i in list(s)])\n",
    "#print(l3)\n",
    "end=timer()\n",
    "\n",
    "print(\"The time of execution of above program is :\",(end-start) * 10**3, \"ms\")\n",
    "        \n",
    "    \n",
    "    \n",
    "    \n",
    "    "
   ]
  },
  {
   "cell_type": "code",
   "execution_count": null,
   "id": "ddac7774",
   "metadata": {},
   "outputs": [],
   "source": [
    "l2.reverse()\n",
    "print(l2)"
   ]
  },
  {
   "cell_type": "markdown",
   "id": "78a58cc4",
   "metadata": {},
   "source": [
    "### strings"
   ]
  },
  {
   "cell_type": "code",
   "execution_count": null,
   "id": "abb0bedd",
   "metadata": {},
   "outputs": [],
   "source": [
    "#string are immutable\n",
    "#sequence of characters\n",
    "s=\"Nikhil\"\n",
    "s2='Nikhil'\n",
    "s3=\"\"\"\n",
    "Nikhil is\n",
    "hi\n",
    "\"\"\"\n",
    "print(s,s2,s3)"
   ]
  },
  {
   "cell_type": "code",
   "execution_count": null,
   "id": "0bf82bdb",
   "metadata": {},
   "outputs": [],
   "source": [
    "s4='''my\n",
    "is nikhil\n",
    "'''\n",
    "s4[2]"
   ]
  },
  {
   "cell_type": "code",
   "execution_count": null,
   "id": "308ae1ec",
   "metadata": {},
   "outputs": [],
   "source": [
    "s4"
   ]
  },
  {
   "cell_type": "code",
   "execution_count": null,
   "id": "bb2701ab",
   "metadata": {},
   "outputs": [],
   "source": [
    "print(s4)"
   ]
  },
  {
   "cell_type": "code",
   "execution_count": null,
   "id": "0cdf539d",
   "metadata": {},
   "outputs": [],
   "source": [
    "s=\"parik\"\n",
    "b=\"parik\"\n",
    "a=\"parik\"\n",
    "print(id(a))\n",
    "print(id(b))\n",
    "print(id(s))"
   ]
  },
  {
   "cell_type": "code",
   "execution_count": null,
   "id": "6c436a8d",
   "metadata": {},
   "outputs": [],
   "source": [
    "a=\"Nikhil\"\n",
    "b=\"vickey\"\n",
    "\n",
    "print(a+b)\n",
    "id(a)"
   ]
  },
  {
   "cell_type": "code",
   "execution_count": null,
   "id": "9bb266c8",
   "metadata": {},
   "outputs": [],
   "source": [
    "print(a)"
   ]
  },
  {
   "cell_type": "code",
   "execution_count": null,
   "id": "f499608d",
   "metadata": {},
   "outputs": [],
   "source": [
    "id(a)"
   ]
  },
  {
   "cell_type": "code",
   "execution_count": null,
   "id": "8ffbb5e5",
   "metadata": {},
   "outputs": [],
   "source": [
    "a=\"blue\"\n",
    "a=a*3\n",
    "print(a)"
   ]
  },
  {
   "cell_type": "markdown",
   "id": "4a6f63de",
   "metadata": {},
   "source": [
    "### Iterating on string"
   ]
  },
  {
   "cell_type": "code",
   "execution_count": null,
   "id": "071ff987",
   "metadata": {},
   "outputs": [],
   "source": [
    "string=\"HElloworld\"\n",
    "for i in string:\n",
    "    print(i,end=\" \")"
   ]
  },
  {
   "cell_type": "code",
   "execution_count": null,
   "id": "24c47f47",
   "metadata": {},
   "outputs": [],
   "source": [
    "#in operator is used to check the substring\n",
    "str2=\"HEl\"\n",
    "if(str2  in string):\n",
    "    print(\"Yes\")\n",
    "else:\n",
    "    print(\"No\")"
   ]
  },
  {
   "cell_type": "markdown",
   "id": "6c92f632",
   "metadata": {},
   "source": [
    "### comparisons opertors"
   ]
  },
  {
   "cell_type": "markdown",
   "id": "a9d62511",
   "metadata": {},
   "source": [
    ">=\n",
    "<=\n",
    "=="
   ]
  },
  {
   "cell_type": "code",
   "execution_count": null,
   "id": "458acf47",
   "metadata": {},
   "outputs": [],
   "source": [
    "a=\"Nikhil\"==\"Nikhil\"\n",
    "#compares character by charater\n",
    "print(a)"
   ]
  },
  {
   "cell_type": "code",
   "execution_count": null,
   "id": "08587eb8",
   "metadata": {},
   "outputs": [],
   "source": [
    "a=\"nikhil\">=\"zikhil\"\n",
    "b=\"zikhil\">=\"nikhil\"\n",
    "c=\"nikhil\">=\"zikh\"\n",
    "d=\"nik\">=\"zikhil\"\n",
    "e=\"zik\">=\"nikh\"\n",
    "f=\"nik\">=\"nikhil\"\n",
    "#compare based on ascii values\n",
    "print(a)\n",
    "print(b)\n",
    "#\n",
    "print(c)\n",
    "print(d)\n",
    "print(e)\n",
    "#based on length it prints false\n",
    "print(f)"
   ]
  },
  {
   "cell_type": "markdown",
   "id": "225c7899",
   "metadata": {},
   "source": [
    "### operations"
   ]
  },
  {
   "cell_type": "code",
   "execution_count": null,
   "id": "d1861dce",
   "metadata": {},
   "outputs": [],
   "source": [
    "#split()\n",
    "str1=\"Nikhil vickey\"\n",
    "print(str1.split())\n",
    "\n",
    "str2=\"My name is Nikhil vickey\"\n",
    "#split only one item\n",
    "print(str2.split(\" \",1))\n",
    "print(str2.split(\" \",3))\n"
   ]
  },
  {
   "cell_type": "code",
   "execution_count": null,
   "id": "b097fe2e",
   "metadata": {},
   "outputs": [],
   "source": [
    "#replace\n",
    "\n",
    "str3=\"My name is Nikhil vickey\"\n",
    "b=str3.replace(\"name\",\"names\")\n",
    "print(b)\n",
    "c=\"My name is Nikhil Nikhil vickey\"\n",
    "f=c.replace(\"Nikhil\",\"n\")\n",
    "print(f)\n",
    "#it replace all the names\n",
    "#if we want to replace only one\n",
    "e=c.replace(\"Nikhil\",\"n\",1)\n",
    "print(e)\n",
    "\n"
   ]
  },
  {
   "cell_type": "code",
   "execution_count": null,
   "id": "583938bb",
   "metadata": {},
   "outputs": [],
   "source": [
    "str3=\"My name name is Nikhil vickey\"\n",
    "print(str3.find(\"name\"))\n",
    "# to find next string in string\n",
    "print(str3.find(\"name\",5,20))\n",
    "\n"
   ]
  },
  {
   "cell_type": "code",
   "execution_count": null,
   "id": "8390737b",
   "metadata": {},
   "outputs": [],
   "source": [
    "print(str3.lower())\n",
    "print(str3.upper())\n",
    "print(str3.swapcase())"
   ]
  },
  {
   "cell_type": "code",
   "execution_count": null,
   "id": "25f56e98",
   "metadata": {},
   "outputs": [],
   "source": [
    "#starts with\n",
    "\n",
    "str1=\"my name is parik\"\n",
    "ans=str1.startswith(\"imy name\")\n",
    "print(ans)\n",
    "ans=str1.startswith(\"name\",3)\n",
    "print(ans)"
   ]
  },
  {
   "cell_type": "code",
   "execution_count": null,
   "id": "2f799bbf",
   "metadata": {},
   "outputs": [],
   "source": [
    "s=\"abcde\"\n",
    "print(s.replace('a','e'))"
   ]
  },
  {
   "cell_type": "code",
   "execution_count": null,
   "id": "dfb923d4",
   "metadata": {},
   "outputs": [],
   "source": [
    "s=\"abcdef\"\n",
    "f=\"\"\n",
    "for i in s:\n",
    "    if i=='a':\n",
    "        f=f+'e'\n",
    "    else:\n",
    "        f=f+i\n",
    "print(f)\n",
    "        "
   ]
  },
  {
   "cell_type": "markdown",
   "id": "d17e8dc0",
   "metadata": {},
   "source": [
    "LIST\n",
    "append()\n",
    "insert()\n",
    "index()\n",
    "sort()\n",
    "sorted()\n",
    "extend()\n",
    "min()\n",
    "max()\n",
    "count()\n",
    "pop()\n",
    "delete()\n",
    "concatenate=+\n",
    "multiply=+\n",
    "reverse()\n",
    "clear()"
   ]
  },
  {
   "cell_type": "code",
   "execution_count": null,
   "id": "cab1fac8",
   "metadata": {},
   "outputs": [],
   "source": [
    "s=[1,2,3,4,5]\n",
    "v=[1,2,3,4]\n",
    "a=sorted(v,reverse=True)\n",
    "print(a)\n"
   ]
  },
  {
   "cell_type": "code",
   "execution_count": null,
   "id": "622e0937",
   "metadata": {},
   "outputs": [],
   "source": [
    "s=\"abcdee\"\n",
    "b=list(s)\n",
    "b.reverse()\n",
    "print(b)"
   ]
  },
  {
   "cell_type": "code",
   "execution_count": null,
   "id": "e38e0039",
   "metadata": {},
   "outputs": [],
   "source": [
    "#count of vowels and consonants\n",
    "a=\"string@#2345\"\n",
    "b=a.lower()\n",
    "c='aeiou'\n",
    "vowels=0\n",
    "consonants=0\n",
    "numbers=0\n",
    "sc=0\n",
    "for i in b:\n",
    "    if i.islower():\n",
    "        if i in c:\n",
    "            vowels=vowels+1\n",
    "        else:\n",
    "            consonants=consonants+1\n",
    "            \n",
    "    elif i in \"0123456789\":\n",
    "        numbers=numbers+1\n",
    "    else:\n",
    "        sc=sc+1\n",
    "print(vowels,consonants,numbers,sc)\n",
    "        \n",
    "        "
   ]
  },
  {
   "cell_type": "code",
   "execution_count": null,
   "id": "54397707",
   "metadata": {},
   "outputs": [],
   "source": [
    "#count of vowels and consonants\n",
    "a=\"string@#2345\"\n",
    "b=a.lower()\n",
    "c='aeiou'\n",
    "vowels=0\n",
    "consonants=0\n",
    "numbers=0\n",
    "sc=0\n",
    "for i in b:\n",
    "    if i.islower():\n",
    "        if i in c:\n",
    "            vowels=vowels+1\n",
    "        else:\n",
    "            consonants=consonants+1\n",
    "            \n",
    "    elif(i>='0' and i<='9'):\n",
    "        numbers=numbers+1\n",
    "    else:\n",
    "        sc=sc+1\n",
    "print(vowels,consonants,numbers,sc)\n",
    "        \n",
    "        "
   ]
  },
  {
   "cell_type": "code",
   "execution_count": 4,
   "id": "f9e31c4d",
   "metadata": {},
   "outputs": [
    {
     "name": "stdout",
     "output_type": "stream",
     "text": [
      "True\n",
      "The time of execution of above program is : 0.9980201721191406 ms\n"
     ]
    }
   ],
   "source": [
    "import time\n",
    "start=time.time()\n",
    "str1=\"sinrtg\"\n",
    "str2=\"string\"\n",
    "f=0\n",
    "if len(str1)!=len(str2):\n",
    "    print(\"False\")\n",
    "else:\n",
    "    for i in str1:\n",
    "        f=f+ord(i)\n",
    "    for j in str2:\n",
    "        f=f-ord(j)\n",
    "if(f!=0):\n",
    "    print(\"False\")\n",
    "else:\n",
    "    print(\"True\")\n",
    "end=time.time()\n",
    "print(\"The time of execution of above program is :\",(end-start) * 10**3, \"ms\")\n",
    "\n",
    "    \n"
   ]
  },
  {
   "cell_type": "code",
   "execution_count": null,
   "id": "21c3384d",
   "metadata": {},
   "outputs": [],
   "source": [
    "#second method\n",
    "import time\n",
    "start=time.time()\n",
    "str1=\"sinrtg\"\n",
    "str2=\"string\"\n",
    "str3=\"\"\n",
    "c=0\n",
    "d=0\n",
    "for i in str2:\n",
    "    if i not in str3:\n",
    "        str3=str3+i\n",
    "for i in str3:\n",
    "    if(str1.count(i)==str2.count(i)):\n",
    "        c=c+1\n",
    "    else:\n",
    "        d=d+1\n",
    "if d!=0:\n",
    "    print(\"False\")\n",
    "else:\n",
    "    print(\"True\")\n",
    "end=time.time()\n",
    "print(\"The time of execution of above program is :\",(end-start) * 10**3, \"ms\")\n",
    "    "
   ]
  },
  {
   "cell_type": "code",
   "execution_count": null,
   "id": "85da09a6",
   "metadata": {},
   "outputs": [],
   "source": [
    "\"\"\"\n",
    "Remove Consecutive Duplicates\n",
    "Send Feedback\n",
    "For a given string(str), remove all the consecutive duplicate characters.\n",
    "Example:\n",
    "Input String: \"aaaa\"\n",
    "Expected Output: \"a\"\n",
    "\n",
    "Input String: \"aabbbcc\"\n",
    "Expected Output: \"abc\"\n",
    " Input Format:\n",
    "The first and only line of input contains a string without any leading and trailing spaces. All the characters in the string would be in lower case.\n",
    "Output Format:\n",
    "The only line of output prints the updated string.\n",
    "Note:\n",
    "You are not required to print anything. It has already been taken care of.\n",
    "Constraints:\n",
    "0 <= N <= 10^6\n",
    "Where N is the length of the input string.\n",
    "\n",
    "Time Limit: 1 second\n",
    "Sample Input 1:\n",
    "aabccbaa\n",
    "Sample Output 1:\n",
    "abcba\n",
    "Sample Input 2:\n",
    "xxyyzxx\n",
    "Sample Output 2:\n",
    "xyzx\n",
    "\n",
    "\"\"\"\n",
    "\n",
    "a=\"xxyyzxx\"\n",
    "b=\"x\"\n",
    "for i in range(1,len(a)):\n",
    "    if a[i-1]!=a[i]:\n",
    "        b=b+a[i]\n",
    "        \n",
    "print(b)\n"
   ]
  },
  {
   "cell_type": "code",
   "execution_count": null,
   "id": "1a50f15e",
   "metadata": {},
   "outputs": [],
   "source": [
    "\"\"\"\n",
    "Reverse Each Word\n",
    "Send Feedback\n",
    "Aadil has been provided with a sentence in the form of a string as a function parameter. The task is to implement a function so as to print the sentence such that each word in the sentence is reversed.\n",
    "Example:\n",
    "Input Sentence: \"Hello, I am Aadil!\"\n",
    "The expected output will print, \",olleH I ma !lidaA\".\n",
    "Input Format:\n",
    "The first and only line of input contains a string without any leading and trailing spaces. The input string represents the sentence given to Aadil.\n",
    "Output Format:\n",
    "The only line of output prints the sentence(string) such that each word in the sentence is reversed. \n",
    "Constraints:\n",
    "0 <= N <= 10^6\n",
    "Where N is the length of the input string.\n",
    "\n",
    "Time Limit: 1 second\n",
    "Sample Input 1:\n",
    "Welcome to Coding Ninjas\n",
    "Sample Output 1:\n",
    "emocleW ot gnidoC sajniN\n",
    "Sample Input 2:\n",
    "Always indent your code\n",
    "Sample Output 2:\n",
    "syawlA tnedni ruoy edoc\n",
    "\n",
    "\"\"\"\n",
    "import time\n",
    "start=time.time()\n",
    "n=\"Welcome to Codings Ninjas\"\n",
    "s=\"\"\n",
    "for i in n.split():\n",
    "    s=s+i[::-1]+\" \"\n",
    "    \n",
    "print(s)\n",
    "end=time.time()\n",
    "print(\"The time of execution of above program is :\",(end-start) * 10**3, \"ms\")\n",
    "    "
   ]
  },
  {
   "cell_type": "code",
   "execution_count": null,
   "id": "e41a65ab",
   "metadata": {},
   "outputs": [],
   "source": [
    "\"\"\"\n",
    "Remove character\n",
    "Send Feedback\n",
    "For a given a string(str) and a character X, write a function to remove all the occurrences of X from the given string.\n",
    "The input string will remain unchanged if the given character(X) doesn't exist in the input string.\n",
    "Input Format:\n",
    "The first line of input contains a string without any leading and trailing spaces.\n",
    "\n",
    "The second line of input contains a character(X) without any leading and trailing spaces.\n",
    "Output Format:\n",
    "The only line of output prints the updated string. \n",
    "Note:\n",
    "You are not required to print anything explicitly. It has already been taken care of.\n",
    "Constraints:\n",
    "0 <= N <= 10^6\n",
    "Where N is the length of the input string.\n",
    "\n",
    "Time Limit: 1 second\n",
    "Sample Input 1:\n",
    "aabccbaa\n",
    "a\n",
    "Sample Output 1:\n",
    "bccb\n",
    "Sample Input 2:\n",
    "xxyyzxx\n",
    "y\n",
    "Sample Output 2:\n",
    "xxzxx\n",
    "\n",
    "\"\"\"\n",
    "a=\"aabccbaa\"\n",
    "b='a'\n",
    "s=\"\"\n",
    "for i in a:\n",
    "    if i!=b:\n",
    "        s=s+i\n",
    "print(s)\n",
    "    "
   ]
  },
  {
   "cell_type": "code",
   "execution_count": null,
   "id": "7658b291",
   "metadata": {},
   "outputs": [],
   "source": [
    "\"\"\"\n",
    "Highest Occuring Character\n",
    "Send Feedback\n",
    "For a given a string(str), find and return the highest occurring character.\n",
    "Example:\n",
    "Input String: \"abcdeapapqarr\"\n",
    "Expected Output: 'a'\n",
    "Since 'a' has appeared four times in the string which happens to be the highest frequency character, the answer would be 'a'.\n",
    "If there are two characters in the input string with the same frequency, return the character which comes first.\n",
    "Consider:\n",
    "Assume all the characters in the given string to be in lowercase always.\n",
    "Input Format:\n",
    "The first and only line of input contains a string without any leading and trailing spaces.\n",
    "Output Format:\n",
    "The only line of output prints the updated string. \n",
    "Note:\n",
    "You are not required to print anything explicitly. It has already been taken care of.\n",
    "Constraints:\n",
    "0 <= N <= 10^6\n",
    "Where N is the length of the input string.\n",
    "\n",
    "Time Limit: 1 second\n",
    "Sample Input 1:\n",
    "abdefgbabfba\n",
    "Sample Output 1:\n",
    "b\n",
    "Sample Input 2:\n",
    "xy\n",
    "Sample Output 2:\n",
    "x\n",
    "\n",
    "\"\"\"\n",
    "a=\"abdefgbabfba\"\n",
    "s=\"\"\n",
    "\n",
    "for i in a:\n",
    "    if i not in s:\n",
    "        s=s+i\n",
    "d=0\n",
    "counter=a.count(s[0])\n",
    "for j in range(1,len(s)):\n",
    "    if(a.count(s[j])>counter):\n",
    "        counter=a.count(s[j])\n",
    "        d=j\n",
    "print(s[d])\n",
    "\n",
    "#second method\n",
    "\n",
    "a=\"abdefgbabfba\"\n",
    "c=\"\"\n",
    "asci=256\n",
    "count=[0]*asci\n",
    "print(count)\n",
    "max=-1\n",
    "for i in a:\n",
    "    count[ord(i)]+=1\n",
    "print(count)\n",
    "for i in a:\n",
    "    print(count[ord(i)],end=\" \")\n",
    "print()\n",
    "for i in a:\n",
    "    if max<=count[ord(i)]:\n",
    "        max=count[ord(i)]\n",
    "        c=i\n",
    "print(c)\n",
    "    \n",
    " "
   ]
  },
  {
   "cell_type": "code",
   "execution_count": 2,
   "id": "0ddbc23f",
   "metadata": {},
   "outputs": [
    {
     "name": "stdout",
     "output_type": "stream",
     "text": [
      "a3b2c2d1s1a1\n",
      "a3b2c2dsa\n"
     ]
    }
   ],
   "source": [
    "\n",
    "\"\"\"\n",
    "Compress the String\n",
    "Send Feedback\n",
    "Write a program to do basic string compression. For a character which is consecutively repeated more than once, replace consecutive duplicate occurrences with the count of repetitions.\n",
    "Exmple:\n",
    "If a string has 'x' repeated 5 times, replace this \"xxxxx\" with \"x5\".\n",
    "\n",
    "The string is compressed only when the repeated character count is more than 1.\n",
    "Note :\n",
    "Consecutive count of every character in the input string is less than or equal to 9.\n",
    "Input Format:\n",
    "The first and only line of input contains a string without any leading and trailing spaces.\n",
    "Output Format:\n",
    "The only line of output prints the updated string.\n",
    "Note:\n",
    "You are not required to print anything. It has already been taken care of.\n",
    "Constraints:\n",
    "0 <= N <= 10^6\n",
    "Where N is the length of the input string.\n",
    "\n",
    "Time Limit: 1 second\n",
    "Sample Input 1:\n",
    "aaabbccdsa\n",
    "Sample Output 1:\n",
    "a3b2c2dsa\n",
    "Sample Input 2:\n",
    "aaabbcddeeeee\n",
    "Sample Output 2:\n",
    "a3b2cd2e5\n",
    "\"\"\"\n",
    "a=\"aaabbccdsa\"\n",
    "count1=1\n",
    "s=\"\"\n",
    "for i in range(1,len(a)):\n",
    "    if a[i]!=a[i-1]:\n",
    "        s=s+a[i-1]+str(count1)\n",
    "        count1=1\n",
    "    else:\n",
    "        count1=count1+1\n",
    "s=s+a[-1]+str(count1)\n",
    "print(s)\n",
    "b=\"\"\n",
    "\"\"\"\n",
    "b=list(s)\n",
    "print(b)\n",
    "for i in b:\n",
    "    if i=='1':\n",
    "        b.remove(i)\n",
    "print(str(b))\n",
    "b=list(s)\n",
    "print(b)\n",
    "\"\"\"\n",
    "for i in s:\n",
    "    if i=='1':\n",
    "        pass\n",
    "    else:\n",
    "        b=b+i\n",
    "print(b)\n",
    "        \n",
    "    \n",
    "        "
   ]
  },
  {
   "cell_type": "code",
   "execution_count": null,
   "id": "1db48495",
   "metadata": {},
   "outputs": [],
   "source": [
    "#101120022"
   ]
  },
  {
   "cell_type": "code",
   "execution_count": 6,
   "id": "1a8285cb",
   "metadata": {},
   "outputs": [
    {
     "name": "stdout",
     "output_type": "stream",
     "text": [
      "00111222\n"
     ]
    }
   ],
   "source": [
    "#shift all 0 1 2\n",
    "b=\"10112022\"\n",
    "a=list(b)\n",
    "i=0\n",
    "j=0\n",
    "k=len(a)-1\n",
    "while(i<=k):\n",
    "    if a[i]=='0':\n",
    "        temp=a[i]\n",
    "        a[i]=a[j]\n",
    "        a[j]=temp\n",
    "        i=i+1\n",
    "        j=j+1\n",
    "    elif(a[i]=='2'):\n",
    "        temp=a[i]\n",
    "        a[i]=a[k]\n",
    "        a[k]=temp\n",
    "        k=k-1\n",
    "    elif(a[i]=='1'):\n",
    "        i=i+1\n",
    "print(\"\".join(a))\n"
   ]
  },
  {
   "cell_type": "markdown",
   "id": "09623b51",
   "metadata": {},
   "source": [
    "### 2d arrays"
   ]
  },
  {
   "cell_type": "code",
   "execution_count": 5,
   "id": "cd3705fc",
   "metadata": {},
   "outputs": [
    {
     "name": "stdout",
     "output_type": "stream",
     "text": [
      "[1, 2, 3, 4]\n",
      "[2, 3, 4, 5]\n",
      "[4, 6, 7, 8]\n"
     ]
    }
   ],
   "source": [
    "a=[[1,2,3,4],[2,3,4,5],[4,6,7,8]]\n",
    "for i in a:\n",
    "    print(i)"
   ]
  },
  {
   "cell_type": "code",
   "execution_count": 10,
   "id": "7b5dc191",
   "metadata": {},
   "outputs": [
    {
     "name": "stdout",
     "output_type": "stream",
     "text": [
      "[[1, 2, 3, 4], [5, 6, 7, 8], [9, 10, 11, 12], [13, 14, 15, 16]]\n"
     ]
    }
   ],
   "source": [
    "li=[[1,2,3,4],[5,6,7,8],[9,10,11,12],[13,14,15,16]]\n",
    "#2d list in list\n",
    "print(li)"
   ]
  },
  {
   "cell_type": "code",
   "execution_count": 17,
   "id": "9cbd8b2d",
   "metadata": {},
   "outputs": [
    {
     "name": "stdout",
     "output_type": "stream",
     "text": [
      "[[2, 4, 6, 8], [10, 12, 14, 16], [18, 20, 22, 24], [26, 28, 30, 32]]\n"
     ]
    }
   ],
   "source": [
    "li=[[1,2,3,4],[5,6,7,8],[9,10,11,12],[13,14,15,16]]\n",
    "li2=[[1,2,3,4],[5,6,7,8],[9,10,11,12],[13,14,15,16]]\n",
    "li3=[]\n",
    "for i in range(len(li)):\n",
    "    l4=[]\n",
    "    for j in range(len(li)):\n",
    "        l4.append(li[i][j]+li2[i][j])\n",
    "    li3.append(l4)\n",
    "print(li3)\n"
   ]
  },
  {
   "cell_type": "code",
   "execution_count": 18,
   "id": "73e909a8",
   "metadata": {},
   "outputs": [
    {
     "name": "stdout",
     "output_type": "stream",
     "text": [
      "[[2, 3, 4, 5, 6], 'Nikhil']\n"
     ]
    }
   ],
   "source": [
    "li=[[2,3,4,5,6],[2,2,3,4,6]]\n",
    "li[1]=\"Nikhil\"\n",
    "print(li)\n"
   ]
  },
  {
   "cell_type": "code",
   "execution_count": 19,
   "id": "d4fc54b3",
   "metadata": {},
   "outputs": [],
   "source": [
    "#jagged list\n",
    "li=[[1,2,3,4],[1,2,3],[1,2],[2,11]]"
   ]
  },
  {
   "cell_type": "code",
   "execution_count": 20,
   "id": "08494e90",
   "metadata": {},
   "outputs": [
    {
     "name": "stdout",
     "output_type": "stream",
     "text": [
      "[[1, 2, 3, 4], [1, 2, 3], [1, 2], [2, 11]]\n"
     ]
    }
   ],
   "source": [
    "print(li)"
   ]
  },
  {
   "cell_type": "markdown",
   "id": "071c190d",
   "metadata": {},
   "source": [
    "### list comprehersion"
   ]
  },
  {
   "cell_type": "code",
   "execution_count": 30,
   "id": "ee02ef7c",
   "metadata": {},
   "outputs": [
    {
     "name": "stdout",
     "output_type": "stream",
     "text": [
      "[1, 4, 9, 16]\n",
      "[1, 4, 9, 16]\n"
     ]
    }
   ],
   "source": [
    "#squares of every element in alist\n",
    "li=[1,2,3,4]\n",
    "li2=[]\n",
    "for i in li:\n",
    "    li2.append(i**2)\n",
    "print(li2)\n",
    "\n",
    "#method 2\n",
    "\n",
    "li_3=[element**2 for element in li]\n",
    "print(li_3)"
   ]
  },
  {
   "cell_type": "code",
   "execution_count": 31,
   "id": "ac717d7b",
   "metadata": {},
   "outputs": [
    {
     "name": "stdout",
     "output_type": "stream",
     "text": [
      "[4, 16]\n"
     ]
    }
   ],
   "source": [
    "#only even elements in list should be square\n",
    "li_es=[ele**2 for ele in li if ele%2==0]\n",
    "print(li_es)"
   ]
  },
  {
   "cell_type": "code",
   "execution_count": 34,
   "id": "906afcd8",
   "metadata": {},
   "outputs": [
    {
     "name": "stdout",
     "output_type": "stream",
     "text": [
      "[4, 9, 16]\n"
     ]
    }
   ],
   "source": [
    "li_ms=[i**2 for i in range(1,5) if i%2==0 or i%3==0]\n",
    "print(li_ms)"
   ]
  },
  {
   "cell_type": "code",
   "execution_count": 37,
   "id": "a4668039",
   "metadata": {},
   "outputs": [
    {
     "name": "stdout",
     "output_type": "stream",
     "text": [
      "[4]\n"
     ]
    }
   ],
   "source": [
    "li_ms1=[i for i in range(1,5) if i%2==0 if i%4==0]\n",
    "print(li_ms1)"
   ]
  },
  {
   "cell_type": "code",
   "execution_count": 42,
   "id": "6f81ab32",
   "metadata": {},
   "outputs": [
    {
     "name": "stdout",
     "output_type": "stream",
     "text": [
      "[2, 3]\n",
      "[2, 3]\n"
     ]
    }
   ],
   "source": [
    "#inter section of two lists\n",
    "li_1=[1,2,3,4]\n",
    "li_2=[2,3,5]\n",
    "li_3=[]\n",
    "for i in li_1:\n",
    "    for j in li_2:\n",
    "        if i==j:\n",
    "            li_3.append(i)\n",
    "print(li_3)\n",
    "li_4=[ i for i in li_1 for j in li_2 if i==j]\n",
    "print(li_4)"
   ]
  },
  {
   "cell_type": "code",
   "execution_count": 50,
   "id": "5ab9bc93",
   "metadata": {},
   "outputs": [
    {
     "name": "stdout",
     "output_type": "stream",
     "text": [
      "[1, 4, 3, 16, 5]\n"
     ]
    }
   ],
   "source": [
    "#syntax\n",
    "#[output for loops conditions]\n",
    "li=[1,2,3,4,5]\n",
    "li6=[i**2 if i%2==0 else i for i in li ]\n",
    "print(li6)"
   ]
  },
  {
   "cell_type": "code",
   "execution_count": 51,
   "id": "e9e617b7",
   "metadata": {},
   "outputs": [
    {
     "name": "stdout",
     "output_type": "stream",
     "text": [
      "['N', 'i', 'k', 'h', 'i', 'l']\n"
     ]
    }
   ],
   "source": [
    "#list of list\n",
    "s=\"Nikhil\"\n",
    "l=[i for i in s]\n",
    "print(l)"
   ]
  },
  {
   "cell_type": "code",
   "execution_count": 56,
   "id": "ae28c453",
   "metadata": {},
   "outputs": [
    {
     "name": "stdout",
     "output_type": "stream",
     "text": [
      "[['N', 'i', 'k', 'i', 'l'], ['r', 'a', 'v', 'i'], ['k', 'a', 'r', 't', 'h', 'i', 'k']]\n"
     ]
    }
   ],
   "source": [
    "li=[\"Nikil\",\"ravi\",\"karthik\"]\n",
    "li_2d=[[j for j in i]for i in li]\n",
    "print(li_2d)"
   ]
  },
  {
   "cell_type": "code",
   "execution_count": 2,
   "id": "281bc73c",
   "metadata": {},
   "outputs": [
    {
     "name": "stdout",
     "output_type": "stream",
     "text": [
      "[['N', 'i', 'k', 'i', 'l'], ['r', 'a', 'v', 'i'], ['k', 'a', 'r', 't', 'h', 'i', 'k']]\n"
     ]
    }
   ],
   "source": [
    "li=[\"Nikil\",\"ravi\",\"karthik\"]\n",
    "li_8=[[j for j in i]for i in li]\n",
    "print(li_8)"
   ]
  },
  {
   "cell_type": "code",
   "execution_count": 3,
   "id": "50383e04",
   "metadata": {},
   "outputs": [
    {
     "name": "stdout",
     "output_type": "stream",
     "text": [
      "1\n",
      "2\n",
      "3\n",
      "4\n",
      "5\n",
      "6\n",
      "7\n",
      "8\n",
      "9\n",
      "[[1, 2, 3], [4, 5, 6], [7, 8, 9]]\n"
     ]
    }
   ],
   "source": [
    "li=[[int(input()) for i in range(3)]for j in range(3)]\n",
    "print(li)"
   ]
  },
  {
   "cell_type": "code",
   "execution_count": 4,
   "id": "3604a090",
   "metadata": {},
   "outputs": [
    {
     "name": "stdout",
     "output_type": "stream",
     "text": [
      "1 2 3 4\n",
      "1 2 3 4\n",
      "1 2 3 4\n",
      "[[1, 2, 3, 4], [1, 2, 3, 4], [1, 2, 3, 4]]\n"
     ]
    }
   ],
   "source": [
    "li=[[int(i) for i in input().split()]for j in range(3)]\n",
    "print(li)"
   ]
  },
  {
   "cell_type": "markdown",
   "id": "e2a79ee2",
   "metadata": {},
   "source": [
    "### matrix sum"
   ]
  },
  {
   "cell_type": "code",
   "execution_count": 5,
   "id": "9381dc92",
   "metadata": {},
   "outputs": [
    {
     "name": "stdout",
     "output_type": "stream",
     "text": [
      "1 2 3 \n",
      "4 5 6\n",
      "7 8 9\n",
      "The first matrix:\n",
      "\n",
      "[[1, 2, 3], [4, 5, 6], [7, 8, 9]]\n",
      "1 2 3\n",
      "4 5 6\n",
      "7 8 9\n",
      "The second matrix:\n",
      "\n",
      "[[1, 2, 3], [4, 5, 6], [7, 8, 9]]\n",
      "The sum of two matrices is:\n",
      "\n",
      "[[2, 4, 6], [8, 10, 12], [14, 16, 18]]\n"
     ]
    }
   ],
   "source": [
    "li_1=[[int(i) for i in input().split()[:3]] for j in range(3)]\n",
    "print(\"The first matrix:\\n\")\n",
    "print(li_1)\n",
    "li_4=[[int(k) for k in input().split()[:3]] for l in range(3)]\n",
    "print(\"The second matrix:\\n\")\n",
    "print(li_4)\n",
    "print(\"The sum of two matrices is:\\n\")\n",
    "li_sum=[[li_1[i][j]+li_4[i][j] for j in range(len(li_1))]for i in range(len(li_4))]\n",
    "print(li_sum)"
   ]
  },
  {
   "cell_type": "code",
   "execution_count": 7,
   "id": "facbd7ea",
   "metadata": {},
   "outputs": [
    {
     "name": "stdout",
     "output_type": "stream",
     "text": [
      "1 2 3 4\n",
      "1 2 3 4 5\n",
      "1 2 3 4 5 6\n",
      "[[1, 2, 3], [1, 2, 3], [1, 2, 3]]\n"
     ]
    }
   ],
   "source": [
    "li_4=[[int(k) for k in input().split()[:3]] for l in range(3)]\n",
    "print(li_4)\n",
    "#it stores and prints upto 3 because of [:3]"
   ]
  },
  {
   "cell_type": "code",
   "execution_count": 8,
   "id": "b7acdb0b",
   "metadata": {},
   "outputs": [
    {
     "name": "stdout",
     "output_type": "stream",
     "text": [
      "2 3\n",
      "1 2 3 4 5 6 6 7 8 9 10 11 12 12 1 2 12 1 1\n",
      "[[1, 2, 3], [4, 5, 6]]\n"
     ]
    }
   ],
   "source": [
    "\"\"\"\n",
    "[1,2,3,4,5,6,7,8,9,10]\n",
    " 2 3\n",
    " 0 0\n",
    " 0 1\n",
    " 0 2\n",
    " [ ][ ]\n",
    "\"\"\"\n",
    "\n",
    "s=input().split()\n",
    "n,m=int(s[0]),int(s[1])\n",
    "b=input().split()\n",
    "c=[[int(b[m*i+j]) for j in range(m)] for i in range(n)]\n",
    "print(c)"
   ]
  },
  {
   "cell_type": "code",
   "execution_count": 9,
   "id": "f452b695",
   "metadata": {},
   "outputs": [
    {
     "name": "stdout",
     "output_type": "stream",
     "text": [
      "2 3 1 2 3 4 5 6\n",
      "[[1, 2, 3], [4, 5, 6]]\n"
     ]
    }
   ],
   "source": [
    "#all inputs and list inputs taken in single line\n",
    "r=input().split()\n",
    "n,m=int(r[0]),int(r[1])\n",
    "b=r[2:]\n",
    "c=[[int(b[m*i+j]) for j in range(m)] for i in range(n)]\n",
    "print(c)\n"
   ]
  },
  {
   "cell_type": "code",
   "execution_count": 10,
   "id": "eb984f30",
   "metadata": {},
   "outputs": [
    {
     "name": "stdout",
     "output_type": "stream",
     "text": [
      "2\n",
      "3\n"
     ]
    }
   ],
   "source": [
    "print(n)\n",
    "print(m)"
   ]
  },
  {
   "cell_type": "markdown",
   "id": "6d198a72",
   "metadata": {},
   "source": [
    "### printing 2d list"
   ]
  },
  {
   "cell_type": "code",
   "execution_count": 14,
   "id": "e34af1bd",
   "metadata": {},
   "outputs": [
    {
     "name": "stdout",
     "output_type": "stream",
     "text": [
      "[[1, 2, 3], [5, 6, 7], [9, 10, 11]]\n"
     ]
    }
   ],
   "source": [
    "li=[[1,2,3,4,5],[5,6,7,9],[9,10,11,12]]\n",
    "print([[li[j][i] for i in range(3)]for j in range(3)])"
   ]
  },
  {
   "cell_type": "code",
   "execution_count": 15,
   "id": "f25d9394",
   "metadata": {},
   "outputs": [
    {
     "name": "stdout",
     "output_type": "stream",
     "text": [
      "1 2 3 4 5 \n",
      "5 6 7 9 \n",
      "9 10 11 12 \n"
     ]
    }
   ],
   "source": [
    "#the above is not work for jagged list\n",
    "li=[[1,2,3,4,5],[5,6,7,9],[9,10,11,12]]\n",
    "for i in li:\n",
    "    for j in i:\n",
    "        print(j,end=\" \")\n",
    "    print()"
   ]
  },
  {
   "cell_type": "code",
   "execution_count": 17,
   "id": "0791b4a0",
   "metadata": {},
   "outputs": [
    {
     "name": "stdout",
     "output_type": "stream",
     "text": [
      "[[1, 2, 3, 4, 5], [5, 6, 7, 9], [9, 10, 11, 12]]\n"
     ]
    }
   ],
   "source": [
    "li=[[1,2,3,4,5],[5,6,7,9],[9,10,11,12]]\n",
    "print([[i for i in j]for j in li])"
   ]
  },
  {
   "cell_type": "code",
   "execution_count": 18,
   "id": "a12d7394",
   "metadata": {},
   "outputs": [
    {
     "data": {
      "text/plain": [
       "'aabbabcabd'"
      ]
     },
     "execution_count": 18,
     "metadata": {},
     "output_type": "execute_result"
    }
   ],
   "source": [
    "#join\n",
    "'ab'.join('abcd')"
   ]
  },
  {
   "cell_type": "code",
   "execution_count": 22,
   "id": "1987e3c0",
   "metadata": {},
   "outputs": [
    {
     "data": {
      "text/plain": [
       "'1ab2ab3'"
      ]
     },
     "execution_count": 22,
     "metadata": {},
     "output_type": "execute_result"
    }
   ],
   "source": [
    "'ab'.join(['1','2','3'])"
   ]
  },
  {
   "cell_type": "code",
   "execution_count": 23,
   "id": "7c92fbca",
   "metadata": {},
   "outputs": [
    {
     "name": "stdout",
     "output_type": "stream",
     "text": [
      "1 2 3 4 5\n",
      "5 6 7 9\n",
      "9 10 11 12\n"
     ]
    }
   ],
   "source": [
    "li=[[1,2,3,4,5],[5,6,7,9],[9,10,11,12]]\n",
    "n=3\n",
    "for row in li:\n",
    "    output=' '.join([str(ele) for ele in row])\n",
    "    print(output)"
   ]
  },
  {
   "cell_type": "code",
   "execution_count": 41,
   "id": "3aab8daf",
   "metadata": {},
   "outputs": [
    {
     "name": "stdout",
     "output_type": "stream",
     "text": [
      "1\n",
      "4 2 1 2 3 4 5 6 7 8\n",
      "3 7 11 15 "
     ]
    }
   ],
   "source": [
    "\"\"\"\n",
    "Row Wise Sum\n",
    "Send Feedback\n",
    "For a given two-dimensional integer array/list of size (N x M), find and print the sum of each of the row elements in a single line, separated by a single space.\n",
    "Input Format :\n",
    "The first line contains an Integer 't' which denotes the number of test cases or queries to be run. Then the test cases follow.\n",
    "\n",
    "First line of each test case or query contains two integer values, 'N' and 'M', separated by a single space. They represent the 'rows' and 'columns' respectively, for the two-dimensional array/list.\n",
    "\n",
    "Second line onwards, the next 'N' lines or rows represent the ith row values.\n",
    "\n",
    "Each of the ith row constitutes 'M' column values separated by a single space.\n",
    "Output Format :\n",
    "For each test case, print the sum of every ith row elements in a single line separated by a single space.\n",
    "\n",
    "Output for every test case will be printed in a seperate line.\n",
    "Constraints :\n",
    "1 <= t <= 10^2\n",
    "0 <= N <= 10^3\n",
    "0 <= M <= 10^3\n",
    "Time Limit: 1sec\n",
    "Sample Input 1:\n",
    "1\n",
    "4 2 \n",
    "1 2 \n",
    "3 4 \n",
    "5 6 \n",
    "7 8\n",
    "Sample Output 1:\n",
    "3 7 11 15 \n",
    "Sample Input 2:\n",
    "2\n",
    "2 5 \n",
    "4 5 3 2 6 \n",
    "7 5 3 8 9\n",
    "4 4\n",
    "1 2 3 4\n",
    "9 8 7 6\n",
    "3 4 5 6\n",
    "-1 1 -10 5\n",
    "Sample Output 2:\n",
    "20 32 \n",
    "10 30 18 -5 \n",
    "\n",
    "\"\"\"\n",
    "n=int(input())\n",
    "for i in range(n):\n",
    "    s=input().split()\n",
    "    r=s[2:]\n",
    "    m=int(s[1])\n",
    "    li=[[int(r[m*i+j]) for j in range(int(s[1]))]for i in range(int(s[0]))]\n",
    "    for i in li:\n",
    "        output=[int(ele) for ele in i]\n",
    "        print(sum(output),end=\" \")\n",
    "    "
   ]
  },
  {
   "cell_type": "code",
   "execution_count": 5,
   "id": "b8ffe62d",
   "metadata": {},
   "outputs": [
    {
     "name": "stdout",
     "output_type": "stream",
     "text": [
      "1\n"
     ]
    }
   ],
   "source": [
    "a=[[1,2,3],[4,5,6],[4,5,6]]\n",
    "b=[]\n",
    "for i in a:\n",
    "    output=sum([j for j in i])\n",
    "    b.append(output)\n",
    "\n",
    "print(b.index(max(b)))    "
   ]
  },
  {
   "cell_type": "code",
   "execution_count": 8,
   "id": "aa3fd60d",
   "metadata": {},
   "outputs": [
    {
     "name": "stdout",
     "output_type": "stream",
     "text": [
      "[9, 12, 15]\n",
      "2\n"
     ]
    }
   ],
   "source": [
    "a=[[1,2,3],[4,5,6],[4,5,6]]\n",
    "b=[]\n",
    "for i in range(3):\n",
    "    s=0\n",
    "    for j in range(3):\n",
    "        s=s+a[j][i]\n",
    "    b.append(s)\n",
    "        \n",
    "print(b)\n",
    "print(b.index(max(b)))    "
   ]
  },
  {
   "cell_type": "code",
   "execution_count": 9,
   "id": "33e20b37",
   "metadata": {},
   "outputs": [
    {
     "name": "stdout",
     "output_type": "stream",
     "text": [
      "20 2\n"
     ]
    }
   ],
   "source": [
    "def lar_col_sum(li):\n",
    "    n=len(li)\n",
    "    m=len(li[0])\n",
    "    maxsum=-1\n",
    "    maxcolindex=-1\n",
    "    for j in range(m):\n",
    "        s=0\n",
    "        for i in range(n):\n",
    "            s=s+li[i][j]\n",
    "        if s>maxsum:\n",
    "            maxcolindex=j\n",
    "            maxsum=s\n",
    "    return maxsum,maxcolindex\n",
    "\n",
    "li=[[1,2,3,4],[8,7,6,5],[9,10,11,7]]\n",
    "larsum,larcolindex=lar_col_sum(li)\n",
    "print(larsum,larcolindex)"
   ]
  },
  {
   "cell_type": "code",
   "execution_count": 10,
   "id": "cc705b92",
   "metadata": {},
   "outputs": [
    {
     "name": "stdout",
     "output_type": "stream",
     "text": [
      "20 2\n"
     ]
    }
   ],
   "source": [
    "def lar_col_sum(li):\n",
    "    n=len(li)\n",
    "    m=len(li[0])\n",
    "    maxsum=-1\n",
    "    maxcolindex=-1\n",
    "    for j in range(m):\n",
    "        s=0\n",
    "        for i in li:\n",
    "            s=s+i[j]\n",
    "        if s>maxsum:\n",
    "            maxcolindex=j\n",
    "            maxsum=s\n",
    "    return maxsum,maxcolindex\n",
    "\n",
    "li=[[1,2,3,4],[8,7,6,5],[9,10,11,7]]\n",
    "larsum,larcolindex=lar_col_sum(li)\n",
    "print(larsum,larcolindex)"
   ]
  },
  {
   "cell_type": "code",
   "execution_count": 12,
   "id": "00ee532a",
   "metadata": {},
   "outputs": [
    {
     "name": "stdout",
     "output_type": "stream",
     "text": [
      "3 4\n",
      "1 2 3 4 5 6 7 8 9 10 11 12\n",
      "5 6 7 8\n",
      "9 10 11 12\n",
      "[[1, 2, 3, 4], [5, 6, 7, 8], [9, 10, 11, 12]]\n"
     ]
    }
   ],
   "source": [
    "inp=input().split()\n",
    "r=int(inp[0])\n",
    "c=int(inp[1])\n",
    "li=[[int(j) for j in input().split()[:c]]for i in range(r)]\n",
    "print(li)"
   ]
  },
  {
   "cell_type": "code",
   "execution_count": 14,
   "id": "0988ea3b",
   "metadata": {},
   "outputs": [
    {
     "name": "stdout",
     "output_type": "stream",
     "text": [
      "3 4\n",
      "1 2 3 4\n",
      "5 6 7 8\n",
      "9 10 11 12\n",
      "1 5 9\n",
      "10 6 2\n",
      "3 7 11\n",
      "12 8 4\n"
     ]
    }
   ],
   "source": [
    "\"\"\"\n",
    "Wave Print\n",
    "Send Feedback\n",
    "For a given two-dimensional integer array/list of size (N x M), print the array/list in a sine wave order, i.e, print the first column top to bottom, next column bottom to top and so on.\n",
    "Input format :\n",
    "The first line contains an Integer 't' which denotes the number of test cases or queries to be run. Then the test cases follow.\n",
    "\n",
    "First line of each test case or query contains two integer values, 'N' and 'M', separated by a single space. They represent the 'rows' and 'columns' respectively, for the two-dimensional array/list.\n",
    "\n",
    "Second line onwards, the next 'N' lines or rows represent the ith row values.\n",
    "\n",
    "Each of the ith row constitutes 'M' column values separated by a single space.\n",
    "Output format :\n",
    "For each test case, print the elements of the two-dimensional array/list in the sine wave order in a single line, separated by a single space.\n",
    "\n",
    "Output for every test case will be printed in a seperate line.\n",
    "Constraints :\n",
    "1 <= t <= 10^2\n",
    "0 <= N <= 10^3\n",
    "0 <= M <= 10^3\n",
    "Time Limit: 1sec\n",
    "Sample Input 1:\n",
    "1\n",
    "3 4 \n",
    "1  2  3  4 \n",
    "5  6  7  8 \n",
    "9 10 11 12\n",
    "Sample Output 1:\n",
    "1 5 9 10 6 2 3 7 11 12 8 4\n",
    "Sample Input 2:\n",
    "2\n",
    "5 3 \n",
    "1 2 3 \n",
    "4 5 6 \n",
    "7 8 9 \n",
    "10 11 12 \n",
    "13 14 15\n",
    "3 3\n",
    "10 20 30 \n",
    "40 50 60\n",
    "70 80 90\n",
    "Sample Output 2:\n",
    "1 4 7 10 13 14 11 8 5 2 3 6 9 12 15 \n",
    "10 40 70 80 50 20 30 60 90 \n",
    "\"\"\"\n",
    "\n",
    "def waveprint(li,r,c):\n",
    "    for j in range(c):\n",
    "        c=[]\n",
    "        for i in li:\n",
    "            c.append(i[j])\n",
    "        if j%2==0:\n",
    "            print(*c)\n",
    "        else:\n",
    "            print(*c[::-1])  \n",
    "\n",
    "\n",
    "inp=input().split()\n",
    "r=int(inp[0])\n",
    "c=int(inp[1])\n",
    "li=[[int(j) for j in input().split()[:c]]for i in range(r)]\n",
    "waveprint(li,r,c)"
   ]
  },
  {
   "cell_type": "code",
   "execution_count": 83,
   "id": "dfc94621",
   "metadata": {},
   "outputs": [
    {
     "name": "stdout",
     "output_type": "stream",
     "text": [
      "1 2 3 4 5 6 7 18 19 12 "
     ]
    }
   ],
   "source": [
    "l=[[1,2,3,4],[14,15,16,5],[13,20,17,6],[12,19,18,7]]\n",
    "\n",
    "row=0\n",
    "count=0\n",
    "m=len(l[0])-1\n",
    "while(row<len(l)):\n",
    "    col=0\n",
    "    while(col<len(l)):\n",
    "        if(row==0 and count<=len(l[0])):\n",
    "            print(l[row][col],end=\" \")\n",
    "            count=count+1\n",
    "        elif(col>0 and count<2*m):\n",
    "            print(l[col][len(l[0])-1],end=\" \")\n",
    "            count=count+1\n",
    "        elif(count>=2*m and count<=3*m):\n",
    "            print(l[len(l[0])-1][m-col-1],end=\" \")\n",
    "            count=count+1\n",
    "        col=col+1\n",
    "    \n",
    "    row=row+1\n",
    "\n",
    "        \n",
    "        "
   ]
  },
  {
   "cell_type": "code",
   "execution_count": 146,
   "id": "585da428",
   "metadata": {},
   "outputs": [
    {
     "name": "stdout",
     "output_type": "stream",
     "text": [
      "1 2 3 4 5 6 7 18 19 12 13 14 15 16 17 20 "
     ]
    }
   ],
   "source": [
    "a=[[1,2,3,4],[14,15,16,5],[13,20,17,6],[12,19,18,7]]\n",
    "m=len(a)\n",
    "n=len(a[0])\n",
    "k=0;l=0\n",
    "while(k<m and l<n):\n",
    "    for i in range(l,n):\n",
    "        print(a[k][i],end=\" \")\n",
    "    k=k+1\n",
    "    for i in range(k,m):\n",
    "        print(a[i][n-1],end=\" \")\n",
    "    n=n-1\n",
    "    if(k<m):\n",
    "        for i in range(n-1,(l-1),-1):\n",
    "\n",
    "            print(a[m-1][i],end=\" \")\n",
    "        m=m-1\n",
    "    if(l<n):\n",
    "        for i in range(m-1,k-1,-1):\n",
    "            print(a[i][l],end=\" \")\n",
    "        l=l+1\n",
    "        "
   ]
  },
  {
   "cell_type": "code",
   "execution_count": 147,
   "id": "40b2c254",
   "metadata": {},
   "outputs": [
    {
     "name": "stdout",
     "output_type": "stream",
     "text": [
      "sataraianag\n"
     ]
    }
   ],
   "source": [
    "a=\"string\"\n",
    "print('a'.join(a))"
   ]
  },
  {
   "cell_type": "markdown",
   "id": "289f8131",
   "metadata": {},
   "source": [
    "### Tuples"
   ]
  },
  {
   "cell_type": "code",
   "execution_count": 148,
   "id": "ac16f168",
   "metadata": {},
   "outputs": [
    {
     "name": "stdout",
     "output_type": "stream",
     "text": [
      "<class 'tuple'>\n"
     ]
    }
   ],
   "source": [
    "#ordered\n",
    "a=(1,2)\n",
    "print(type(a))"
   ]
  },
  {
   "cell_type": "code",
   "execution_count": 151,
   "id": "e7a671b0",
   "metadata": {},
   "outputs": [
    {
     "name": "stdout",
     "output_type": "stream",
     "text": [
      "(1, 2)\n"
     ]
    },
    {
     "data": {
      "text/plain": [
       "tuple"
      ]
     },
     "execution_count": 151,
     "metadata": {},
     "output_type": "execute_result"
    }
   ],
   "source": [
    "e=1,2\n",
    "print(e)\n",
    "type(e)"
   ]
  },
  {
   "cell_type": "code",
   "execution_count": 152,
   "id": "f506a907",
   "metadata": {},
   "outputs": [
    {
     "name": "stdout",
     "output_type": "stream",
     "text": [
      "3 4\n"
     ]
    }
   ],
   "source": [
    "b,c=3,4\n",
    "print(b,c)"
   ]
  },
  {
   "cell_type": "markdown",
   "id": "8324cb2d",
   "metadata": {},
   "source": [
    "### Access elements "
   ]
  },
  {
   "cell_type": "code",
   "execution_count": 153,
   "id": "2371ddf5",
   "metadata": {},
   "outputs": [
    {
     "data": {
      "text/plain": [
       "2"
      ]
     },
     "execution_count": 153,
     "metadata": {},
     "output_type": "execute_result"
    }
   ],
   "source": [
    "e[1]"
   ]
  },
  {
   "cell_type": "code",
   "execution_count": 154,
   "id": "4a615f7d",
   "metadata": {},
   "outputs": [
    {
     "data": {
      "text/plain": [
       "1"
      ]
     },
     "execution_count": 154,
     "metadata": {},
     "output_type": "execute_result"
    }
   ],
   "source": [
    "e[0]"
   ]
  },
  {
   "cell_type": "code",
   "execution_count": 155,
   "id": "0af13ea2",
   "metadata": {},
   "outputs": [
    {
     "data": {
      "text/plain": [
       "2"
      ]
     },
     "execution_count": 155,
     "metadata": {},
     "output_type": "execute_result"
    }
   ],
   "source": [
    "e[-1]"
   ]
  },
  {
   "cell_type": "code",
   "execution_count": 156,
   "id": "aac19f9d",
   "metadata": {},
   "outputs": [
    {
     "ename": "TypeError",
     "evalue": "'tuple' object does not support item assignment",
     "output_type": "error",
     "traceback": [
      "\u001b[1;31m---------------------------------------------------------------------------\u001b[0m",
      "\u001b[1;31mTypeError\u001b[0m                                 Traceback (most recent call last)",
      "Input \u001b[1;32mIn [156]\u001b[0m, in \u001b[0;36m<cell line: 3>\u001b[1;34m()\u001b[0m\n\u001b[0;32m      1\u001b[0m \u001b[38;5;66;03m#tuples are immutable\u001b[39;00m\n\u001b[0;32m      2\u001b[0m f\u001b[38;5;241m=\u001b[39m(\u001b[38;5;241m1\u001b[39m,\u001b[38;5;241m2\u001b[39m,\u001b[38;5;241m3\u001b[39m,\u001b[38;5;241m4\u001b[39m)\n\u001b[1;32m----> 3\u001b[0m f[\u001b[38;5;241m0\u001b[39m]\u001b[38;5;241m=\u001b[39m\u001b[38;5;241m4\u001b[39m\n",
      "\u001b[1;31mTypeError\u001b[0m: 'tuple' object does not support item assignment"
     ]
    }
   ],
   "source": [
    "#tuples are immutable\n",
    "f=(1,2,3,4)\n",
    "f[0]=4"
   ]
  },
  {
   "cell_type": "code",
   "execution_count": 157,
   "id": "4c5366b1",
   "metadata": {},
   "outputs": [],
   "source": [
    "del f"
   ]
  },
  {
   "cell_type": "code",
   "execution_count": 158,
   "id": "0de26d85",
   "metadata": {},
   "outputs": [
    {
     "ename": "NameError",
     "evalue": "name 'f' is not defined",
     "output_type": "error",
     "traceback": [
      "\u001b[1;31m---------------------------------------------------------------------------\u001b[0m",
      "\u001b[1;31mNameError\u001b[0m                                 Traceback (most recent call last)",
      "Input \u001b[1;32mIn [158]\u001b[0m, in \u001b[0;36m<cell line: 1>\u001b[1;34m()\u001b[0m\n\u001b[1;32m----> 1\u001b[0m \u001b[38;5;28mprint\u001b[39m(\u001b[43mf\u001b[49m)\n",
      "\u001b[1;31mNameError\u001b[0m: name 'f' is not defined"
     ]
    }
   ],
   "source": [
    "print(f)"
   ]
  },
  {
   "cell_type": "code",
   "execution_count": 178,
   "id": "a9a11574",
   "metadata": {},
   "outputs": [],
   "source": [
    "a=(1,2,3,4)\n",
    "b=(5,6,7,8)"
   ]
  },
  {
   "cell_type": "code",
   "execution_count": 162,
   "id": "ba3bd266",
   "metadata": {},
   "outputs": [
    {
     "name": "stdout",
     "output_type": "stream",
     "text": [
      "1\n",
      "2\n",
      "3\n",
      "4\n"
     ]
    }
   ],
   "source": [
    "#for loops\n",
    "for i in a:\n",
    "    print(i)"
   ]
  },
  {
   "cell_type": "code",
   "execution_count": 163,
   "id": "d38cf6af",
   "metadata": {},
   "outputs": [
    {
     "data": {
      "text/plain": [
       "True"
      ]
     },
     "execution_count": 163,
     "metadata": {},
     "output_type": "execute_result"
    }
   ],
   "source": [
    "1 in a"
   ]
  },
  {
   "cell_type": "code",
   "execution_count": 164,
   "id": "f2844df1",
   "metadata": {},
   "outputs": [
    {
     "data": {
      "text/plain": [
       "False"
      ]
     },
     "execution_count": 164,
     "metadata": {},
     "output_type": "execute_result"
    }
   ],
   "source": [
    "8 in a"
   ]
  },
  {
   "cell_type": "code",
   "execution_count": 165,
   "id": "b53dce0f",
   "metadata": {},
   "outputs": [
    {
     "data": {
      "text/plain": [
       "4"
      ]
     },
     "execution_count": 165,
     "metadata": {},
     "output_type": "execute_result"
    }
   ],
   "source": [
    "len(a)"
   ]
  },
  {
   "cell_type": "code",
   "execution_count": 166,
   "id": "2db1e124",
   "metadata": {},
   "outputs": [],
   "source": [
    "c=a+b"
   ]
  },
  {
   "cell_type": "code",
   "execution_count": 167,
   "id": "e885a281",
   "metadata": {},
   "outputs": [
    {
     "name": "stdout",
     "output_type": "stream",
     "text": [
      "(1, 2, 3, 4, 5, 6, 7, 8)\n"
     ]
    }
   ],
   "source": [
    "print(c)"
   ]
  },
  {
   "cell_type": "code",
   "execution_count": 168,
   "id": "dd6a1187",
   "metadata": {},
   "outputs": [],
   "source": [
    "d=(a,b)"
   ]
  },
  {
   "cell_type": "code",
   "execution_count": 169,
   "id": "7c81c0db",
   "metadata": {},
   "outputs": [
    {
     "name": "stdout",
     "output_type": "stream",
     "text": [
      "((1, 2, 3, 4), (5, 6, 7, 8))\n"
     ]
    }
   ],
   "source": [
    "print(d)"
   ]
  },
  {
   "cell_type": "code",
   "execution_count": 179,
   "id": "e3d960f2",
   "metadata": {},
   "outputs": [
    {
     "name": "stdout",
     "output_type": "stream",
     "text": [
      "(1, 2, 3, 4, 1, 2, 3, 4)\n"
     ]
    }
   ],
   "source": [
    "#for repeation\n",
    "e=a*2\n",
    "print(e)"
   ]
  },
  {
   "cell_type": "code",
   "execution_count": 180,
   "id": "d5708698",
   "metadata": {},
   "outputs": [
    {
     "data": {
      "text/plain": [
       "4"
      ]
     },
     "execution_count": 180,
     "metadata": {},
     "output_type": "execute_result"
    }
   ],
   "source": [
    "max(a)"
   ]
  },
  {
   "cell_type": "code",
   "execution_count": 182,
   "id": "9e3b3e1f",
   "metadata": {},
   "outputs": [
    {
     "ename": "TypeError",
     "evalue": "'<' not supported between instances of 'tuple' and 'int'",
     "output_type": "error",
     "traceback": [
      "\u001b[1;31m---------------------------------------------------------------------------\u001b[0m",
      "\u001b[1;31mTypeError\u001b[0m                                 Traceback (most recent call last)",
      "Input \u001b[1;32mIn [182]\u001b[0m, in \u001b[0;36m<cell line: 2>\u001b[1;34m()\u001b[0m\n\u001b[0;32m      1\u001b[0m a2\u001b[38;5;241m=\u001b[39m(\u001b[38;5;241m1\u001b[39m,\u001b[38;5;241m2\u001b[39m,(\u001b[38;5;241m1\u001b[39m,\u001b[38;5;241m2\u001b[39m))\n\u001b[1;32m----> 2\u001b[0m \u001b[38;5;28;43mmin\u001b[39;49m\u001b[43m(\u001b[49m\u001b[43ma2\u001b[49m\u001b[43m)\u001b[49m\n",
      "\u001b[1;31mTypeError\u001b[0m: '<' not supported between instances of 'tuple' and 'int'"
     ]
    }
   ],
   "source": [
    "a2=(1,2,(1,2))\n",
    "min(a2)"
   ]
  },
  {
   "cell_type": "code",
   "execution_count": 184,
   "id": "5122b6dc",
   "metadata": {},
   "outputs": [
    {
     "data": {
      "text/plain": [
       "0.5"
      ]
     },
     "execution_count": 184,
     "metadata": {},
     "output_type": "execute_result"
    }
   ],
   "source": [
    "a3=(1,2,3,4,0.5)\n",
    "min(a3)"
   ]
  },
  {
   "cell_type": "code",
   "execution_count": 185,
   "id": "544c20e6",
   "metadata": {},
   "outputs": [
    {
     "data": {
      "text/plain": [
       "(1, 2, 3, 4)"
      ]
     },
     "execution_count": 185,
     "metadata": {},
     "output_type": "execute_result"
    }
   ],
   "source": [
    "#list to tuple\n",
    "l=[1,2,3,4]\n",
    "tuple(l)"
   ]
  },
  {
   "cell_type": "code",
   "execution_count": 189,
   "id": "acdcd6e0",
   "metadata": {},
   "outputs": [
    {
     "name": "stdout",
     "output_type": "stream",
     "text": [
      "((1, 2), (4, 5))\n"
     ]
    }
   ],
   "source": [
    "a=1,2\n",
    "b=(4,5)\n",
    "d=(a,b)\n",
    "print(d)"
   ]
  },
  {
   "cell_type": "code",
   "execution_count": 190,
   "id": "2985eec2",
   "metadata": {},
   "outputs": [
    {
     "name": "stdout",
     "output_type": "stream",
     "text": [
      "(1, 2)\n"
     ]
    }
   ],
   "source": [
    "a=1,2\n",
    "b=(4,5)\n",
    "d=(a,b)\n",
    "print(d[0])"
   ]
  },
  {
   "cell_type": "code",
   "execution_count": 194,
   "id": "b675da4a",
   "metadata": {},
   "outputs": [
    {
     "name": "stdout",
     "output_type": "stream",
     "text": [
      "1\n",
      "2\n",
      "(4, 5, 6, 7, 8)\n"
     ]
    }
   ],
   "source": [
    "def sum2(a,b,*more):\n",
    "    print(a)\n",
    "    print(b)\n",
    "    print(more)\n",
    "sum2(1,2,4,5,6,7,8)"
   ]
  },
  {
   "cell_type": "code",
   "execution_count": 195,
   "id": "bd211edd",
   "metadata": {},
   "outputs": [
    {
     "name": "stdout",
     "output_type": "stream",
     "text": [
      "1\n",
      "2\n",
      "(4, 5, 6, 7, 8)\n"
     ]
    },
    {
     "data": {
      "text/plain": [
       "33"
      ]
     },
     "execution_count": 195,
     "metadata": {},
     "output_type": "execute_result"
    }
   ],
   "source": [
    "def sum2(a,b,*more):\n",
    "    print(a)\n",
    "    print(b)\n",
    "    print(more)\n",
    "    ans=a+b\n",
    "    for i in more:\n",
    "        ans=ans+i\n",
    "    return ans\n",
    "sum2(1,2,4,5,6,7,8)"
   ]
  },
  {
   "cell_type": "code",
   "execution_count": 196,
   "id": "06de3a9b",
   "metadata": {},
   "outputs": [
    {
     "data": {
      "text/plain": [
       "(5, 3)"
      ]
     },
     "execution_count": 196,
     "metadata": {},
     "output_type": "execute_result"
    }
   ],
   "source": [
    "def sum_deff(a,b):\n",
    "    return a+b,a-b\n",
    "sum_deff(4,1)"
   ]
  },
  {
   "cell_type": "code",
   "execution_count": 199,
   "id": "868b8603",
   "metadata": {},
   "outputs": [
    {
     "name": "stdout",
     "output_type": "stream",
     "text": [
      "9\n",
      "1\n"
     ]
    }
   ],
   "source": [
    "d,e=sum_deff(5,4)\n",
    "print(d)\n",
    "print(e)"
   ]
  },
  {
   "cell_type": "markdown",
   "id": "84a99886",
   "metadata": {},
   "source": [
    "### Dictionary"
   ]
  },
  {
   "cell_type": "code",
   "execution_count": 1,
   "id": "2b612741",
   "metadata": {},
   "outputs": [
    {
     "data": {
      "text/plain": [
       "dict"
      ]
     },
     "execution_count": 1,
     "metadata": {},
     "output_type": "execute_result"
    }
   ],
   "source": [
    "a={}\n",
    "type(a)"
   ]
  },
  {
   "cell_type": "code",
   "execution_count": 43,
   "id": "36cea5dd",
   "metadata": {},
   "outputs": [],
   "source": [
    "a={\"nikhil\":1,\"nikhil\":2,\"nikhil\":4}"
   ]
  },
  {
   "cell_type": "code",
   "execution_count": 44,
   "id": "df1e4924",
   "metadata": {},
   "outputs": [
    {
     "data": {
      "text/plain": [
       "{'nikhil': 4}"
      ]
     },
     "execution_count": 44,
     "metadata": {},
     "output_type": "execute_result"
    }
   ],
   "source": [
    "a"
   ]
  },
  {
   "cell_type": "code",
   "execution_count": 9,
   "id": "dbc95f3e",
   "metadata": {},
   "outputs": [],
   "source": [
    "b=a.copy() #another dictinary"
   ]
  },
  {
   "cell_type": "code",
   "execution_count": 10,
   "id": "a792b638",
   "metadata": {},
   "outputs": [
    {
     "data": {
      "text/plain": [
       "{'nikhil': 2}"
      ]
     },
     "execution_count": 10,
     "metadata": {},
     "output_type": "execute_result"
    }
   ],
   "source": [
    "b"
   ]
  },
  {
   "cell_type": "code",
   "execution_count": null,
   "id": "1e0e62f8",
   "metadata": {},
   "outputs": [],
   "source": [
    "##creating dictonaries"
   ]
  },
  {
   "cell_type": "code",
   "execution_count": 11,
   "id": "b643bd55",
   "metadata": {},
   "outputs": [
    {
     "name": "stdout",
     "output_type": "stream",
     "text": [
      "{'the': 3, 'a': 10, 2: 3}\n"
     ]
    }
   ],
   "source": [
    "c=dict([(\"the\",3),(\"a\",10),(2,3)])\n",
    "print(c)"
   ]
  },
  {
   "cell_type": "code",
   "execution_count": 12,
   "id": "8cdb9c10",
   "metadata": {},
   "outputs": [],
   "source": [
    "e=dict.fromkeys([\"abc\",32,4])"
   ]
  },
  {
   "cell_type": "code",
   "execution_count": 13,
   "id": "b70d272b",
   "metadata": {},
   "outputs": [
    {
     "data": {
      "text/plain": [
       "{'abc': None, 32: None, 4: None}"
      ]
     },
     "execution_count": 13,
     "metadata": {},
     "output_type": "execute_result"
    }
   ],
   "source": [
    "e"
   ]
  },
  {
   "cell_type": "code",
   "execution_count": 17,
   "id": "aa1ff6ec",
   "metadata": {},
   "outputs": [
    {
     "name": "stdout",
     "output_type": "stream",
     "text": [
      "{'abc': 10, 32: 10, 4: 10}\n"
     ]
    }
   ],
   "source": [
    "e=dict.fromkeys([\"abc\",32,4],10)\n",
    "print(e)"
   ]
  },
  {
   "cell_type": "code",
   "execution_count": 19,
   "id": "b5635a76",
   "metadata": {},
   "outputs": [
    {
     "name": "stdout",
     "output_type": "stream",
     "text": [
      "{1: 2, 3: 4, 'list': [1, 23], 'dict': {1: 2}}\n"
     ]
    }
   ],
   "source": [
    "z={1:2,3:4,\"list\":[1,23],\"dict\":{1:2}}\n",
    "print(z)"
   ]
  },
  {
   "cell_type": "code",
   "execution_count": 32,
   "id": "ddb55658",
   "metadata": {},
   "outputs": [
    {
     "name": "stdout",
     "output_type": "stream",
     "text": [
      "{1: 2, 'list': 25}\n"
     ]
    }
   ],
   "source": [
    "z=dict([(1,2),('list',25)])\n",
    "print(z)"
   ]
  },
  {
   "cell_type": "code",
   "execution_count": 42,
   "id": "39c849a7",
   "metadata": {},
   "outputs": [
    {
     "name": "stdout",
     "output_type": "stream",
     "text": [
      "[1, 23]\n",
      "[1, 23]\n",
      "2\n"
     ]
    }
   ],
   "source": [
    "z={1:2,3:4,\"list\":[1,23],\"dict\":{1:2}}\n",
    "print(z.get('list'))\n",
    "print(z[\"list\"])\n",
    "print(z.get(1))"
   ]
  },
  {
   "cell_type": "code",
   "execution_count": 46,
   "id": "a50794c3",
   "metadata": {},
   "outputs": [
    {
     "name": "stdout",
     "output_type": "stream",
     "text": [
      "None\n"
     ]
    }
   ],
   "source": [
    "print(z.get('li'))"
   ]
  },
  {
   "cell_type": "code",
   "execution_count": 48,
   "id": "c78638fc",
   "metadata": {},
   "outputs": [
    {
     "name": "stdout",
     "output_type": "stream",
     "text": [
      "0\n"
     ]
    }
   ],
   "source": [
    "#if the value is not present\n",
    "print(z.get('li',0))\n",
    "#it will return the associated value with key if the key is present otherwise the second argument returned"
   ]
  },
  {
   "cell_type": "code",
   "execution_count": 50,
   "id": "16774ec5",
   "metadata": {},
   "outputs": [
    {
     "data": {
      "text/plain": [
       "dict_keys([1, 3, 'list', 'dict'])"
      ]
     },
     "execution_count": 50,
     "metadata": {},
     "output_type": "execute_result"
    }
   ],
   "source": [
    "z.keys()"
   ]
  },
  {
   "cell_type": "code",
   "execution_count": 51,
   "id": "3d44aa3f",
   "metadata": {},
   "outputs": [
    {
     "data": {
      "text/plain": [
       "dict_values([2, 4, [1, 23], {1: 2}])"
      ]
     },
     "execution_count": 51,
     "metadata": {},
     "output_type": "execute_result"
    }
   ],
   "source": [
    "z.values()"
   ]
  },
  {
   "cell_type": "code",
   "execution_count": 52,
   "id": "184566df",
   "metadata": {},
   "outputs": [
    {
     "data": {
      "text/plain": [
       "dict_items([(1, 2), (3, 4), ('list', [1, 23]), ('dict', {1: 2})])"
      ]
     },
     "execution_count": 52,
     "metadata": {},
     "output_type": "execute_result"
    }
   ],
   "source": [
    "z.items()\n",
    "#list of tuples"
   ]
  },
  {
   "cell_type": "code",
   "execution_count": 53,
   "id": "2a7a7768",
   "metadata": {},
   "outputs": [
    {
     "name": "stdout",
     "output_type": "stream",
     "text": [
      "1\n",
      "3\n",
      "list\n",
      "dict\n"
     ]
    }
   ],
   "source": [
    "z={1:2,3:4,\"list\":[1,23],\"dict\":{1:2}}\n",
    "for i in z:\n",
    "    print(i)\n",
    "#it print all the keys"
   ]
  },
  {
   "cell_type": "code",
   "execution_count": 55,
   "id": "b46c1a74",
   "metadata": {},
   "outputs": [
    {
     "name": "stdout",
     "output_type": "stream",
     "text": [
      "1 2\n",
      "3 4\n",
      "list [1, 23]\n",
      "dict {1: 2}\n"
     ]
    }
   ],
   "source": [
    "z={1:2,3:4,\"list\":[1,23],\"dict\":{1:2}}\n",
    "for i in z:\n",
    "    print(i,z[i])\n",
    "#it print all the keys with values"
   ]
  },
  {
   "cell_type": "code",
   "execution_count": 57,
   "id": "e801aca0",
   "metadata": {},
   "outputs": [
    {
     "name": "stdout",
     "output_type": "stream",
     "text": [
      "2\n",
      "4\n",
      "[1, 23]\n",
      "{1: 2}\n"
     ]
    }
   ],
   "source": [
    "for i in z.values():\n",
    "    print(i)\n",
    "#it prints all the values"
   ]
  },
  {
   "cell_type": "code",
   "execution_count": 58,
   "id": "78f59558",
   "metadata": {},
   "outputs": [
    {
     "data": {
      "text/plain": [
       "True"
      ]
     },
     "execution_count": 58,
     "metadata": {},
     "output_type": "execute_result"
    }
   ],
   "source": [
    "#check if the key is exist or not(only keys)\n",
    "z={1:2,3:4,\"list\":[1,23],\"dict\":{1:2}}\n",
    "\"list\" in z\n"
   ]
  },
  {
   "cell_type": "code",
   "execution_count": 59,
   "id": "5ec79fe7",
   "metadata": {},
   "outputs": [
    {
     "data": {
      "text/plain": [
       "False"
      ]
     },
     "execution_count": 59,
     "metadata": {},
     "output_type": "execute_result"
    }
   ],
   "source": [
    "\"li\" in z"
   ]
  },
  {
   "cell_type": "code",
   "execution_count": 62,
   "id": "cef1497e",
   "metadata": {},
   "outputs": [
    {
     "name": "stdout",
     "output_type": "stream",
     "text": [
      "{1: 2, 3: 4, 'list': [1, 23], 'dict': {1: 2}, 'tuple': 12}\n"
     ]
    }
   ],
   "source": [
    "#i want to add (tuple name)key to dictonary\n",
    "z['tuple']=12\n",
    "print(z)"
   ]
  },
  {
   "cell_type": "code",
   "execution_count": 63,
   "id": "adc504e6",
   "metadata": {},
   "outputs": [
    {
     "name": "stdout",
     "output_type": "stream",
     "text": [
      "{1: 2, 3: 4, 'list': [1, 23], 'dict': {1: 2}, 'tuple': 13}\n"
     ]
    }
   ],
   "source": [
    "#updating data\n",
    "z['tuple']=13\n",
    "print(z)"
   ]
  },
  {
   "cell_type": "code",
   "execution_count": 64,
   "id": "33a478b3",
   "metadata": {},
   "outputs": [
    {
     "name": "stdout",
     "output_type": "stream",
     "text": [
      "{1: 2, 8: 4, 3: 5, 'the': 4, 2: 100}\n"
     ]
    }
   ],
   "source": [
    "#update function\n",
    "a={1:2,8:4,3:6}\n",
    "b={3:5,'the':4,2:100}\n",
    "a.update(b)\n",
    "print(a)\n",
    "#it update values in a if the key is common and add keys from b that are not present in a"
   ]
  },
  {
   "cell_type": "code",
   "execution_count": 65,
   "id": "b5a817aa",
   "metadata": {},
   "outputs": [
    {
     "name": "stdout",
     "output_type": "stream",
     "text": [
      "{1: 2, 8: 4, 3: 5, 'the': 4}\n"
     ]
    }
   ],
   "source": [
    "#remove data\n",
    "#pop(key)\n",
    "a.pop(2)\n",
    "print(a)"
   ]
  },
  {
   "cell_type": "code",
   "execution_count": 66,
   "id": "1644ff25",
   "metadata": {},
   "outputs": [
    {
     "name": "stdout",
     "output_type": "stream",
     "text": [
      "{8: 4, 3: 5, 'the': 4}\n"
     ]
    }
   ],
   "source": [
    "del a[1]\n",
    "print(a)"
   ]
  },
  {
   "cell_type": "code",
   "execution_count": 67,
   "id": "62b31f47",
   "metadata": {},
   "outputs": [
    {
     "name": "stdout",
     "output_type": "stream",
     "text": [
      "{}\n"
     ]
    }
   ],
   "source": [
    "#to delete all the key but ditinary will be there\n",
    "#a.clear()\n",
    "v={1:2,3:4}\n",
    "v.clear()\n",
    "print(v)"
   ]
  },
  {
   "cell_type": "code",
   "execution_count": 69,
   "id": "b36c3d5d",
   "metadata": {},
   "outputs": [
    {
     "ename": "NameError",
     "evalue": "name 'v' is not defined",
     "output_type": "error",
     "traceback": [
      "\u001b[1;31m---------------------------------------------------------------------------\u001b[0m",
      "\u001b[1;31mNameError\u001b[0m                                 Traceback (most recent call last)",
      "Input \u001b[1;32mIn [69]\u001b[0m, in \u001b[0;36m<cell line: 2>\u001b[1;34m()\u001b[0m\n\u001b[0;32m      1\u001b[0m \u001b[38;5;66;03m#to delete dictinary also\u001b[39;00m\n\u001b[1;32m----> 2\u001b[0m \u001b[38;5;28;01mdel\u001b[39;00m v\n\u001b[0;32m      3\u001b[0m \u001b[38;5;28mprint\u001b[39m(v)\n",
      "\u001b[1;31mNameError\u001b[0m: name 'v' is not defined"
     ]
    }
   ],
   "source": [
    "#to delete dictinary also\n",
    "del v\n",
    "print(v)"
   ]
  },
  {
   "cell_type": "code",
   "execution_count": 85,
   "id": "cb7d6312",
   "metadata": {},
   "outputs": [
    {
     "ename": "KeyError",
     "evalue": "'this'",
     "output_type": "error",
     "traceback": [
      "\u001b[1;31m---------------------------------------------------------------------------\u001b[0m",
      "\u001b[1;31mKeyError\u001b[0m                                  Traceback (most recent call last)",
      "Input \u001b[1;32mIn [85]\u001b[0m, in \u001b[0;36m<cell line: 12>\u001b[1;34m()\u001b[0m\n\u001b[0;32m     11\u001b[0m d\u001b[38;5;241m=\u001b[39m{}\n\u001b[0;32m     12\u001b[0m \u001b[38;5;28;01mfor\u001b[39;00m w \u001b[38;5;129;01min\u001b[39;00m words:\n\u001b[1;32m---> 13\u001b[0m     d[w]\u001b[38;5;241m=\u001b[39m\u001b[43md\u001b[49m\u001b[43m[\u001b[49m\u001b[43mw\u001b[49m\u001b[43m]\u001b[49m\u001b[38;5;241m+\u001b[39m\u001b[38;5;241m1\u001b[39m\n",
      "\u001b[1;31mKeyError\u001b[0m: 'this'"
     ]
    }
   ],
   "source": [
    "#print all word with frequency k\n",
    "\"\"\"\n",
    "this is a word string having many many words\n",
    " 1    1 1  1      1      1     2   2     1\n",
    " print every with frequency 2\n",
    " means many should print\n",
    "\"\"\"\n",
    "lq=\"this is the word string having many many word\"\n",
    "k=2\n",
    "words=lq.split()\n",
    "d={}\n",
    "for w in words:\n",
    "    d[w]=d[w]+1"
   ]
  },
  {
   "cell_type": "code",
   "execution_count": 88,
   "id": "49c31fc2",
   "metadata": {},
   "outputs": [
    {
     "name": "stdout",
     "output_type": "stream",
     "text": [
      "{'this': 1, 'is': 1, 'the': 1, 'word': 2, 'string': 1, 'having': 1, 'many': 2}\n"
     ]
    }
   ],
   "source": [
    "lq=\"this is the word string having many many word\"\n",
    "k=2\n",
    "words=lq.split()\n",
    "d={}\n",
    "for w in words:\n",
    "    if w in d:\n",
    "        d[w]=d[w]+1\n",
    "    else:\n",
    "        d[w]=1\n",
    "print(d)"
   ]
  },
  {
   "cell_type": "code",
   "execution_count": 94,
   "id": "39534c10",
   "metadata": {},
   "outputs": [
    {
     "name": "stdout",
     "output_type": "stream",
     "text": [
      "word 2\n",
      "many 2\n",
      "Method !!\n",
      "word 2\n",
      "many 2\n"
     ]
    }
   ],
   "source": [
    "lq=\"this is the word string having many many word\"\n",
    "k=2\n",
    "words=lq.split()\n",
    "d={}\n",
    "for w in words:\n",
    "    if w in d:\n",
    "        d[w]=d[w]+1\n",
    "    else:\n",
    "        d[w]=1\n",
    "for i in d:\n",
    "    if d[i]==k:\n",
    "        print(i,d[i])\n",
    "print(\"Method !!\")\n",
    "for i in d.keys():\n",
    "    if d[i]==k:\n",
    "        print(i,d[i])"
   ]
  },
  {
   "cell_type": "code",
   "execution_count": 95,
   "id": "96025ba2",
   "metadata": {},
   "outputs": [
    {
     "name": "stdout",
     "output_type": "stream",
     "text": [
      "word 2\n",
      "many 2\n"
     ]
    }
   ],
   "source": [
    "lq=\"this is the word string having many many word\"\n",
    "k=2\n",
    "words=lq.split()\n",
    "d={}\n",
    "for w in words:\n",
    "    d[w]=d.get(w,0)+1\n",
    "for i in d:\n",
    "    if d[i]==k:\n",
    "        print(i,d[i])"
   ]
  },
  {
   "cell_type": "code",
   "execution_count": 103,
   "id": "fc1bf9ec",
   "metadata": {},
   "outputs": [
    {
     "name": "stdout",
     "output_type": "stream",
     "text": [
      "13\n",
      "2 12 2 11 12 2 1 2 2 11 12 2 6 \n",
      "{'2': 6, '12': 3, '11': 2, '1': 1, '6': 1}\n",
      "2 6\n"
     ]
    }
   ],
   "source": [
    "\"\"\"\n",
    "Maximum Frequency Number\n",
    "Send Feedback\n",
    "You are given an array of integers that contain numbers in random order. Write a program to find and return the number which occurs the maximum times in the given input.\n",
    "If two or more elements contend for the maximum frequency, return the element which occurs in the array first.\n",
    "Input Format:\n",
    "The first line of input contains an integer, that denotes the value of the size of the array. Let us denote it with the symbol N.\n",
    "The following line contains N space separated integers, that denote the value of the elements of the array.\n",
    "Output Format :\n",
    "The first and only line of output contains most frequent element in the given array.\n",
    "Constraints:\n",
    "0 <= N <= 10^8\n",
    "Time Limit: 1 sec\n",
    "Sample Input 1 :\n",
    "13\n",
    "2 12 2 11 12 2 1 2 2 11 12 2 6 \n",
    "Sample Output 1 :\n",
    "2\n",
    "Sample Input 2 :\n",
    "3\n",
    "1 4 5\n",
    "Sample Output 2 :\n",
    "1\n",
    "\"\"\"\n",
    "a=int(input())\n",
    "l=[i for i in input().split()[:a]]\n",
    "d={}\n",
    "for i in l:\n",
    "    d[i]=d.get(i,0)+1\n",
    "print(d)\n",
    "maximum=0\n",
    "key=0\n",
    "for i in d.keys():\n",
    "    if d[i]>maximum:\n",
    "        maximum=d[i]\n",
    "        key=i\n",
    "print(key,d[key])\n"
   ]
  },
  {
   "cell_type": "code",
   "execution_count": 107,
   "id": "275560ca",
   "metadata": {},
   "outputs": [
    {
     "name": "stdout",
     "output_type": "stream",
     "text": [
      "{'this': 1}\n"
     ]
    }
   ],
   "source": [
    "\n",
    "d={}\n",
    "d[\"this\"]=0\n",
    "d[\"this\"]=d[\"this\"]+1\n",
    "print(d)"
   ]
  },
  {
   "cell_type": "code",
   "execution_count": 115,
   "id": "ae486528",
   "metadata": {},
   "outputs": [
    {
     "name": "stdout",
     "output_type": "stream",
     "text": [
      "Abhishek Harshit Ayush Iti\n",
      "-1\n"
     ]
    }
   ],
   "source": [
    "\"\"\"\n",
    "Different Names\n",
    "Send Feedback\n",
    "In Little Flowers Public School, there are many students with same first names. You are given a task to find the students with same names. You will be given a string comprising of all the names of students and you have to tell the name and count of those students having same. If all the names are unique, print -1 instead.\n",
    "Note: We don't have to mention names whose frequency is 1.\n",
    "Input Format:\n",
    "The only line of input will have a string ‘str’ with space separated first names of students.\n",
    "Output Format:\n",
    "Print the names of students along with their count if they are repeating. If no name is repeating, print -1\n",
    "Constraints:\n",
    "1 <= |str| <= 10^5\n",
    "Time Limit: 1 second\n",
    "Sample Input 1:\n",
    "Abhishek harshit Ayush harshit Ayush Iti Deepak Ayush Iti\n",
    "Sample Output 1:\n",
    "harshit 2\n",
    "Ayush 3\n",
    "Iti 2\n",
    "Sample Input 2:\n",
    "Abhishek Harshit Ayush Iti\n",
    "Sample Output:\n",
    "-1\n",
    "\"\"\"\n",
    "def dica(qw):\n",
    "    rw={}\n",
    "    for i in qw:\n",
    "        rw[i]=rw.get(i,0)+1\n",
    "    count=0\n",
    "    for i in rw:\n",
    "        if rw[i]>1:\n",
    "            count=count+1\n",
    "    if count==0:\n",
    "        return -1\n",
    "    else:\n",
    "        return rw\n",
    "\n",
    "qw=[i for i in input().split()]\n",
    "sw=dica(qw)\n",
    "print(sw)\n",
    "\n"
   ]
  },
  {
   "cell_type": "markdown",
   "id": "1dbf921e",
   "metadata": {},
   "source": [
    "### sets"
   ]
  },
  {
   "cell_type": "code",
   "execution_count": 116,
   "id": "bf0f4658",
   "metadata": {},
   "outputs": [
    {
     "name": "stdout",
     "output_type": "stream",
     "text": [
      "{1, 2, 3, 4}\n"
     ]
    }
   ],
   "source": [
    "#sets are collection of data\n",
    "#which is not ordered\n",
    "#store some ting unique\n",
    "a={1,2,3,4,4}\n",
    "print(a)"
   ]
  },
  {
   "cell_type": "code",
   "execution_count": 124,
   "id": "9a4e5759",
   "metadata": {},
   "outputs": [
    {
     "name": "stdout",
     "output_type": "stream",
     "text": [
      "{'apple', 'abc', 23}\n"
     ]
    },
    {
     "data": {
      "text/plain": [
       "set"
      ]
     },
     "execution_count": 124,
     "metadata": {},
     "output_type": "execute_result"
    }
   ],
   "source": [
    "b={'abc','apple',23}\n",
    "print(b)\n",
    "type(b)"
   ]
  },
  {
   "cell_type": "code",
   "execution_count": 126,
   "id": "21d3956f",
   "metadata": {},
   "outputs": [
    {
     "data": {
      "text/plain": [
       "True"
      ]
     },
     "execution_count": 126,
     "metadata": {},
     "output_type": "execute_result"
    }
   ],
   "source": [
    "'abc' in b"
   ]
  },
  {
   "cell_type": "code",
   "execution_count": 127,
   "id": "e22685a8",
   "metadata": {},
   "outputs": [
    {
     "data": {
      "text/plain": [
       "False"
      ]
     },
     "execution_count": 127,
     "metadata": {},
     "output_type": "execute_result"
    }
   ],
   "source": [
    "21 in b"
   ]
  },
  {
   "cell_type": "code",
   "execution_count": 129,
   "id": "dba69aaf",
   "metadata": {},
   "outputs": [
    {
     "name": "stdout",
     "output_type": "stream",
     "text": [
      "apple\n",
      "abc\n",
      "23\n"
     ]
    }
   ],
   "source": [
    "for i in b:\n",
    "    print(i)"
   ]
  },
  {
   "cell_type": "code",
   "execution_count": 130,
   "id": "b1aba5b0",
   "metadata": {},
   "outputs": [
    {
     "data": {
      "text/plain": [
       "3"
      ]
     },
     "execution_count": 130,
     "metadata": {},
     "output_type": "execute_result"
    }
   ],
   "source": [
    "len(b)"
   ]
  },
  {
   "cell_type": "code",
   "execution_count": 131,
   "id": "564d1f09",
   "metadata": {},
   "outputs": [],
   "source": [
    "b.add('temp')"
   ]
  },
  {
   "cell_type": "code",
   "execution_count": 132,
   "id": "e972b1a2",
   "metadata": {},
   "outputs": [
    {
     "name": "stdout",
     "output_type": "stream",
     "text": [
      "{'apple', 'temp', 'abc', 23}\n"
     ]
    }
   ],
   "source": [
    "print(b)"
   ]
  },
  {
   "cell_type": "code",
   "execution_count": 135,
   "id": "e7d3a6d5",
   "metadata": {},
   "outputs": [
    {
     "name": "stdout",
     "output_type": "stream",
     "text": [
      "{'apple', 1, 2, 3, 'temp', 'jui', 23, 'abc'}\n"
     ]
    }
   ],
   "source": [
    "vf={1,2,3,'jui',23}\n",
    "b.update(vf)\n",
    "print(b)"
   ]
  },
  {
   "cell_type": "code",
   "execution_count": 136,
   "id": "cf6c6715",
   "metadata": {},
   "outputs": [],
   "source": [
    "b.remove('temp')"
   ]
  },
  {
   "cell_type": "code",
   "execution_count": 137,
   "id": "71dfba06",
   "metadata": {},
   "outputs": [
    {
     "name": "stdout",
     "output_type": "stream",
     "text": [
      "{'apple', 1, 2, 3, 'jui', 23, 'abc'}\n"
     ]
    }
   ],
   "source": [
    "print(b)"
   ]
  },
  {
   "cell_type": "code",
   "execution_count": 138,
   "id": "24635745",
   "metadata": {},
   "outputs": [],
   "source": [
    "b.discard(23)"
   ]
  },
  {
   "cell_type": "code",
   "execution_count": 139,
   "id": "b4ac9ddb",
   "metadata": {},
   "outputs": [
    {
     "name": "stdout",
     "output_type": "stream",
     "text": [
      "{'apple', 1, 2, 3, 'jui', 'abc'}\n"
     ]
    }
   ],
   "source": [
    "print(b)"
   ]
  },
  {
   "cell_type": "code",
   "execution_count": 140,
   "id": "f6722268",
   "metadata": {},
   "outputs": [
    {
     "name": "stdout",
     "output_type": "stream",
     "text": [
      "None\n"
     ]
    }
   ],
   "source": [
    "print(b.discard('rrr'))"
   ]
  },
  {
   "cell_type": "code",
   "execution_count": 143,
   "id": "2dfeebc3",
   "metadata": {},
   "outputs": [
    {
     "name": "stdout",
     "output_type": "stream",
     "text": [
      "{3, 'jui', 'abc'}\n"
     ]
    }
   ],
   "source": [
    "#one element will be remove we cant say(randomy deleted)\n",
    "b.pop()\n",
    "print(b)"
   ]
  },
  {
   "cell_type": "code",
   "execution_count": 146,
   "id": "33614c66",
   "metadata": {},
   "outputs": [
    {
     "ename": "AttributeError",
     "evalue": "'dict' object has no attribute 'add'",
     "output_type": "error",
     "traceback": [
      "\u001b[1;31m---------------------------------------------------------------------------\u001b[0m",
      "\u001b[1;31mAttributeError\u001b[0m                            Traceback (most recent call last)",
      "Input \u001b[1;32mIn [146]\u001b[0m, in \u001b[0;36m<cell line: 2>\u001b[1;34m()\u001b[0m\n\u001b[0;32m      1\u001b[0m s\u001b[38;5;241m=\u001b[39m{}\n\u001b[1;32m----> 2\u001b[0m \u001b[43ms\u001b[49m\u001b[38;5;241;43m.\u001b[39;49m\u001b[43madd\u001b[49m(\u001b[38;5;241m4\u001b[39m)\n\u001b[0;32m      3\u001b[0m \u001b[38;5;28mprint\u001b[39m(s)\n",
      "\u001b[1;31mAttributeError\u001b[0m: 'dict' object has no attribute 'add'"
     ]
    }
   ],
   "source": [
    "s={}\n",
    "s.add(4)\n",
    "print(s)\n",
    "#it gives error because it dosent know wheather it is set or dictinary"
   ]
  },
  {
   "cell_type": "markdown",
   "id": "31693665",
   "metadata": {},
   "source": [
    "### set functions"
   ]
  },
  {
   "cell_type": "code",
   "execution_count": 17,
   "id": "3a0a82ad",
   "metadata": {},
   "outputs": [
    {
     "data": {
      "text/plain": [
       "{3, 4}"
      ]
     },
     "execution_count": 17,
     "metadata": {},
     "output_type": "execute_result"
    }
   ],
   "source": [
    "a={1,2,3,4}\n",
    "b={3,4,5,6}\n",
    "a.intersection(b)#repeated"
   ]
  },
  {
   "cell_type": "code",
   "execution_count": 2,
   "id": "8c892b1f",
   "metadata": {},
   "outputs": [
    {
     "data": {
      "text/plain": [
       "{1, 2, 3, 4, 5, 6}"
      ]
     },
     "execution_count": 2,
     "metadata": {},
     "output_type": "execute_result"
    }
   ],
   "source": [
    "a.union(b)#unique"
   ]
  },
  {
   "cell_type": "code",
   "execution_count": 3,
   "id": "7e1fb91f",
   "metadata": {},
   "outputs": [
    {
     "data": {
      "text/plain": [
       "{1, 2}"
      ]
     },
     "execution_count": 3,
     "metadata": {},
     "output_type": "execute_result"
    }
   ],
   "source": [
    "#everu thing that is in a not in b(a-b)\n",
    "a.difference(b)"
   ]
  },
  {
   "cell_type": "code",
   "execution_count": 4,
   "id": "dbe202a0",
   "metadata": {},
   "outputs": [
    {
     "data": {
      "text/plain": [
       "{5, 6}"
      ]
     },
     "execution_count": 4,
     "metadata": {},
     "output_type": "execute_result"
    }
   ],
   "source": [
    "b.difference(a)"
   ]
  },
  {
   "cell_type": "code",
   "execution_count": 6,
   "id": "c3efcdcd",
   "metadata": {},
   "outputs": [
    {
     "data": {
      "text/plain": [
       "{1, 2, 5, 6}"
      ]
     },
     "execution_count": 6,
     "metadata": {},
     "output_type": "execute_result"
    }
   ],
   "source": [
    "#symentric difference\n",
    "#the union -intersection(either in a or in b but not in both)\n",
    "a.symmetric_difference(b)"
   ]
  },
  {
   "cell_type": "code",
   "execution_count": 7,
   "id": "96f91f0d",
   "metadata": {},
   "outputs": [],
   "source": [
    "a.intersection_update(b)"
   ]
  },
  {
   "cell_type": "code",
   "execution_count": 8,
   "id": "a0165c6e",
   "metadata": {},
   "outputs": [
    {
     "data": {
      "text/plain": [
       "{3, 4}"
      ]
     },
     "execution_count": 8,
     "metadata": {},
     "output_type": "execute_result"
    }
   ],
   "source": [
    "a"
   ]
  },
  {
   "cell_type": "code",
   "execution_count": 12,
   "id": "580f4ba0",
   "metadata": {},
   "outputs": [],
   "source": [
    "a.difference_update(b)"
   ]
  },
  {
   "cell_type": "code",
   "execution_count": 13,
   "id": "28371a67",
   "metadata": {},
   "outputs": [
    {
     "data": {
      "text/plain": [
       "{1, 2}"
      ]
     },
     "execution_count": 13,
     "metadata": {},
     "output_type": "execute_result"
    }
   ],
   "source": [
    "a"
   ]
  },
  {
   "cell_type": "code",
   "execution_count": 15,
   "id": "b13d095a",
   "metadata": {},
   "outputs": [],
   "source": [
    "a.symmetric_difference_update(b)"
   ]
  },
  {
   "cell_type": "code",
   "execution_count": 16,
   "id": "9cfcd360",
   "metadata": {},
   "outputs": [
    {
     "data": {
      "text/plain": [
       "{1, 2, 5, 6}"
      ]
     },
     "execution_count": 16,
     "metadata": {},
     "output_type": "execute_result"
    }
   ],
   "source": [
    "a"
   ]
  },
  {
   "cell_type": "code",
   "execution_count": 18,
   "id": "9edbab12",
   "metadata": {},
   "outputs": [
    {
     "data": {
      "text/plain": [
       "({1, 2, 3, 4}, {3, 4, 5, 6})"
      ]
     },
     "execution_count": 18,
     "metadata": {},
     "output_type": "execute_result"
    }
   ],
   "source": [
    "a,b"
   ]
  },
  {
   "cell_type": "code",
   "execution_count": 19,
   "id": "0ffffa3c",
   "metadata": {},
   "outputs": [
    {
     "data": {
      "text/plain": [
       "False"
      ]
     },
     "execution_count": 19,
     "metadata": {},
     "output_type": "execute_result"
    }
   ],
   "source": [
    "a.issubset(b)"
   ]
  },
  {
   "cell_type": "code",
   "execution_count": 20,
   "id": "b0ade6e1",
   "metadata": {},
   "outputs": [
    {
     "data": {
      "text/plain": [
       "False"
      ]
     },
     "execution_count": 20,
     "metadata": {},
     "output_type": "execute_result"
    }
   ],
   "source": [
    "b.issubset(a)"
   ]
  },
  {
   "cell_type": "code",
   "execution_count": 21,
   "id": "afaaba6c",
   "metadata": {},
   "outputs": [
    {
     "data": {
      "text/plain": [
       "True"
      ]
     },
     "execution_count": 21,
     "metadata": {},
     "output_type": "execute_result"
    }
   ],
   "source": [
    "c={3,4}\n",
    "c.issubset(a)"
   ]
  },
  {
   "cell_type": "code",
   "execution_count": 23,
   "id": "6fc68ece",
   "metadata": {},
   "outputs": [
    {
     "data": {
      "text/plain": [
       "True"
      ]
     },
     "execution_count": 23,
     "metadata": {},
     "output_type": "execute_result"
    }
   ],
   "source": [
    "#super set\n",
    "a.issuperset(c)"
   ]
  },
  {
   "cell_type": "code",
   "execution_count": 25,
   "id": "6883d858",
   "metadata": {},
   "outputs": [
    {
     "data": {
      "text/plain": [
       "False"
      ]
     },
     "execution_count": 25,
     "metadata": {},
     "output_type": "execute_result"
    }
   ],
   "source": [
    "a.isdisjoint(b)"
   ]
  },
  {
   "cell_type": "code",
   "execution_count": 26,
   "id": "4cb98657",
   "metadata": {},
   "outputs": [
    {
     "data": {
      "text/plain": [
       "True"
      ]
     },
     "execution_count": 26,
     "metadata": {},
     "output_type": "execute_result"
    }
   ],
   "source": [
    "d={7,8}\n",
    "a.isdisjoint(d)#not present in a"
   ]
  },
  {
   "cell_type": "code",
   "execution_count": 29,
   "id": "0edee9bd",
   "metadata": {},
   "outputs": [
    {
     "name": "stdout",
     "output_type": "stream",
     "text": [
      "10\n"
     ]
    }
   ],
   "source": [
    "#sum of all unique numbers\n",
    "\"\"\"\n",
    "[1,2,1,3,2,4,3]\n",
    "1234\n",
    "\"\"\"\n",
    "a=sum(set([1,2,1,2,3,4,4]))\n",
    "print(a)"
   ]
  },
  {
   "cell_type": "code",
   "execution_count": 34,
   "id": "91425525",
   "metadata": {},
   "outputs": [
    {
     "data": {
      "text/plain": [
       "18"
      ]
     },
     "execution_count": 34,
     "metadata": {},
     "output_type": "execute_result"
    }
   ],
   "source": [
    "def sumUnique(lio):\n",
    "    si=set()#create empty set\n",
    "    for i in lio:\n",
    "        si.add(i)\n",
    "    sumv=0\n",
    "    for i in si:\n",
    "        sumv=sumv+i\n",
    "    return sumv\n",
    "sumUnique([1,2,4,5,6,6,6,6,6])\n",
    "    "
   ]
  },
  {
   "cell_type": "code",
   "execution_count": 66,
   "id": "f01abb55",
   "metadata": {},
   "outputs": [
    {
     "name": "stdout",
     "output_type": "stream",
     "text": [
      "{'g': 2, 'd': 2, 'h': 1, 'I': 1, 'H': 1, 'a': 2}\n",
      "h\n"
     ]
    }
   ],
   "source": [
    "\"\"\"\n",
    "First non repeating character\n",
    "Send Feedback\n",
    "In a given string, find the first non-repeating character .You are given a string, that can contain repeating characters. Your task is to return the first character in this string that does not repeat. i.e., occurs exactly once. The string will contain characters only from English alphabet set, i.e., ('A' - 'Z') and ('a' - 'z'). If there is no non-repeating character print the first character of string.\n",
    "Input Format :\n",
    "Line 1 : A String , as mentioned above.\n",
    "Output Format :\n",
    "First non-repeating character\n",
    "Sample Input 1 :\n",
    "aDcadhc\n",
    "Sample Output 1:\n",
    "D\n",
    "Sample Input 2 :\n",
    "gdhIgHada\n",
    "Sample Output 2 :\n",
    "h\n",
    "\n",
    "\"\"\"\n",
    "\n",
    "a=\"gdhIgHada\"\n",
    "b={}\n",
    "for i in a:\n",
    "    b[i]=b.get(i,0)+1\n",
    "print(b)\n",
    "for i in b.keys():\n",
    "    if b[i]==1:\n",
    "        print(i)\n",
    "        break"
   ]
  },
  {
   "cell_type": "code",
   "execution_count": 74,
   "id": "becee45d",
   "metadata": {},
   "outputs": [
    {
     "name": "stdout",
     "output_type": "stream",
     "text": [
      "{'a': True, 'b': True, 'c': True, 'd': True}\n",
      "abcd\n"
     ]
    }
   ],
   "source": [
    "\"\"\"\n",
    "Extract Unique characters\n",
    "Send Feedback\n",
    "Given a string S, you need to remove all the duplicates. That means, the output string should contain each character only once. The respective order of characters should remain same, as in the input string.\n",
    "Input format:\n",
    "The first and only line of input contains a string, that denotes the value of S.\n",
    "Output format :\n",
    "The first and only line of output contains the updated string, as described in the task.\n",
    "Constraints :\n",
    "0 <= Length of S <= 10^8\n",
    "Time Limit: 1 sec\n",
    "Sample Input 1 :\n",
    "ababacd\n",
    "Sample Output 1 :\n",
    "abcd\n",
    "Sample Input 2 :\n",
    "abcde\n",
    "Sample Output 2 :\n",
    "abcde\n",
    "\n",
    "\"\"\"\n",
    "a=\"ababacd\"\n",
    "ans=''\n",
    "d={}\n",
    "for i in a:\n",
    "    if i not in d:\n",
    "        ans=ans+i\n",
    "        d[i]=True\n",
    "print(d)\n",
    "print(ans)"
   ]
  },
  {
   "cell_type": "code",
   "execution_count": 75,
   "id": "3a996790",
   "metadata": {},
   "outputs": [
    {
     "name": "stdout",
     "output_type": "stream",
     "text": [
      "python,java,sql are amazing langauges\n",
      "python,java,sql are amazing langauges\n"
     ]
    }
   ],
   "source": [
    "#string formating functions\n",
    "#string formating\n",
    "s1=\"python\"\n",
    "s2=\"java\"\n",
    "s3=\"sql\"\n",
    "print(\"{0},{1},{2} are amazing langauges\".format(s1,s2,s3))\n",
    "print(f\"{s1},{s2},{s3} are amazing langauges\")"
   ]
  },
  {
   "cell_type": "code",
   "execution_count": 76,
   "id": "17b587fa",
   "metadata": {},
   "outputs": [
    {
     "name": "stdout",
     "output_type": "stream",
     "text": [
      "I'am Nikhil Vickey from Nikhil's\n"
     ]
    }
   ],
   "source": [
    "print('I\\'am Nikhil Vickey from Nikhil\\'s')"
   ]
  },
  {
   "cell_type": "code",
   "execution_count": null,
   "id": "e98c601a",
   "metadata": {},
   "outputs": [],
   "source": [
    "\"\"\"\n",
    "\n",
    "         Int  Float  Bool  complex  String\n",
    "\n",
    " Int     yes  yes    yes    yes     yes\n",
    "\n",
    " Float   yes  yes    yes    yes     yes\n",
    " \n",
    " Bool    yes  yes   yes     yes     yes\n",
    "  \n",
    " complex No   No    yes     yes     yes\n",
    " \n",
    " \n",
    " \n",
    " String to int     string to float  string to bool  stringto complex\n",
    " \n",
    " int->int     y     int->float    y   int->bool    y     int->complex   y\n",
    " \n",
    " float->int   n     float->float  y   float->bool  y     float->complex  y\n",
    " \n",
    " bool->int    n     bool->float   n   bool->bool   y     bool->complex   n\n",
    " \n",
    " complex->int n     complex->float n  complex->bool y    complex->complex y\n",
    " \n",
    " string->int  n    string->float  n  string->bool   y   string->complex   n\n",
    " \n",
    " \n",
    " \n",
    " \n",
    " for string only convertable to int or float weather the same data\n",
    " type lie in quotes\n",
    "\n",
    "\"\"\"\""
   ]
  }
 ],
 "metadata": {
  "celltoolbar": "Raw Cell Format",
  "kernelspec": {
   "display_name": "Python 3 (ipykernel)",
   "language": "python",
   "name": "python3"
  },
  "language_info": {
   "codemirror_mode": {
    "name": "ipython",
    "version": 3
   },
   "file_extension": ".py",
   "mimetype": "text/x-python",
   "name": "python",
   "nbconvert_exporter": "python",
   "pygments_lexer": "ipython3",
   "version": "3.9.12"
  }
 },
 "nbformat": 4,
 "nbformat_minor": 5
}
