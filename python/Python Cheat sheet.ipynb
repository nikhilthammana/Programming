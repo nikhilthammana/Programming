{
 "cells": [
  {
   "cell_type": "markdown",
   "id": "93623180",
   "metadata": {},
   "source": [
    "### Strings Functions\n",
    "\n"
   ]
  },
  {
   "cell_type": "code",
   "execution_count": null,
   "id": "a6f0aa7a",
   "metadata": {},
   "outputs": [],
   "source": [
    "replace()\n",
    "title()\n",
    "capitalize()\n",
    "swapcase()\n",
    "count()\n",
    "find()\n",
    "split()\n",
    "strip()\n",
    "lstrip()\n",
    "rstrip()\n",
    "upper()\n",
    "lower()\n",
    "isupper()\n",
    "islower()\n",
    "index()\n",
    "sorted()\n",
    "min()\n",
    "max()"
   ]
  },
  {
   "cell_type": "code",
   "execution_count": 134,
   "id": "0aec4ccc",
   "metadata": {},
   "outputs": [
    {
     "name": "stdout",
     "output_type": "stream",
     "text": [
      "7\n",
      "hK thKs Ks nKkhKl\n",
      "Hi This Is Nikhil\n",
      "Hi this is nikhil\n",
      "['hi', 'this', 'is', 'nikhil']\n",
      "HI THIS IS NIKHIL\n",
      "hi this is nikhil\n",
      "HI THIS IS NIKHIL\n",
      "5\n",
      "False\n",
      "True\n",
      "1\n",
      "hi this is nikhil\n",
      "  hi this is nikhil\n",
      "hi this is nikhil   \n",
      "[' ', ' ', ' ', 'h', 'h', 'h', 'i', 'i', 'i', 'i', 'i', 'k', 'l', 'n', 's', 's', 't']\n",
      "hhhiiiiiklnsst\n",
      "t\n",
      " \n"
     ]
    }
   ],
   "source": [
    "a=\"hi this is nikhil\"\n",
    "print(a.find(\" \",4))\n",
    "print(a.replace(\"i\",\"K\"))\n",
    "print(a.title())\n",
    "print(a.capitalize())\n",
    "print(a.split())\n",
    "print(a.upper())\n",
    "print(a.lower())\n",
    "print(a.swapcase())\n",
    "print(a.count('i'))\n",
    "print(a[0].isupper())\n",
    "print(a[0].islower())\n",
    "print(a.index('i'))\n",
    "b=\"  hi this is nikhil   \"\n",
    "print(b.strip())\n",
    "print(b.rstrip())\n",
    "print(b.lstrip())\n",
    "print(sorted(a))\n",
    "c=''.join(sorted(a))\n",
    "print(c.strip())\n",
    "print(max(a))\n",
    "print(min(a))#it prints space\n",
    "c=1234"
   ]
  },
  {
   "cell_type": "code",
   "execution_count": 8,
   "id": "e159afc2",
   "metadata": {},
   "outputs": [
    {
     "name": "stdout",
     "output_type": "stream",
     "text": [
      "strsnsgs ss s\n",
      "strsnsgs is i\n"
     ]
    }
   ],
   "source": [
    "s=\"strinigs is i\"\n",
    "b=s.replace('i','s')\n",
    "print(b)\n",
    "#how many time the values should be replaced in string (bydefault all)\n",
    "c=s.replace('i','s',2)#the value replaces only two times\n",
    "print(c)"
   ]
  },
  {
   "cell_type": "markdown",
   "id": "6c1f00b3",
   "metadata": {},
   "source": [
    "### List Operations"
   ]
  },
  {
   "cell_type": "code",
   "execution_count": null,
   "id": "09fac76f",
   "metadata": {},
   "outputs": [],
   "source": [
    "insert()\n",
    "index()\n",
    "append()\n",
    "extend()\n",
    "reverse()\n",
    "sort()\n",
    "sorted()\n",
    "pop()\n",
    "del()\n",
    "remove()\n",
    "sort()\n",
    "sorted()\n",
    "count()\n",
    "copy()\n",
    "clear()\n",
    "min()\n",
    "max()\n",
    "sum()\n",
    "\n"
   ]
  },
  {
   "cell_type": "code",
   "execution_count": 53,
   "id": "61143429",
   "metadata": {},
   "outputs": [
    {
     "name": "stdout",
     "output_type": "stream",
     "text": [
      "1\n",
      "4\n",
      "['N', 'i', 'k', 'M', 'h', 'i', 'l']\n",
      "['N', 'i', 'k', 'M', 'h', 'i', 'l', [...]]\n",
      "\n",
      "N i k M h i l ['N', 'i', 'k', 'M', 'h', 'i', 'l', [...]] \n",
      "\n",
      "['N', 'i', 'k', 'h', 'i', 'l', 'N', 'i', 'k', 'h', 'i', 'l']\n",
      "['l', 'i', 'h', 'k', 'i', 'N']\n",
      "['l', 'k', 'i', 'i', 'h', 'N']\n",
      "['N', 'h', 'i', 'i', 'k', 'l']\n",
      "2\n",
      "['N', 'h', 'i', 'i', 'k', 'l']\n",
      "['h', 'i', 'i', 'k', 'l']\n",
      "['h', 'i', 'k', 'l']\n",
      "['k', 'l']\n",
      "[]\n",
      "4\n",
      "1\n",
      "10\n",
      "[4, 3, 2, 1]\n"
     ]
    }
   ],
   "source": [
    "a=['N','i','k','h','i','l']\n",
    "print(a.index('i'))\n",
    "print(a.index('i',2))\n",
    "a.insert(3,'M')\n",
    "print(a)\n",
    "a.append(a)\n",
    "print(a)\n",
    "print()\n",
    "for i in a:\n",
    "    print(i,end=\" \")\n",
    "print()\n",
    "#here the dot indicates that the list contains a reference to itself .it just aviod an infinite recursion during the print\n",
    "print()\n",
    "b=['N','i','k','h','i','l']\n",
    "b.extend(b)\n",
    "print(b)\n",
    "b=['N','i','k','h','i','l']\n",
    "b.reverse()\n",
    "print(b)\n",
    "b.sort(reverse=True)\n",
    "print(b)\n",
    "c=sorted(b)\n",
    "print(c)\n",
    "print(c.count('i'))\n",
    "d=c.copy()\n",
    "print(d)\n",
    "d.pop(0)\n",
    "print(d)\n",
    "d.remove('i')\n",
    "print(d)\n",
    "del d[0:2]\n",
    "print(d)\n",
    "d.clear()\n",
    "print(d)\n",
    "a=[1,2,3,4]\n",
    "print(max(a))\n",
    "print(min(a))\n",
    "print(sum(a))\n",
    "##to reverse\n",
    "print(list(reversed(a)))"
   ]
  },
  {
   "cell_type": "markdown",
   "id": "10343040",
   "metadata": {},
   "source": [
    "### Dictionaries"
   ]
  },
  {
   "cell_type": "code",
   "execution_count": null,
   "id": "1a9c76e8",
   "metadata": {},
   "outputs": [],
   "source": [
    "copy()\n",
    "keys()\n",
    "clear()\n",
    "fromkeys()\n",
    "items()\n",
    "values()\n",
    "get()\n",
    "pop()\n",
    "update()\n",
    "setdefault()\n",
    "popitem()"
   ]
  },
  {
   "cell_type": "code",
   "execution_count": 111,
   "id": "1f9107bd",
   "metadata": {},
   "outputs": [
    {
     "data": {
      "text/plain": [
       "dict"
      ]
     },
     "execution_count": 111,
     "metadata": {},
     "output_type": "execute_result"
    }
   ],
   "source": [
    "a={}\n",
    "type(a)"
   ]
  },
  {
   "cell_type": "code",
   "execution_count": 34,
   "id": "969f0525",
   "metadata": {},
   "outputs": [
    {
     "name": "stdout",
     "output_type": "stream",
     "text": [
      "{1: 2, 'name': 'Nikhil', 2: 4}\n",
      "dict_keys([1, 'name', 2])\n",
      "dict_values([2, 'Nikhil', 4])\n",
      "dict_items([(1, 2), ('name', 'Nikhil'), (2, 4)])\n",
      "Nikhil\n",
      "{1: 2, 'name': 'Nikhil', 2: 4}\n",
      "{'name': 'Nikhil', 2: 4}\n",
      "{'name': 'Nikhil'}\n",
      "{1: 2, 3: 4, 'name': 'nikhil'}\n",
      "{1: 2, 3: 4, 'name': 'nikhil', 'rollno': 557}\n",
      "{1: None, 'name': None, 2: None, 'rollno': None}\n",
      "{1: 10, 'name': 10, 2: 10, 'rollno': 10}\n",
      "{1: '1', 'name': None, 2: None, 'rollno': None}\n",
      "{1: 10, 'name': 10, 2: 10, 'rollno': 10}\n",
      "{}\n"
     ]
    },
    {
     "ename": "NameError",
     "evalue": "name 'e' is not defined",
     "output_type": "error",
     "traceback": [
      "\u001b[1;31m---------------------------------------------------------------------------\u001b[0m",
      "\u001b[1;31mNameError\u001b[0m                                 Traceback (most recent call last)",
      "Input \u001b[1;32mIn [34]\u001b[0m, in \u001b[0;36m<cell line: 31>\u001b[1;34m()\u001b[0m\n\u001b[0;32m     29\u001b[0m \u001b[38;5;28mprint\u001b[39m(e)\n\u001b[0;32m     30\u001b[0m \u001b[38;5;28;01mdel\u001b[39;00m e \u001b[38;5;66;03m#it deletes the complete dictionary \u001b[39;00m\n\u001b[1;32m---> 31\u001b[0m \u001b[38;5;28mprint\u001b[39m(\u001b[43me\u001b[49m)\n",
      "\u001b[1;31mNameError\u001b[0m: name 'e' is not defined"
     ]
    }
   ],
   "source": [
    "a={1:2,'name':'Nikhil',2:4}\n",
    "print(a)\n",
    "print(a.keys())\n",
    "print(a.values())\n",
    "print(a.items())\n",
    "print(a.get('name'))\n",
    "b=a.copy()\n",
    "print(b)\n",
    "a.pop(1)\n",
    "print(a)\n",
    "a.popitem()#deletes last item\n",
    "print(a)\n",
    "a=dict([(1,2),(3,4),('name','nikhil')])\n",
    "print(a)\n",
    "#inserting into dictonary\n",
    "a['rollno']=557\n",
    "print(a)\n",
    "#adding multiple keys to dictinary(default values having null)\n",
    "e=dict.fromkeys([1,'name',2,'rollno'])\n",
    "print(e)\n",
    "f=dict.fromkeys([1,'name',2,'rollno'],10)\n",
    "print(f)\n",
    "#adding value to item\n",
    "e[1]='1'\n",
    "print(e)\n",
    "e.update(f)# all the exiting data over rided\n",
    "print(e)\n",
    "e.clear()#it clears all the data in dictionary\n",
    "print(e)\n",
    "del e #it deletes the complete dictionary \n",
    "print(e)"
   ]
  },
  {
   "cell_type": "markdown",
   "id": "a44169d7",
   "metadata": {},
   "source": [
    "###  tuples"
   ]
  },
  {
   "cell_type": "code",
   "execution_count": 30,
   "id": "79ae89bd",
   "metadata": {},
   "outputs": [
    {
     "name": "stdout",
     "output_type": "stream",
     "text": [
      "<class 'tuple'>\n"
     ]
    }
   ],
   "source": [
    "a=()\n",
    "print(type(a))"
   ]
  },
  {
   "cell_type": "code",
   "execution_count": 36,
   "id": "8086d3c8",
   "metadata": {},
   "outputs": [
    {
     "name": "stdout",
     "output_type": "stream",
     "text": [
      "1\n",
      "2\n",
      "(3, 3, 4, 4, 4, 4)\n"
     ]
    }
   ],
   "source": [
    "#if we want to pass more no of parameters we use *\n",
    "def a(c,d,*e):\n",
    "    print(c)\n",
    "    print(d)\n",
    "    print(e)\n",
    "#main function\n",
    "a(1,2,3,3,4,4,4,4)"
   ]
  },
  {
   "cell_type": "code",
   "execution_count": 44,
   "id": "15ee2fc8",
   "metadata": {},
   "outputs": [
    {
     "name": "stdout",
     "output_type": "stream",
     "text": [
      "1\n",
      "2\n",
      "6\n",
      "44\n",
      "1\n",
      "[1, 2, 3, 5, 5, 44]\n"
     ]
    }
   ],
   "source": [
    "a,b=(1,2)\n",
    "print(a)\n",
    "print(b)\n",
    "a=(1,2,3,44,5,5)\n",
    "print(len(a))\n",
    "print(max(a))\n",
    "print(min(a))\n",
    "print(sorted(a))\n"
   ]
  },
  {
   "cell_type": "markdown",
   "id": "e4585554",
   "metadata": {},
   "source": [
    "# Sets"
   ]
  },
  {
   "cell_type": "code",
   "execution_count": null,
   "id": "8dbf939e",
   "metadata": {},
   "outputs": [],
   "source": [
    "set operations\n",
    "add()\n",
    "clear()\n",
    "pop()\n",
    "union()\n",
    "update()\n",
    "discard()\n",
    "issuperset()\n",
    "issubset()\n",
    "intersection()\n",
    "difference()\n",
    "isdisjoint()\n",
    "setdiscard()\n",
    "copy()\n",
    "symmetric_difference()\n",
    "difference_update()\n",
    "symmetric_difference_update()\n",
    "intersection_update()\n",
    "max()\n",
    "min()"
   ]
  },
  {
   "cell_type": "code",
   "execution_count": 56,
   "id": "47491d49",
   "metadata": {},
   "outputs": [
    {
     "name": "stdout",
     "output_type": "stream",
     "text": [
      "set()\n",
      "<class 'set'>\n"
     ]
    }
   ],
   "source": [
    "#to create empty set\n",
    "s=set()\n",
    "print(s)\n",
    "print(type(s))"
   ]
  },
  {
   "cell_type": "code",
   "execution_count": 70,
   "id": "35d8da32",
   "metadata": {},
   "outputs": [
    {
     "name": "stdout",
     "output_type": "stream",
     "text": [
      "{1}\n"
     ]
    }
   ],
   "source": [
    "s.add(1)\n",
    "print(s)"
   ]
  },
  {
   "cell_type": "code",
   "execution_count": 83,
   "id": "3c101ff2",
   "metadata": {},
   "outputs": [
    {
     "data": {
      "text/plain": [
       "{1, 2, 3, 4, 5, 6, 7, 8}"
      ]
     },
     "execution_count": 83,
     "metadata": {},
     "output_type": "execute_result"
    }
   ],
   "source": [
    "s3={1,2,3,4,5,6,7}\n",
    "s4={2,2,3,5,8,1}\n",
    "s3.union(s4)\n",
    "## return all the elements from two sets with out repetable elements "
   ]
  },
  {
   "cell_type": "code",
   "execution_count": 82,
   "id": "f6656a3d",
   "metadata": {},
   "outputs": [
    {
     "data": {
      "text/plain": [
       "{1, 2, 3, 5}"
      ]
     },
     "execution_count": 82,
     "metadata": {},
     "output_type": "execute_result"
    }
   ],
   "source": [
    "s1={1,2,3,4,5,6,7}\n",
    "s2={1,2,3,5,8,1}\n",
    "s1.intersection(s2)\n",
    "## return duplicate elements from two sets"
   ]
  },
  {
   "cell_type": "code",
   "execution_count": 88,
   "id": "4bf17b0b",
   "metadata": {},
   "outputs": [
    {
     "name": "stdout",
     "output_type": "stream",
     "text": [
      "{4, 6, 7}\n",
      "{8}\n"
     ]
    }
   ],
   "source": [
    "s1={1,2,3,4,5,6,7}\n",
    "s2={1,2,3,5,8,1}\n",
    "print(s1.difference(s2))\n",
    "print(s2.difference(s1))\n",
    "#it returns set with elements that are not present in another set"
   ]
  },
  {
   "cell_type": "code",
   "execution_count": 90,
   "id": "1d748f61",
   "metadata": {},
   "outputs": [
    {
     "name": "stdout",
     "output_type": "stream",
     "text": [
      "{1, 2, 3, 5, 8}\n"
     ]
    }
   ],
   "source": [
    "s6={1,2,3,5,8,1}\n",
    "#copy of set\n",
    "s7=s6.copy()\n",
    "print(s7)"
   ]
  },
  {
   "cell_type": "code",
   "execution_count": 99,
   "id": "d514df41",
   "metadata": {},
   "outputs": [
    {
     "data": {
      "text/plain": [
       "{1, 2, 5, 6}"
      ]
     },
     "execution_count": 99,
     "metadata": {},
     "output_type": "execute_result"
    }
   ],
   "source": [
    "a={1,2,3,4}\n",
    "b={3,4,5,6}\n",
    "#symentric difference\n",
    "#the union -intersection(either in a or in b but not in both)\n",
    "a.symmetric_difference(b)"
   ]
  },
  {
   "cell_type": "code",
   "execution_count": 105,
   "id": "80b73297",
   "metadata": {},
   "outputs": [
    {
     "name": "stdout",
     "output_type": "stream",
     "text": [
      "{3, 4}\n"
     ]
    }
   ],
   "source": [
    "c={1,2,3,4}\n",
    "d={3,4,5,6}\n",
    "\n",
    "c.intersection_update(d)\n",
    "\n",
    "#the c will be update after intersection of both sets\n",
    "print(c)\n"
   ]
  },
  {
   "cell_type": "code",
   "execution_count": 106,
   "id": "288bb5ca",
   "metadata": {},
   "outputs": [
    {
     "name": "stdout",
     "output_type": "stream",
     "text": [
      "{1, 2, 5, 6}\n"
     ]
    }
   ],
   "source": [
    "c={1,2,3,4}\n",
    "d={3,4,5,6}\n",
    "\n",
    "c.symmetric_difference_update(d)\n",
    "\n",
    "#the c set will be updated the result of symmetric_difference of both sets\n",
    "print(c)\n"
   ]
  },
  {
   "cell_type": "code",
   "execution_count": 108,
   "id": "018119f5",
   "metadata": {},
   "outputs": [
    {
     "name": "stdout",
     "output_type": "stream",
     "text": [
      "{1, 2}\n"
     ]
    }
   ],
   "source": [
    "c={1,2,3,4}\n",
    "d={3,4,5,6}\n",
    "\n",
    "c.difference_update(d)\n",
    "#the c set will be updated the result of difference_update of both sets\n",
    "print(c)"
   ]
  },
  {
   "cell_type": "code",
   "execution_count": 109,
   "id": "23c7163b",
   "metadata": {},
   "outputs": [
    {
     "data": {
      "text/plain": [
       "True"
      ]
     },
     "execution_count": 109,
     "metadata": {},
     "output_type": "execute_result"
    }
   ],
   "source": [
    "c={1,2,3,4}\n",
    "d={3,4}\n",
    "d.issubset(c)"
   ]
  },
  {
   "cell_type": "code",
   "execution_count": 111,
   "id": "53d14062",
   "metadata": {},
   "outputs": [
    {
     "data": {
      "text/plain": [
       "True"
      ]
     },
     "execution_count": 111,
     "metadata": {},
     "output_type": "execute_result"
    }
   ],
   "source": [
    "c={1,2,3,4}\n",
    "d={3,4}\n",
    "c.issuperset(d)"
   ]
  },
  {
   "cell_type": "code",
   "execution_count": 120,
   "id": "34d885bd",
   "metadata": {},
   "outputs": [
    {
     "data": {
      "text/plain": [
       "True"
      ]
     },
     "execution_count": 120,
     "metadata": {},
     "output_type": "execute_result"
    }
   ],
   "source": [
    "a={1,2,3,4}\n",
    "d={7,8}\n",
    "a.isdisjoint(d)#the total elements in d set should not present in a if any one element present it returns false"
   ]
  },
  {
   "cell_type": "code",
   "execution_count": 125,
   "id": "478b445b",
   "metadata": {},
   "outputs": [
    {
     "data": {
      "text/plain": [
       "2"
      ]
     },
     "execution_count": 125,
     "metadata": {},
     "output_type": "execute_result"
    }
   ],
   "source": [
    "#pop():it removes random element in set\n",
    "a={5,4,2,3,4}\n",
    "a.pop()"
   ]
  },
  {
   "cell_type": "code",
   "execution_count": 135,
   "id": "938daf3a",
   "metadata": {},
   "outputs": [
    {
     "name": "stdout",
     "output_type": "stream",
     "text": [
      "{1, 2, 3, 5, 23, 'jui'}\n",
      "{1, 2, 3, 5, 'jui'}\n",
      "{1, 2, 5, 'jui'}\n",
      "set()\n"
     ]
    },
    {
     "ename": "NameError",
     "evalue": "name 'a' is not defined",
     "output_type": "error",
     "traceback": [
      "\u001b[1;31m---------------------------------------------------------------------------\u001b[0m",
      "\u001b[1;31mNameError\u001b[0m                                 Traceback (most recent call last)",
      "Input \u001b[1;32mIn [135]\u001b[0m, in \u001b[0;36m<cell line: 13>\u001b[1;34m()\u001b[0m\n\u001b[0;32m     11\u001b[0m \u001b[38;5;28mprint\u001b[39m(a)\n\u001b[0;32m     12\u001b[0m \u001b[38;5;28;01mdel\u001b[39;00m a\n\u001b[1;32m---> 13\u001b[0m \u001b[38;5;28mprint\u001b[39m(\u001b[43ma\u001b[49m)\n",
      "\u001b[1;31mNameError\u001b[0m: name 'a' is not defined"
     ]
    }
   ],
   "source": [
    "a={1,2,3,5}\n",
    "f={1,2,3,'jui',23}\n",
    "a.update(f)\n",
    "#it will added to list which are not present\n",
    "print(a)\n",
    "a.remove(23)\n",
    "print(a)\n",
    "a.discard(3)\n",
    "print(a)\n",
    "a.clear()\n",
    "print(a)\n",
    "del a\n",
    "print(a)"
   ]
  },
  {
   "cell_type": "code",
   "execution_count": 140,
   "id": "2a66f2f3",
   "metadata": {},
   "outputs": [
    {
     "name": "stdout",
     "output_type": "stream",
     "text": [
      "5\n",
      "1\n",
      "[1, 2, 3, 5]\n"
     ]
    }
   ],
   "source": [
    "a={1,2,3,5}\n",
    "print(max(a))\n",
    "print(min(a))\n",
    "print(sorted(a))"
   ]
  },
  {
   "cell_type": "code",
   "execution_count": 143,
   "id": "5fd5f745",
   "metadata": {},
   "outputs": [
    {
     "name": "stdout",
     "output_type": "stream",
     "text": [
      "{1, 2, 3, 4}\n"
     ]
    },
    {
     "ename": "KeyError",
     "evalue": "8",
     "output_type": "error",
     "traceback": [
      "\u001b[1;31m---------------------------------------------------------------------------\u001b[0m",
      "\u001b[1;31mKeyError\u001b[0m                                  Traceback (most recent call last)",
      "Input \u001b[1;32mIn [143]\u001b[0m, in \u001b[0;36m<cell line: 5>\u001b[1;34m()\u001b[0m\n\u001b[0;32m      3\u001b[0m a\u001b[38;5;241m.\u001b[39mremove(\u001b[38;5;241m5\u001b[39m)\n\u001b[0;32m      4\u001b[0m \u001b[38;5;28mprint\u001b[39m(a)\n\u001b[1;32m----> 5\u001b[0m \u001b[43ma\u001b[49m\u001b[38;5;241;43m.\u001b[39;49m\u001b[43mremove\u001b[49m\u001b[43m(\u001b[49m\u001b[38;5;241;43m8\u001b[39;49m\u001b[43m)\u001b[49m\n\u001b[0;32m      6\u001b[0m \u001b[38;5;28mprint\u001b[39m(a)\n",
      "\u001b[1;31mKeyError\u001b[0m: 8"
     ]
    }
   ],
   "source": [
    "## the difference between discard and remove method set is if the element is not present in set then remove() will raise the error\n",
    "a={1,2,3,4,5}\n",
    "a.remove(5)\n",
    "print(a)\n",
    "a.remove(8)\n",
    "print(a)"
   ]
  },
  {
   "cell_type": "code",
   "execution_count": 146,
   "id": "6950129d",
   "metadata": {},
   "outputs": [
    {
     "name": "stdout",
     "output_type": "stream",
     "text": [
      "{1, 2, 3, 4, 5}\n"
     ]
    }
   ],
   "source": [
    "a={1,2,3,4,5}\n",
    "a.discard(8)\n",
    "print(a)\n",
    "#if the elements not preset then it returns the list again with out any error"
   ]
  },
  {
   "cell_type": "code",
   "execution_count": null,
   "id": "52b8c731",
   "metadata": {},
   "outputs": [],
   "source": []
  }
 ],
 "metadata": {
  "kernelspec": {
   "display_name": "Python 3 (ipykernel)",
   "language": "python",
   "name": "python3"
  },
  "language_info": {
   "codemirror_mode": {
    "name": "ipython",
    "version": 3
   },
   "file_extension": ".py",
   "mimetype": "text/x-python",
   "name": "python",
   "nbconvert_exporter": "python",
   "pygments_lexer": "ipython3",
   "version": "3.9.12"
  }
 },
 "nbformat": 4,
 "nbformat_minor": 5
}
